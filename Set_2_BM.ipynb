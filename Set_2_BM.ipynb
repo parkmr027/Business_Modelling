{
  "nbformat": 4,
  "nbformat_minor": 0,
  "metadata": {
    "colab": {
      "provenance": []
    },
    "kernelspec": {
      "name": "python3",
      "display_name": "Python 3"
    },
    "language_info": {
      "name": "python"
    }
  },
  "cells": [
    {
      "cell_type": "markdown",
      "source": [
        "**Import required libraries**"
      ],
      "metadata": {
        "id": "IS3QDyPjitxt"
      }
    },
    {
      "cell_type": "code",
      "source": [
        "import math\n",
        "import numpy as np\n",
        "import pandas as pd\n",
        "import seaborn as sns\n",
        "from sklearn import metrics\n",
        "import matplotlib.pyplot as plt\n",
        "from sklearn.metrics import f1_score\n",
        "from sklearn.naive_bayes import GaussianNB\n",
        "from sklearn.metrics import confusion_matrix\n",
        "from sklearn.model_selection import LeavePOut\n",
        "from sklearn.tree import DecisionTreeClassifier\n",
        "from sklearn.metrics import plot_confusion_matrix\n",
        "from sklearn.linear_model import LogisticRegression\n",
        "from sklearn.model_selection import cross_val_score\n",
        "from sklearn.model_selection import cross_val_predict\n"
      ],
      "metadata": {
        "id": "QCWDuv8HVhwx"
      },
      "execution_count": 4,
      "outputs": []
    },
    {
      "cell_type": "code",
      "source": [
        "dataset= pd.read_csv(\"/content/Data_BM.csv\")\n",
        "dataset.head()\n"
      ],
      "metadata": {
        "id": "kl2nMUBMWDFv",
        "colab": {
          "base_uri": "https://localhost:8080/",
          "height": 206
        },
        "outputId": "1049e818-0e9d-4e70-f3d1-eb70982981bf"
      },
      "execution_count": 5,
      "outputs": [
        {
          "output_type": "execute_result",
          "data": {
            "text/plain": [
              "   Classlabel  x1  x2  x3  x4  x5  x6  x7  x8  x9  x10  x11  x12  x13  x14  \\\n",
              "0           0   0   1   1   0   1   1   0   0   0    0    0    0    1    1   \n",
              "1           1   0   1   0   1   1   1   0   0   0    0    0    1    1    1   \n",
              "2           0   1   1   1   0   0   0   1   1   1    0    1    0    0    0   \n",
              "3           0   1   1   1   0   0   0   1   1   1    0    0    0    0    0   \n",
              "4           0   1   0   1   0   0   0   1   1   1    1    0    0    0    0   \n",
              "\n",
              "   x15  x16  \n",
              "0    1    1  \n",
              "1    0    1  \n",
              "2    1    1  \n",
              "3    1    1  \n",
              "4    1    1  "
            ],
            "text/html": [
              "\n",
              "  <div id=\"df-90545f9d-6498-4e0b-af16-b96ee9d69d7d\">\n",
              "    <div class=\"colab-df-container\">\n",
              "      <div>\n",
              "<style scoped>\n",
              "    .dataframe tbody tr th:only-of-type {\n",
              "        vertical-align: middle;\n",
              "    }\n",
              "\n",
              "    .dataframe tbody tr th {\n",
              "        vertical-align: top;\n",
              "    }\n",
              "\n",
              "    .dataframe thead th {\n",
              "        text-align: right;\n",
              "    }\n",
              "</style>\n",
              "<table border=\"1\" class=\"dataframe\">\n",
              "  <thead>\n",
              "    <tr style=\"text-align: right;\">\n",
              "      <th></th>\n",
              "      <th>Classlabel</th>\n",
              "      <th>x1</th>\n",
              "      <th>x2</th>\n",
              "      <th>x3</th>\n",
              "      <th>x4</th>\n",
              "      <th>x5</th>\n",
              "      <th>x6</th>\n",
              "      <th>x7</th>\n",
              "      <th>x8</th>\n",
              "      <th>x9</th>\n",
              "      <th>x10</th>\n",
              "      <th>x11</th>\n",
              "      <th>x12</th>\n",
              "      <th>x13</th>\n",
              "      <th>x14</th>\n",
              "      <th>x15</th>\n",
              "      <th>x16</th>\n",
              "    </tr>\n",
              "  </thead>\n",
              "  <tbody>\n",
              "    <tr>\n",
              "      <th>0</th>\n",
              "      <td>0</td>\n",
              "      <td>0</td>\n",
              "      <td>1</td>\n",
              "      <td>1</td>\n",
              "      <td>0</td>\n",
              "      <td>1</td>\n",
              "      <td>1</td>\n",
              "      <td>0</td>\n",
              "      <td>0</td>\n",
              "      <td>0</td>\n",
              "      <td>0</td>\n",
              "      <td>0</td>\n",
              "      <td>0</td>\n",
              "      <td>1</td>\n",
              "      <td>1</td>\n",
              "      <td>1</td>\n",
              "      <td>1</td>\n",
              "    </tr>\n",
              "    <tr>\n",
              "      <th>1</th>\n",
              "      <td>1</td>\n",
              "      <td>0</td>\n",
              "      <td>1</td>\n",
              "      <td>0</td>\n",
              "      <td>1</td>\n",
              "      <td>1</td>\n",
              "      <td>1</td>\n",
              "      <td>0</td>\n",
              "      <td>0</td>\n",
              "      <td>0</td>\n",
              "      <td>0</td>\n",
              "      <td>0</td>\n",
              "      <td>1</td>\n",
              "      <td>1</td>\n",
              "      <td>1</td>\n",
              "      <td>0</td>\n",
              "      <td>1</td>\n",
              "    </tr>\n",
              "    <tr>\n",
              "      <th>2</th>\n",
              "      <td>0</td>\n",
              "      <td>1</td>\n",
              "      <td>1</td>\n",
              "      <td>1</td>\n",
              "      <td>0</td>\n",
              "      <td>0</td>\n",
              "      <td>0</td>\n",
              "      <td>1</td>\n",
              "      <td>1</td>\n",
              "      <td>1</td>\n",
              "      <td>0</td>\n",
              "      <td>1</td>\n",
              "      <td>0</td>\n",
              "      <td>0</td>\n",
              "      <td>0</td>\n",
              "      <td>1</td>\n",
              "      <td>1</td>\n",
              "    </tr>\n",
              "    <tr>\n",
              "      <th>3</th>\n",
              "      <td>0</td>\n",
              "      <td>1</td>\n",
              "      <td>1</td>\n",
              "      <td>1</td>\n",
              "      <td>0</td>\n",
              "      <td>0</td>\n",
              "      <td>0</td>\n",
              "      <td>1</td>\n",
              "      <td>1</td>\n",
              "      <td>1</td>\n",
              "      <td>0</td>\n",
              "      <td>0</td>\n",
              "      <td>0</td>\n",
              "      <td>0</td>\n",
              "      <td>0</td>\n",
              "      <td>1</td>\n",
              "      <td>1</td>\n",
              "    </tr>\n",
              "    <tr>\n",
              "      <th>4</th>\n",
              "      <td>0</td>\n",
              "      <td>1</td>\n",
              "      <td>0</td>\n",
              "      <td>1</td>\n",
              "      <td>0</td>\n",
              "      <td>0</td>\n",
              "      <td>0</td>\n",
              "      <td>1</td>\n",
              "      <td>1</td>\n",
              "      <td>1</td>\n",
              "      <td>1</td>\n",
              "      <td>0</td>\n",
              "      <td>0</td>\n",
              "      <td>0</td>\n",
              "      <td>0</td>\n",
              "      <td>1</td>\n",
              "      <td>1</td>\n",
              "    </tr>\n",
              "  </tbody>\n",
              "</table>\n",
              "</div>\n",
              "      <button class=\"colab-df-convert\" onclick=\"convertToInteractive('df-90545f9d-6498-4e0b-af16-b96ee9d69d7d')\"\n",
              "              title=\"Convert this dataframe to an interactive table.\"\n",
              "              style=\"display:none;\">\n",
              "        \n",
              "  <svg xmlns=\"http://www.w3.org/2000/svg\" height=\"24px\"viewBox=\"0 0 24 24\"\n",
              "       width=\"24px\">\n",
              "    <path d=\"M0 0h24v24H0V0z\" fill=\"none\"/>\n",
              "    <path d=\"M18.56 5.44l.94 2.06.94-2.06 2.06-.94-2.06-.94-.94-2.06-.94 2.06-2.06.94zm-11 1L8.5 8.5l.94-2.06 2.06-.94-2.06-.94L8.5 2.5l-.94 2.06-2.06.94zm10 10l.94 2.06.94-2.06 2.06-.94-2.06-.94-.94-2.06-.94 2.06-2.06.94z\"/><path d=\"M17.41 7.96l-1.37-1.37c-.4-.4-.92-.59-1.43-.59-.52 0-1.04.2-1.43.59L10.3 9.45l-7.72 7.72c-.78.78-.78 2.05 0 2.83L4 21.41c.39.39.9.59 1.41.59.51 0 1.02-.2 1.41-.59l7.78-7.78 2.81-2.81c.8-.78.8-2.07 0-2.86zM5.41 20L4 18.59l7.72-7.72 1.47 1.35L5.41 20z\"/>\n",
              "  </svg>\n",
              "      </button>\n",
              "      \n",
              "  <style>\n",
              "    .colab-df-container {\n",
              "      display:flex;\n",
              "      flex-wrap:wrap;\n",
              "      gap: 12px;\n",
              "    }\n",
              "\n",
              "    .colab-df-convert {\n",
              "      background-color: #E8F0FE;\n",
              "      border: none;\n",
              "      border-radius: 50%;\n",
              "      cursor: pointer;\n",
              "      display: none;\n",
              "      fill: #1967D2;\n",
              "      height: 32px;\n",
              "      padding: 0 0 0 0;\n",
              "      width: 32px;\n",
              "    }\n",
              "\n",
              "    .colab-df-convert:hover {\n",
              "      background-color: #E2EBFA;\n",
              "      box-shadow: 0px 1px 2px rgba(60, 64, 67, 0.3), 0px 1px 3px 1px rgba(60, 64, 67, 0.15);\n",
              "      fill: #174EA6;\n",
              "    }\n",
              "\n",
              "    [theme=dark] .colab-df-convert {\n",
              "      background-color: #3B4455;\n",
              "      fill: #D2E3FC;\n",
              "    }\n",
              "\n",
              "    [theme=dark] .colab-df-convert:hover {\n",
              "      background-color: #434B5C;\n",
              "      box-shadow: 0px 1px 3px 1px rgba(0, 0, 0, 0.15);\n",
              "      filter: drop-shadow(0px 1px 2px rgba(0, 0, 0, 0.3));\n",
              "      fill: #FFFFFF;\n",
              "    }\n",
              "  </style>\n",
              "\n",
              "      <script>\n",
              "        const buttonEl =\n",
              "          document.querySelector('#df-90545f9d-6498-4e0b-af16-b96ee9d69d7d button.colab-df-convert');\n",
              "        buttonEl.style.display =\n",
              "          google.colab.kernel.accessAllowed ? 'block' : 'none';\n",
              "\n",
              "        async function convertToInteractive(key) {\n",
              "          const element = document.querySelector('#df-90545f9d-6498-4e0b-af16-b96ee9d69d7d');\n",
              "          const dataTable =\n",
              "            await google.colab.kernel.invokeFunction('convertToInteractive',\n",
              "                                                     [key], {});\n",
              "          if (!dataTable) return;\n",
              "\n",
              "          const docLinkHtml = 'Like what you see? Visit the ' +\n",
              "            '<a target=\"_blank\" href=https://colab.research.google.com/notebooks/data_table.ipynb>data table notebook</a>'\n",
              "            + ' to learn more about interactive tables.';\n",
              "          element.innerHTML = '';\n",
              "          dataTable['output_type'] = 'display_data';\n",
              "          await google.colab.output.renderOutput(dataTable, element);\n",
              "          const docLink = document.createElement('div');\n",
              "          docLink.innerHTML = docLinkHtml;\n",
              "          element.appendChild(docLink);\n",
              "        }\n",
              "      </script>\n",
              "    </div>\n",
              "  </div>\n",
              "  "
            ]
          },
          "metadata": {},
          "execution_count": 5
        }
      ]
    },
    {
      "cell_type": "code",
      "source": [
        "X= np.array(dataset[[\"x1\",\"x2\",\"x3\",\"x4\",\"x5\",\"x6\",\"x7\",\"x8\",\"x9\",\"x10\",\"x11\",\"x12\",\"x13\",\"x14\",\"x15\",\"x16\"]])\n",
        "Y= np.array(dataset[\"Classlabel\"])"
      ],
      "metadata": {
        "id": "zyWpAxnDWIX6"
      },
      "execution_count": 6,
      "outputs": []
    },
    {
      "cell_type": "markdown",
      "source": [
        "#                                                           **Leave P Out**"
      ],
      "metadata": {
        "id": "r1LHThIij33C"
      }
    },
    {
      "cell_type": "code",
      "source": [
        "x_train,y_train,x_test,y_test = X[0:145],Y[0:145],X[145:232,],Y[145:232]"
      ],
      "metadata": {
        "id": "zQc51Q_QWMmh"
      },
      "execution_count": 7,
      "outputs": []
    },
    {
      "cell_type": "code",
      "source": [
        "dTree = DecisionTreeClassifier(criterion=\"entropy\",random_state=40)\n",
        "mdl1 = dTree.fit(x_train,y_train)\n",
        "y_pred = mdl1.predict(x_test)\n",
        "cm = confusion_matrix(y_test,y_pred)\n",
        "cm_display = metrics.ConfusionMatrixDisplay(confusion_matrix = cm, display_labels = [0,1])\n",
        "cm_display.plot(cmap=plt.cm.Blues,values_format='g')\n",
        "plt.show()\n"
      ],
      "metadata": {
        "id": "nmzNxsnveILh",
        "colab": {
          "base_uri": "https://localhost:8080/",
          "height": 279
        },
        "outputId": "abcae1f2-5866-4697-a9df-b9c6819a45e5"
      },
      "execution_count": 8,
      "outputs": [
        {
          "output_type": "display_data",
          "data": {
            "text/plain": [
              "<Figure size 432x288 with 2 Axes>"
            ],
            "image/png": "[encoded data removed]"
          },
          "metadata": {
            "needs_background": "light"
          }
        }
      ]
    },
    {
      "cell_type": "code",
      "source": [
        "#DECISION TREE"
      ],
      "metadata": {
        "id": "rbGWMcgbM3JY"
      },
      "execution_count": 9,
      "outputs": []
    },
    {
      "cell_type": "code",
      "source": [
        "TP = cm[0,0]\n",
        "TN = cm[1,1]\n",
        "FP = cm[0,1]\n",
        "FN = cm[1,0]\n",
        "# Accuracy\n",
        "classification_accuracy = ((TP + TN) / float(TP + TN + FP + FN)*100)\n",
        "\n",
        "print('Accuracy : {0:0.2f}'.format(classification_accuracy),'%')\n",
        "# Classification Error\n",
        "classification_error = ((FP + FN) / float(TP + TN + FP + FN)*100)\n",
        "\n",
        "print('Classification error : {0:0.2f}'.format(classification_error),'%')\n",
        "#Recall\n",
        "\n",
        "recall = (TP / float(TP + FN)*100)\n",
        "\n",
        "print('Recall : {0:0.2f}'.format(recall),\"%\")\n",
        "\n",
        "# Precision\n",
        "precision = (TP / float(TP + FP)*100)\n",
        "\n",
        "print('Precision : {0:0.2f}'.format(precision),\"%\")\n",
        "\n",
        "# Specificity\n",
        "\n",
        "specificity = (TN / (TN + FP)*100)\n",
        "\n",
        "print('Specificity : {0:0.2f}'.format(specificity),'%')\n",
        "# Sensitivity\n",
        "\n",
        "Sensitivity = (TP / (TP + FN)*100)\n",
        "\n",
        "print('Sensitivity : {0:0.2f}'.format(Sensitivity),\"%\")\n",
        "# G Mean\n",
        "gmean = math.sqrt(specificity*Sensitivity)\n",
        "print('G Mean : {0:0.2f}'.format(gmean),'%')\n"
      ],
      "metadata": {
        "colab": {
          "base_uri": "https://localhost:8080/"
        },
        "id": "XYxqBioaZJ3t",
        "outputId": "50c8749d-5a92-47ae-8fac-fa45b46f35fd"
      },
      "execution_count": 10,
      "outputs": [
        {
          "output_type": "stream",
          "name": "stdout",
          "text": [
            "Accuracy : 94.25 %\n",
            "Classification error : 5.75 %\n",
            "Recall : 97.56 %\n",
            "Precision : 90.91 %\n",
            "Specificity : 91.30 %\n",
            "Sensitivity : 97.56 %\n",
            "G Mean : 94.38 %\n"
          ]
        }
      ]
    },
    {
      "cell_type": "code",
      "source": [
        "# LOGISTIC REGRESSION"
      ],
      "metadata": {
        "id": "L59QOTdRaJWo"
      },
      "execution_count": 11,
      "outputs": []
    },
    {
      "cell_type": "code",
      "source": [
        "LR = LogisticRegression(solver='liblinear',random_state=0)\n",
        "mdl2 = LR.fit(x_train,y_train)\n",
        "y_pred = mdl2.predict(x_test)\n",
        "cm = confusion_matrix(y_test,y_pred)\n",
        "cm_display = metrics.ConfusionMatrixDisplay(confusion_matrix = cm, display_labels = [0,1])\n",
        "cm_display.plot(cmap=plt.cm.Blues,values_format='g')\n",
        "plt.show()"
      ],
      "metadata": {
        "colab": {
          "base_uri": "https://localhost:8080/",
          "height": 279
        },
        "id": "LQEYbztvZqzd",
        "outputId": "ae703bc4-b45a-4186-f6d8-9cecc63ae957"
      },
      "execution_count": 12,
      "outputs": [
        {
          "output_type": "display_data",
          "data": {
            "text/plain": [
              "<Figure size 432x288 with 2 Axes>"
            ],
            "image/png": "[encoded data removed]"
          },
          "metadata": {
            "needs_background": "light"
          }
        }
      ]
    },
    {
      "cell_type": "code",
      "source": [
        "TP = cm[0,0]\n",
        "TN = cm[1,1]\n",
        "FP = cm[0,1]\n",
        "FN = cm[1,0]\n",
        "# Accuracy\n",
        "classification_accuracy = ((TP + TN) / float(TP + TN + FP + FN)*100)\n",
        "\n",
        "print('Accuracy : {0:0.2f}'.format(classification_accuracy),'%')\n",
        "# Classification Error\n",
        "classification_error = ((FP + FN) / float(TP + TN + FP + FN)*100)\n",
        "\n",
        "print('Classification error : {0:0.2f}'.format(classification_error),'%')\n",
        "#Recall\n",
        "\n",
        "recall = (TP / float(TP + FN)*100)\n",
        "\n",
        "print('Recall : {0:0.2f}'.format(recall),\"%\")\n",
        "\n",
        "# Precision\n",
        "precision = (TP / float(TP + FP)*100)\n",
        "\n",
        "print('Precision : {0:0.2f}'.format(precision),\"%\")\n",
        "\n",
        "# Specificity\n",
        "\n",
        "specificity = (TN / (TN + FP)*100)\n",
        "\n",
        "print('Specificity : {0:0.2f}'.format(specificity),'%')\n",
        "# Sensitivity\n",
        "\n",
        "Sensitivity = (TP / (TP + FN)*100)\n",
        "\n",
        "print('Sensitivity : {0:0.2f}'.format(Sensitivity),\"%\")\n",
        "# G Mean\n",
        "gmean = math.sqrt(specificity*Sensitivity)\n",
        "print('G Mean : {0:0.2f}'.format(gmean),'%')"
      ],
      "metadata": {
        "colab": {
          "base_uri": "https://localhost:8080/"
        },
        "id": "biXDZkJrbhLI",
        "outputId": "cefcd9c5-2998-4de7-fac9-3aa8069ba16a"
      },
      "execution_count": 13,
      "outputs": [
        {
          "output_type": "stream",
          "name": "stdout",
          "text": [
            "Accuracy : 95.40 %\n",
            "Classification error : 4.60 %\n",
            "Recall : 100.00 %\n",
            "Precision : 90.91 %\n",
            "Specificity : 91.49 %\n",
            "Sensitivity : 100.00 %\n",
            "G Mean : 95.65 %\n"
          ]
        }
      ]
    },
    {
      "cell_type": "code",
      "source": [
        "# Gaussian Naive Bayes"
      ],
      "metadata": {
        "id": "Ne_JLJPdNcs0"
      },
      "execution_count": 14,
      "outputs": []
    },
    {
      "cell_type": "code",
      "source": [
        "gnb = GaussianNB()\n",
        "mdl3 = gnb.fit(x_train,y_train)\n",
        "y_pred = mdl3.predict(x_test)\n",
        "cm = confusion_matrix(y_test,y_pred)\n",
        "cm_display = metrics.ConfusionMatrixDisplay(confusion_matrix = cm, display_labels = [0,1])\n",
        "cm_display.plot(cmap=plt.cm.Blues,values_format='g')\n",
        "plt.show()\n",
        "TP = cm[0,0]\n",
        "TN = cm[1,1]\n",
        "FP = cm[0,1]\n",
        "FN = cm[1,0]\n",
        "# Accuracy\n",
        "classification_accuracy = ((TP + TN) / float(TP + TN + FP + FN)*100)\n",
        "\n",
        "print('Accuracy : {0:0.2f}'.format(classification_accuracy),'%')\n",
        "# Classification Error\n",
        "classification_error = ((FP + FN) / float(TP + TN + FP + FN)*100)\n",
        "\n",
        "print('Classification error : {0:0.2f}'.format(classification_error),'%')\n",
        "#Recall\n",
        "\n",
        "recall = (TP / float(TP + FN)*100)\n",
        "\n",
        "print('Recall : {0:0.2f}'.format(recall),\"%\")\n",
        "\n",
        "# Precision\n",
        "precision = (TP / float(TP + FP)*100)\n",
        "\n",
        "print('Precision : {0:0.2f}'.format(precision),\"%\")\n",
        "\n",
        "# Specificity\n",
        "\n",
        "specificity = (TN / (TN + FP)*100)\n",
        "\n",
        "print('Specificity : {0:0.2f}'.format(specificity),'%')\n",
        "# Sensitivity\n",
        "\n",
        "Sensitivity = (TP / (TP + FN)*100)\n",
        "\n",
        "print('Sensitivity : {0:0.2f}'.format(Sensitivity),\"%\")\n",
        "# G Mean\n",
        "gmean = math.sqrt(specificity*Sensitivity)\n",
        "print('G Mean : {0:0.2f}'.format(gmean),'%')"
      ],
      "metadata": {
        "colab": {
          "base_uri": "https://localhost:8080/",
          "height": 400
        },
        "id": "ydD2EPjEc7JU",
        "outputId": "8dbc4e0c-aa71-4b8b-dbcb-2f97bbe2cc9a"
      },
      "execution_count": 15,
      "outputs": [
        {
          "output_type": "display_data",
          "data": {
            "text/plain": [
              "<Figure size 432x288 with 2 Axes>"
            ],
            "image/png": "[encoded data removed]"
          },
          "metadata": {
            "needs_background": "light"
          }
        },
        {
          "output_type": "stream",
          "name": "stdout",
          "text": [
            "Accuracy : 90.80 %\n",
            "Classification error : 9.20 %\n",
            "Recall : 97.37 %\n",
            "Precision : 84.09 %\n",
            "Specificity : 85.71 %\n",
            "Sensitivity : 97.37 %\n",
            "G Mean : 91.36 %\n"
          ]
        }
      ]
    },
    {
      "cell_type": "code",
      "source": [
        "# K Nearest"
      ],
      "metadata": {
        "id": "vLN9H3nAd9IS"
      },
      "execution_count": 16,
      "outputs": []
    },
    {
      "cell_type": "code",
      "source": [],
      "metadata": {
        "id": "v0WMtle4fFAH"
      },
      "execution_count": 16,
      "outputs": []
    },
    {
      "cell_type": "code",
      "source": [
        "from sklearn.neighbors import KNeighborsClassifier\n",
        "knn = KNeighborsClassifier(n_neighbors=5)\n",
        "mdl4 = knn.fit(x_train,y_train)\n",
        "y_pred = mdl4.predict(x_test)\n",
        "cm = confusion_matrix(y_test,y_pred)\n",
        "cm_display = metrics.ConfusionMatrixDisplay(confusion_matrix = cm, display_labels = [0,1])\n",
        "cm_display.plot(cmap=plt.cm.Blues,values_format='g')\n",
        "plt.show()\n",
        "TP = cm[0,0]\n",
        "TN = cm[1,1]\n",
        "FP = cm[0,1]\n",
        "FN = cm[1,0]\n",
        "# Accuracy\n",
        "classification_accuracy = ((TP + TN) / float(TP + TN + FP + FN)*100)\n",
        "\n",
        "print('Accuracy : {0:0.2f}'.format(classification_accuracy),'%')\n",
        "# Classification Error\n",
        "classification_error = ((FP + FN) / float(TP + TN + FP + FN)*100)\n",
        "\n",
        "print('Classification error : {0:0.2f}'.format(classification_error),'%')\n",
        "#Recall\n",
        "\n",
        "recall = (TP / float(TP + FN)*100)\n",
        "\n",
        "print('Recall : {0:0.2f}'.format(recall),\"%\")\n",
        "\n",
        "# Precision\n",
        "precision = (TP / float(TP + FP)*100)\n",
        "\n",
        "print('Precision : {0:0.2f}'.format(precision),\"%\")\n",
        "\n",
        "# Specificity\n",
        "\n",
        "specificity = (TN / (TN + FP)*100)\n",
        "\n",
        "print('Specificity : {0:0.2f}'.format(specificity),'%')\n",
        "# Sensitivity\n",
        "\n",
        "Sensitivity = (TP / (TP + FN)*100)\n",
        "\n",
        "print('Sensitivity : {0:0.2f}'.format(Sensitivity),\"%\")\n",
        "# G Mean\n",
        "gmean = math.sqrt(specificity*Sensitivity)\n",
        "print('G Mean : {0:0.2f}'.format(gmean),'%')"
      ],
      "metadata": {
        "colab": {
          "base_uri": "https://localhost:8080/",
          "height": 400
        },
        "id": "WOajIZnIe_BR",
        "outputId": "67836813-cb4e-4f5d-cd4d-47a2245244e1"
      },
      "execution_count": 17,
      "outputs": [
        {
          "output_type": "display_data",
          "data": {
            "text/plain": [
              "<Figure size 432x288 with 2 Axes>"
            ],
            "image/png": "[encoded data removed]"
          },
          "metadata": {
            "needs_background": "light"
          }
        },
        {
          "output_type": "stream",
          "name": "stdout",
          "text": [
            "Accuracy : 93.10 %\n",
            "Classification error : 6.90 %\n",
            "Recall : 97.50 %\n",
            "Precision : 88.64 %\n",
            "Specificity : 89.36 %\n",
            "Sensitivity : 97.50 %\n",
            "G Mean : 93.34 %\n"
          ]
        }
      ]
    },
    {
      "cell_type": "code",
      "source": [
        "# Neural Network"
      ],
      "metadata": {
        "id": "S1hUeAvW1mMS"
      },
      "execution_count": 18,
      "outputs": []
    },
    {
      "cell_type": "code",
      "source": [
        "from keras.models import Sequential\n",
        "from keras.layers import Dense, Activation\n",
        "from sklearn.metrics import confusion_matrix\n",
        "from sklearn.metrics import f1_score\n",
        "from sklearn.metrics import accuracy_score\n",
        "from sklearn.model_selection import train_test_split\n",
        "from keras.metrics.metrics import accuracy"
      ],
      "metadata": {
        "id": "EAA4FGLypZxk"
      },
      "execution_count": 19,
      "outputs": []
    },
    {
      "cell_type": "code",
      "source": [
        "model = Sequential()\n",
        "model.add(Dense(20, input_shape=(16,)))\n",
        "model.add(Activation('relu'))\n",
        "model.add(Dense(1))\n",
        "model.add(Activation('sigmoid'))\n"
      ],
      "metadata": {
        "id": "2Z4KJye4p5VH"
      },
      "execution_count": 20,
      "outputs": []
    },
    {
      "cell_type": "code",
      "source": [],
      "metadata": {
        "id": "5UrZUKHLORjL"
      },
      "execution_count": 20,
      "outputs": []
    },
    {
      "cell_type": "code",
      "source": [
        "model.compile(loss='mean_squared_error', optimizer='sgd', metrics=['accuracy'])\n",
        "model.summary()"
      ],
      "metadata": {
        "id": "swBTzGOPrB_O",
        "colab": {
          "base_uri": "https://localhost:8080/"
        },
        "outputId": "2856d18f-f3ad-446e-b61a-a65820eae439"
      },
      "execution_count": 21,
      "outputs": [
        {
          "output_type": "stream",
          "name": "stdout",
          "text": [
            "Model: \"sequential\"\n",
            "_________________________________________________________________\n",
            " Layer (type)                Output Shape              Param #   \n",
            "=================================================================\n",
            " dense (Dense)               (None, 20)                340       \n",
            "                                                                 \n",
            " activation (Activation)     (None, 20)                0         \n",
            "                                                                 \n",
            " dense_1 (Dense)             (None, 1)                 21        \n",
            "                                                                 \n",
            " activation_1 (Activation)   (None, 1)                 0         \n",
            "                                                                 \n",
            "=================================================================\n",
            "Total params: 361\n",
            "Trainable params: 361\n",
            "Non-trainable params: 0\n",
            "_________________________________________________________________\n"
          ]
        }
      ]
    },
    {
      "cell_type": "code",
      "source": [
        "mdl = model.fit(x_train,y_train, epochs=100)"
      ],
      "metadata": {
        "id": "--HKNJbr2Gk0",
        "colab": {
          "base_uri": "https://localhost:8080/"
        },
        "outputId": "ecfd3a39-adf9-48d1-d6ca-aacebde145f4"
      },
      "execution_count": 22,
      "outputs": [
        {
          "output_type": "stream",
          "name": "stdout",
          "text": [
            "Epoch 1/100\n",
            "5/5 [==============================] - 1s 3ms/step - loss: 0.3085 - accuracy: 0.3586\n",
            "Epoch 2/100\n",
            "5/5 [==============================] - 0s 3ms/step - loss: 0.3022 - accuracy: 0.3793\n",
            "Epoch 3/100\n",
            "5/5 [==============================] - 0s 2ms/step - loss: 0.2959 - accuracy: 0.3793\n",
            "Epoch 4/100\n",
            "5/5 [==============================] - 0s 3ms/step - loss: 0.2900 - accuracy: 0.4276\n",
            "Epoch 5/100\n",
            "5/5 [==============================] - 0s 3ms/step - loss: 0.2843 - accuracy: 0.4345\n",
            "Epoch 6/100\n",
            "5/5 [==============================] - 0s 3ms/step - loss: 0.2788 - accuracy: 0.4345\n",
            "Epoch 7/100\n",
            "5/5 [==============================] - 0s 2ms/step - loss: 0.2736 - accuracy: 0.4759\n",
            "Epoch 8/100\n",
            "5/5 [==============================] - 0s 2ms/step - loss: 0.2685 - accuracy: 0.4897\n",
            "Epoch 9/100\n",
            "5/5 [==============================] - 0s 3ms/step - loss: 0.2636 - accuracy: 0.4897\n",
            "Epoch 10/100\n",
            "5/5 [==============================] - 0s 2ms/step - loss: 0.2587 - accuracy: 0.5103\n",
            "Epoch 11/100\n",
            "5/5 [==============================] - 0s 3ms/step - loss: 0.2542 - accuracy: 0.5241\n",
            "Epoch 12/100\n",
            "5/5 [==============================] - 0s 2ms/step - loss: 0.2497 - accuracy: 0.5586\n",
            "Epoch 13/100\n",
            "5/5 [==============================] - 0s 2ms/step - loss: 0.2455 - accuracy: 0.5862\n",
            "Epoch 14/100\n",
            "5/5 [==============================] - 0s 2ms/step - loss: 0.2412 - accuracy: 0.6069\n",
            "Epoch 15/100\n",
            "5/5 [==============================] - 0s 3ms/step - loss: 0.2372 - accuracy: 0.6207\n",
            "Epoch 16/100\n",
            "5/5 [==============================] - 0s 2ms/step - loss: 0.2331 - accuracy: 0.6483\n",
            "Epoch 17/100\n",
            "5/5 [==============================] - 0s 3ms/step - loss: 0.2292 - accuracy: 0.6552\n",
            "Epoch 18/100\n",
            "5/5 [==============================] - 0s 3ms/step - loss: 0.2256 - accuracy: 0.6828\n",
            "Epoch 19/100\n",
            "5/5 [==============================] - 0s 2ms/step - loss: 0.2220 - accuracy: 0.6897\n",
            "Epoch 20/100\n",
            "5/5 [==============================] - 0s 2ms/step - loss: 0.2185 - accuracy: 0.6966\n",
            "Epoch 21/100\n",
            "5/5 [==============================] - 0s 2ms/step - loss: 0.2151 - accuracy: 0.7103\n",
            "Epoch 22/100\n",
            "5/5 [==============================] - 0s 4ms/step - loss: 0.2119 - accuracy: 0.7172\n",
            "Epoch 23/100\n",
            "5/5 [==============================] - 0s 2ms/step - loss: 0.2088 - accuracy: 0.7448\n",
            "Epoch 24/100\n",
            "5/5 [==============================] - 0s 2ms/step - loss: 0.2058 - accuracy: 0.7655\n",
            "Epoch 25/100\n",
            "5/5 [==============================] - 0s 4ms/step - loss: 0.2029 - accuracy: 0.7793\n",
            "Epoch 26/100\n",
            "5/5 [==============================] - 0s 3ms/step - loss: 0.2000 - accuracy: 0.7931\n",
            "Epoch 27/100\n",
            "5/5 [==============================] - 0s 3ms/step - loss: 0.1972 - accuracy: 0.7931\n",
            "Epoch 28/100\n",
            "5/5 [==============================] - 0s 3ms/step - loss: 0.1944 - accuracy: 0.8000\n",
            "Epoch 29/100\n",
            "5/5 [==============================] - 0s 2ms/step - loss: 0.1919 - accuracy: 0.8069\n",
            "Epoch 30/100\n",
            "5/5 [==============================] - 0s 2ms/step - loss: 0.1893 - accuracy: 0.8069\n",
            "Epoch 31/100\n",
            "5/5 [==============================] - 0s 2ms/step - loss: 0.1868 - accuracy: 0.8069\n",
            "Epoch 32/100\n",
            "5/5 [==============================] - 0s 3ms/step - loss: 0.1844 - accuracy: 0.8000\n",
            "Epoch 33/100\n",
            "5/5 [==============================] - 0s 3ms/step - loss: 0.1821 - accuracy: 0.8069\n",
            "Epoch 34/100\n",
            "5/5 [==============================] - 0s 5ms/step - loss: 0.1799 - accuracy: 0.8138\n",
            "Epoch 35/100\n",
            "5/5 [==============================] - 0s 3ms/step - loss: 0.1777 - accuracy: 0.8138\n",
            "Epoch 36/100\n",
            "5/5 [==============================] - 0s 2ms/step - loss: 0.1756 - accuracy: 0.8207\n",
            "Epoch 37/100\n",
            "5/5 [==============================] - 0s 2ms/step - loss: 0.1736 - accuracy: 0.8207\n",
            "Epoch 38/100\n",
            "5/5 [==============================] - 0s 2ms/step - loss: 0.1717 - accuracy: 0.8276\n",
            "Epoch 39/100\n",
            "5/5 [==============================] - 0s 2ms/step - loss: 0.1698 - accuracy: 0.8483\n",
            "Epoch 40/100\n",
            "5/5 [==============================] - 0s 3ms/step - loss: 0.1679 - accuracy: 0.8483\n",
            "Epoch 41/100\n",
            "5/5 [==============================] - 0s 2ms/step - loss: 0.1661 - accuracy: 0.8483\n",
            "Epoch 42/100\n",
            "5/5 [==============================] - 0s 2ms/step - loss: 0.1643 - accuracy: 0.8483\n",
            "Epoch 43/100\n",
            "5/5 [==============================] - 0s 2ms/step - loss: 0.1625 - accuracy: 0.8483\n",
            "Epoch 44/100\n",
            "5/5 [==============================] - 0s 2ms/step - loss: 0.1608 - accuracy: 0.8552\n",
            "Epoch 45/100\n",
            "5/5 [==============================] - 0s 2ms/step - loss: 0.1591 - accuracy: 0.8552\n",
            "Epoch 46/100\n",
            "5/5 [==============================] - 0s 3ms/step - loss: 0.1574 - accuracy: 0.8621\n",
            "Epoch 47/100\n",
            "5/5 [==============================] - 0s 3ms/step - loss: 0.1559 - accuracy: 0.8621\n",
            "Epoch 48/100\n",
            "5/5 [==============================] - 0s 3ms/step - loss: 0.1543 - accuracy: 0.8621\n",
            "Epoch 49/100\n",
            "5/5 [==============================] - 0s 3ms/step - loss: 0.1528 - accuracy: 0.8621\n",
            "Epoch 50/100\n",
            "5/5 [==============================] - 0s 2ms/step - loss: 0.1513 - accuracy: 0.8621\n",
            "Epoch 51/100\n",
            "5/5 [==============================] - 0s 2ms/step - loss: 0.1498 - accuracy: 0.8621\n",
            "Epoch 52/100\n",
            "5/5 [==============================] - 0s 2ms/step - loss: 0.1483 - accuracy: 0.8690\n",
            "Epoch 53/100\n",
            "5/5 [==============================] - 0s 2ms/step - loss: 0.1468 - accuracy: 0.8690\n",
            "Epoch 54/100\n",
            "5/5 [==============================] - 0s 2ms/step - loss: 0.1454 - accuracy: 0.8690\n",
            "Epoch 55/100\n",
            "5/5 [==============================] - 0s 3ms/step - loss: 0.1440 - accuracy: 0.8690\n",
            "Epoch 56/100\n",
            "5/5 [==============================] - 0s 3ms/step - loss: 0.1426 - accuracy: 0.8690\n",
            "Epoch 57/100\n",
            "5/5 [==============================] - 0s 2ms/step - loss: 0.1412 - accuracy: 0.8690\n",
            "Epoch 58/100\n",
            "5/5 [==============================] - 0s 3ms/step - loss: 0.1399 - accuracy: 0.8690\n",
            "Epoch 59/100\n",
            "5/5 [==============================] - 0s 2ms/step - loss: 0.1386 - accuracy: 0.8690\n",
            "Epoch 60/100\n",
            "5/5 [==============================] - 0s 2ms/step - loss: 0.1374 - accuracy: 0.8690\n",
            "Epoch 61/100\n",
            "5/5 [==============================] - 0s 3ms/step - loss: 0.1362 - accuracy: 0.8690\n",
            "Epoch 62/100\n",
            "5/5 [==============================] - 0s 2ms/step - loss: 0.1350 - accuracy: 0.8690\n",
            "Epoch 63/100\n",
            "5/5 [==============================] - 0s 2ms/step - loss: 0.1337 - accuracy: 0.8690\n",
            "Epoch 64/100\n",
            "5/5 [==============================] - 0s 2ms/step - loss: 0.1326 - accuracy: 0.8690\n",
            "Epoch 65/100\n",
            "5/5 [==============================] - 0s 3ms/step - loss: 0.1315 - accuracy: 0.8690\n",
            "Epoch 66/100\n",
            "5/5 [==============================] - 0s 2ms/step - loss: 0.1304 - accuracy: 0.8690\n",
            "Epoch 67/100\n",
            "5/5 [==============================] - 0s 3ms/step - loss: 0.1293 - accuracy: 0.8690\n",
            "Epoch 68/100\n",
            "5/5 [==============================] - 0s 2ms/step - loss: 0.1283 - accuracy: 0.8690\n",
            "Epoch 69/100\n",
            "5/5 [==============================] - 0s 3ms/step - loss: 0.1273 - accuracy: 0.8690\n",
            "Epoch 70/100\n",
            "5/5 [==============================] - 0s 3ms/step - loss: 0.1263 - accuracy: 0.8690\n",
            "Epoch 71/100\n",
            "5/5 [==============================] - 0s 3ms/step - loss: 0.1253 - accuracy: 0.8690\n",
            "Epoch 72/100\n",
            "5/5 [==============================] - 0s 3ms/step - loss: 0.1244 - accuracy: 0.8690\n",
            "Epoch 73/100\n",
            "5/5 [==============================] - 0s 3ms/step - loss: 0.1235 - accuracy: 0.8690\n",
            "Epoch 74/100\n",
            "5/5 [==============================] - 0s 4ms/step - loss: 0.1225 - accuracy: 0.8690\n",
            "Epoch 75/100\n",
            "5/5 [==============================] - 0s 4ms/step - loss: 0.1216 - accuracy: 0.8690\n",
            "Epoch 76/100\n",
            "5/5 [==============================] - 0s 6ms/step - loss: 0.1208 - accuracy: 0.8690\n",
            "Epoch 77/100\n",
            "5/5 [==============================] - 0s 3ms/step - loss: 0.1199 - accuracy: 0.8690\n",
            "Epoch 78/100\n",
            "5/5 [==============================] - 0s 5ms/step - loss: 0.1191 - accuracy: 0.8690\n",
            "Epoch 79/100\n",
            "5/5 [==============================] - 0s 6ms/step - loss: 0.1182 - accuracy: 0.8690\n",
            "Epoch 80/100\n",
            "5/5 [==============================] - 0s 4ms/step - loss: 0.1174 - accuracy: 0.8690\n",
            "Epoch 81/100\n",
            "5/5 [==============================] - 0s 3ms/step - loss: 0.1166 - accuracy: 0.8759\n",
            "Epoch 82/100\n",
            "5/5 [==============================] - 0s 3ms/step - loss: 0.1158 - accuracy: 0.8759\n",
            "Epoch 83/100\n",
            "5/5 [==============================] - 0s 3ms/step - loss: 0.1151 - accuracy: 0.8759\n",
            "Epoch 84/100\n",
            "5/5 [==============================] - 0s 6ms/step - loss: 0.1143 - accuracy: 0.8759\n",
            "Epoch 85/100\n",
            "5/5 [==============================] - 0s 4ms/step - loss: 0.1136 - accuracy: 0.8759\n",
            "Epoch 86/100\n",
            "5/5 [==============================] - 0s 7ms/step - loss: 0.1128 - accuracy: 0.8759\n",
            "Epoch 87/100\n",
            "5/5 [==============================] - 0s 4ms/step - loss: 0.1122 - accuracy: 0.8759\n",
            "Epoch 88/100\n",
            "5/5 [==============================] - 0s 3ms/step - loss: 0.1115 - accuracy: 0.8759\n",
            "Epoch 89/100\n",
            "5/5 [==============================] - 0s 5ms/step - loss: 0.1108 - accuracy: 0.8759\n",
            "Epoch 90/100\n",
            "5/5 [==============================] - 0s 3ms/step - loss: 0.1102 - accuracy: 0.8759\n",
            "Epoch 91/100\n",
            "5/5 [==============================] - 0s 4ms/step - loss: 0.1095 - accuracy: 0.8759\n",
            "Epoch 92/100\n",
            "5/5 [==============================] - 0s 3ms/step - loss: 0.1089 - accuracy: 0.8759\n",
            "Epoch 93/100\n",
            "5/5 [==============================] - 0s 3ms/step - loss: 0.1083 - accuracy: 0.8759\n",
            "Epoch 94/100\n",
            "5/5 [==============================] - 0s 3ms/step - loss: 0.1077 - accuracy: 0.8828\n",
            "Epoch 95/100\n",
            "5/5 [==============================] - 0s 14ms/step - loss: 0.1071 - accuracy: 0.8828\n",
            "Epoch 96/100\n",
            "5/5 [==============================] - 0s 5ms/step - loss: 0.1065 - accuracy: 0.8828\n",
            "Epoch 97/100\n",
            "5/5 [==============================] - 0s 5ms/step - loss: 0.1059 - accuracy: 0.8828\n",
            "Epoch 98/100\n",
            "5/5 [==============================] - 0s 11ms/step - loss: 0.1053 - accuracy: 0.8828\n",
            "Epoch 99/100\n",
            "5/5 [==============================] - 0s 5ms/step - loss: 0.1047 - accuracy: 0.8828\n",
            "Epoch 100/100\n",
            "5/5 [==============================] - 0s 4ms/step - loss: 0.1042 - accuracy: 0.8828\n"
          ]
        }
      ]
    },
    {
      "cell_type": "code",
      "source": [
        "y_pred = model.predict(x_test)\n",
        "y_pred"
      ],
      "metadata": {
        "colab": {
          "base_uri": "https://localhost:8080/"
        },
        "id": "ChkrSkadO5ab",
        "outputId": "b3d7ee80-0d34-4662-fea3-ca4547b05964"
      },
      "execution_count": 23,
      "outputs": [
        {
          "output_type": "stream",
          "name": "stdout",
          "text": [
            "3/3 [==============================] - 0s 6ms/step\n"
          ]
        },
        {
          "output_type": "execute_result",
          "data": {
            "text/plain": [
              "array([[0.2745987 ],\n",
              "       [0.746598  ],\n",
              "       [0.18493661],\n",
              "       [0.43661442],\n",
              "       [0.15511271],\n",
              "       [0.16221216],\n",
              "       [0.65639687],\n",
              "       [0.27547267],\n",
              "       [0.19019367],\n",
              "       [0.7001378 ],\n",
              "       [0.71710986],\n",
              "       [0.73750657],\n",
              "       [0.7528919 ],\n",
              "       [0.73750657],\n",
              "       [0.7528919 ],\n",
              "       [0.23657556],\n",
              "       [0.73958915],\n",
              "       [0.24462666],\n",
              "       [0.14480343],\n",
              "       [0.681112  ],\n",
              "       [0.6118104 ],\n",
              "       [0.5677405 ],\n",
              "       [0.24407291],\n",
              "       [0.42242143],\n",
              "       [0.21787249],\n",
              "       [0.74209005],\n",
              "       [0.33747295],\n",
              "       [0.7596486 ],\n",
              "       [0.18437488],\n",
              "       [0.7826906 ],\n",
              "       [0.15567599],\n",
              "       [0.13531871],\n",
              "       [0.17633149],\n",
              "       [0.6421481 ],\n",
              "       [0.6475669 ],\n",
              "       [0.5661384 ],\n",
              "       [0.23562416],\n",
              "       [0.59227467],\n",
              "       [0.77640337],\n",
              "       [0.72561395],\n",
              "       [0.5449732 ],\n",
              "       [0.2795828 ],\n",
              "       [0.5349838 ],\n",
              "       [0.5955087 ],\n",
              "       [0.32683972],\n",
              "       [0.73750657],\n",
              "       [0.73750657],\n",
              "       [0.20805821],\n",
              "       [0.30172026],\n",
              "       [0.57046807],\n",
              "       [0.6044815 ],\n",
              "       [0.6800093 ],\n",
              "       [0.13236383],\n",
              "       [0.7017652 ],\n",
              "       [0.7596486 ],\n",
              "       [0.63345677],\n",
              "       [0.746598  ],\n",
              "       [0.746598  ],\n",
              "       [0.40819645],\n",
              "       [0.52828854],\n",
              "       [0.6061641 ],\n",
              "       [0.32015103],\n",
              "       [0.6695351 ],\n",
              "       [0.38005877],\n",
              "       [0.40836284],\n",
              "       [0.76726395],\n",
              "       [0.74487364],\n",
              "       [0.746598  ],\n",
              "       [0.498754  ],\n",
              "       [0.7208568 ],\n",
              "       [0.73750657],\n",
              "       [0.71742404],\n",
              "       [0.22734575],\n",
              "       [0.77640337],\n",
              "       [0.15463042],\n",
              "       [0.67890316],\n",
              "       [0.24718349],\n",
              "       [0.18514046],\n",
              "       [0.15463042],\n",
              "       [0.43168253],\n",
              "       [0.30857956],\n",
              "       [0.17589945],\n",
              "       [0.1668551 ],\n",
              "       [0.1852774 ],\n",
              "       [0.67076916],\n",
              "       [0.6765738 ],\n",
              "       [0.261765  ]], dtype=float32)"
            ]
          },
          "metadata": {},
          "execution_count": 23
        }
      ]
    },
    {
      "cell_type": "code",
      "source": [
        "y_pclass = np.where(y_pred>=0.5,1,0)\n",
        "confusion_matrix = metrics.confusion_matrix(y_test,y_pclass)\n",
        "cm_display = metrics.ConfusionMatrixDisplay(confusion_matrix = confusion_matrix, display_labels = [0,1])\n",
        "cm_display.plot(cmap=plt.cm.Blues,values_format='g')\n",
        "plt.show()\n",
        "print(accuracy_score(y_test, y_pclass))\n",
        "NNmean = round(accuracy_score(y_test, y_pclass))"
      ],
      "metadata": {
        "colab": {
          "base_uri": "https://localhost:8080/",
          "height": 296
        },
        "id": "t8RM2j2OPXz2",
        "outputId": "46c90aeb-aecb-48e8-8267-ab95d73fcc21"
      },
      "execution_count": 24,
      "outputs": [
        {
          "output_type": "display_data",
          "data": {
            "text/plain": [
              "<Figure size 432x288 with 2 Axes>"
            ],
            "image/png": "[encoded data removed]"
          },
          "metadata": {
            "needs_background": "light"
          }
        },
        {
          "output_type": "stream",
          "name": "stdout",
          "text": [
            "0.9080459770114943\n"
          ]
        }
      ]
    },
    {
      "cell_type": "code",
      "source": [
        "TP = confusion_matrix[0,0]\n",
        "TN = confusion_matrix[1,1]\n",
        "FP = confusion_matrix[0,1]\n",
        "FN = confusion_matrix[1,0]\n",
        "# Accuracy\n",
        "classification_accuracy = ((TP + TN) / float(TP + TN + FP + FN)*100)\n",
        "\n",
        "print('Accuracy : {0:0.2f}'.format(classification_accuracy),'%')\n",
        "# Classification Error\n",
        "classification_error = ((FP + FN) / float(TP + TN + FP + FN)*100)\n",
        "\n",
        "print('Classification error : {0:0.2f}'.format(classification_error),'%')\n",
        "#Recall\n",
        "\n",
        "recall = (TP / float(TP + FN)*100)\n",
        "\n",
        "print('Recall : {0:0.2f}'.format(recall),\"%\")\n",
        "\n",
        "# Precision\n",
        "precision = (TP / float(TP + FP)*100)\n",
        "\n",
        "print('Precision : {0:0.2f}'.format(precision),\"%\")\n",
        "\n",
        "# Specificity\n",
        "\n",
        "specificity = (TN / (TN + FP)*100)\n",
        "\n",
        "print('Specificity : {0:0.2f}'.format(specificity),'%')\n",
        "# Sensitivity\n",
        "\n",
        "Sensitivity = (TP / (TP + FN)*100)\n",
        "\n",
        "print('Sensitivity : {0:0.2f}'.format(Sensitivity),\"%\")\n",
        "# G Mean\n",
        "gmean = math.sqrt(specificity*Sensitivity)\n",
        "print('G Mean : {0:0.2f}'.format(gmean),'%')"
      ],
      "metadata": {
        "colab": {
          "base_uri": "https://localhost:8080/"
        },
        "id": "Mv6_LBUgQrAo",
        "outputId": "bb120df6-9c7e-48f6-c3b4-885af746e871"
      },
      "execution_count": 25,
      "outputs": [
        {
          "output_type": "stream",
          "name": "stdout",
          "text": [
            "Accuracy : 90.80 %\n",
            "Classification error : 9.20 %\n",
            "Recall : 95.00 %\n",
            "Precision : 86.36 %\n",
            "Specificity : 87.23 %\n",
            "Sensitivity : 95.00 %\n",
            "G Mean : 91.03 %\n"
          ]
        }
      ]
    }
  ]
}