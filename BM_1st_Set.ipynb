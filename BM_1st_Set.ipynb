{
  "nbformat": 4,
  "nbformat_minor": 0,
  "metadata": {
    "colab": {
      "provenance": []
    },
    "kernelspec": {
      "name": "python3",
      "display_name": "Python 3"
    },
    "language_info": {
      "name": "python"
    }
  },
  "cells": [
    {
      "cell_type": "markdown",
      "source": [
        "**Import required libraries**"
      ],
      "metadata": {
        "id": "IS3QDyPjitxt"
      }
    },
    {
      "cell_type": "code",
      "source": [
        "import math\n",
        "import numpy as np\n",
        "import pandas as pd\n",
        "import seaborn as sns\n",
        "from sklearn import metrics\n",
        "import matplotlib.pyplot as plt\n",
        "from sklearn.metrics import f1_score\n",
        "from sklearn.naive_bayes import GaussianNB\n",
        "from sklearn.metrics import confusion_matrix\n",
        "from sklearn.model_selection import LeavePOut\n",
        "from sklearn.tree import DecisionTreeClassifier\n",
        "from sklearn.metrics import plot_confusion_matrix\n",
        "from sklearn.linear_model import LogisticRegression\n",
        "from sklearn.model_selection import cross_val_score\n",
        "from sklearn.model_selection import cross_val_predict\n"
      ],
      "metadata": {
        "id": "QCWDuv8HVhwx"
      },
      "execution_count": null,
      "outputs": []
    },
    {
      "cell_type": "code",
      "source": [
        "dataset= pd.read_csv(\"/content/Data_BM.csv\")\n",
        "dataset.head()\n"
      ],
      "metadata": {
        "id": "kl2nMUBMWDFv",
        "colab": {
          "base_uri": "https://localhost:8080/",
          "height": 206
        },
        "outputId": "7b5aed9f-033f-4d38-a262-a0c57b6d7ce3"
      },
      "execution_count": null,
      "outputs": [
        {
          "output_type": "execute_result",
          "data": {
            "text/plain": [
              "   Classlabel  x1  x2  x3  x4  x5  x6  x7  x8  x9  x10  x11  x12  x13  x14  \\\n",
              "0           0   0   1   1   0   1   1   0   0   0    0    0    0    1    1   \n",
              "1           1   0   1   0   1   1   1   0   0   0    0    0    1    1    1   \n",
              "2           0   1   1   1   0   0   0   1   1   1    0    1    0    0    0   \n",
              "3           0   1   1   1   0   0   0   1   1   1    0    0    0    0    0   \n",
              "4           0   1   0   1   0   0   0   1   1   1    1    0    0    0    0   \n",
              "\n",
              "   x15  x16  \n",
              "0    1    1  \n",
              "1    0    1  \n",
              "2    1    1  \n",
              "3    1    1  \n",
              "4    1    1  "
            ],
            "text/html": [
              "\n",
              "  <div id=\"df-0b867d3f-fc9f-4c36-acfa-3da6d584f343\">\n",
              "    <div class=\"colab-df-container\">\n",
              "      <div>\n",
              "<style scoped>\n",
              "    .dataframe tbody tr th:only-of-type {\n",
              "        vertical-align: middle;\n",
              "    }\n",
              "\n",
              "    .dataframe tbody tr th {\n",
              "        vertical-align: top;\n",
              "    }\n",
              "\n",
              "    .dataframe thead th {\n",
              "        text-align: right;\n",
              "    }\n",
              "</style>\n",
              "<table border=\"1\" class=\"dataframe\">\n",
              "  <thead>\n",
              "    <tr style=\"text-align: right;\">\n",
              "      <th></th>\n",
              "      <th>Classlabel</th>\n",
              "      <th>x1</th>\n",
              "      <th>x2</th>\n",
              "      <th>x3</th>\n",
              "      <th>x4</th>\n",
              "      <th>x5</th>\n",
              "      <th>x6</th>\n",
              "      <th>x7</th>\n",
              "      <th>x8</th>\n",
              "      <th>x9</th>\n",
              "      <th>x10</th>\n",
              "      <th>x11</th>\n",
              "      <th>x12</th>\n",
              "      <th>x13</th>\n",
              "      <th>x14</th>\n",
              "      <th>x15</th>\n",
              "      <th>x16</th>\n",
              "    </tr>\n",
              "  </thead>\n",
              "  <tbody>\n",
              "    <tr>\n",
              "      <th>0</th>\n",
              "      <td>0</td>\n",
              "      <td>0</td>\n",
              "      <td>1</td>\n",
              "      <td>1</td>\n",
              "      <td>0</td>\n",
              "      <td>1</td>\n",
              "      <td>1</td>\n",
              "      <td>0</td>\n",
              "      <td>0</td>\n",
              "      <td>0</td>\n",
              "      <td>0</td>\n",
              "      <td>0</td>\n",
              "      <td>0</td>\n",
              "      <td>1</td>\n",
              "      <td>1</td>\n",
              "      <td>1</td>\n",
              "      <td>1</td>\n",
              "    </tr>\n",
              "    <tr>\n",
              "      <th>1</th>\n",
              "      <td>1</td>\n",
              "      <td>0</td>\n",
              "      <td>1</td>\n",
              "      <td>0</td>\n",
              "      <td>1</td>\n",
              "      <td>1</td>\n",
              "      <td>1</td>\n",
              "      <td>0</td>\n",
              "      <td>0</td>\n",
              "      <td>0</td>\n",
              "      <td>0</td>\n",
              "      <td>0</td>\n",
              "      <td>1</td>\n",
              "      <td>1</td>\n",
              "      <td>1</td>\n",
              "      <td>0</td>\n",
              "      <td>1</td>\n",
              "    </tr>\n",
              "    <tr>\n",
              "      <th>2</th>\n",
              "      <td>0</td>\n",
              "      <td>1</td>\n",
              "      <td>1</td>\n",
              "      <td>1</td>\n",
              "      <td>0</td>\n",
              "      <td>0</td>\n",
              "      <td>0</td>\n",
              "      <td>1</td>\n",
              "      <td>1</td>\n",
              "      <td>1</td>\n",
              "      <td>0</td>\n",
              "      <td>1</td>\n",
              "      <td>0</td>\n",
              "      <td>0</td>\n",
              "      <td>0</td>\n",
              "      <td>1</td>\n",
              "      <td>1</td>\n",
              "    </tr>\n",
              "    <tr>\n",
              "      <th>3</th>\n",
              "      <td>0</td>\n",
              "      <td>1</td>\n",
              "      <td>1</td>\n",
              "      <td>1</td>\n",
              "      <td>0</td>\n",
              "      <td>0</td>\n",
              "      <td>0</td>\n",
              "      <td>1</td>\n",
              "      <td>1</td>\n",
              "      <td>1</td>\n",
              "      <td>0</td>\n",
              "      <td>0</td>\n",
              "      <td>0</td>\n",
              "      <td>0</td>\n",
              "      <td>0</td>\n",
              "      <td>1</td>\n",
              "      <td>1</td>\n",
              "    </tr>\n",
              "    <tr>\n",
              "      <th>4</th>\n",
              "      <td>0</td>\n",
              "      <td>1</td>\n",
              "      <td>0</td>\n",
              "      <td>1</td>\n",
              "      <td>0</td>\n",
              "      <td>0</td>\n",
              "      <td>0</td>\n",
              "      <td>1</td>\n",
              "      <td>1</td>\n",
              "      <td>1</td>\n",
              "      <td>1</td>\n",
              "      <td>0</td>\n",
              "      <td>0</td>\n",
              "      <td>0</td>\n",
              "      <td>0</td>\n",
              "      <td>1</td>\n",
              "      <td>1</td>\n",
              "    </tr>\n",
              "  </tbody>\n",
              "</table>\n",
              "</div>\n",
              "      <button class=\"colab-df-convert\" onclick=\"convertToInteractive('df-0b867d3f-fc9f-4c36-acfa-3da6d584f343')\"\n",
              "              title=\"Convert this dataframe to an interactive table.\"\n",
              "              style=\"display:none;\">\n",
              "        \n",
              "  <svg xmlns=\"http://www.w3.org/2000/svg\" height=\"24px\"viewBox=\"0 0 24 24\"\n",
              "       width=\"24px\">\n",
              "    <path d=\"M0 0h24v24H0V0z\" fill=\"none\"/>\n",
              "    <path d=\"M18.56 5.44l.94 2.06.94-2.06 2.06-.94-2.06-.94-.94-2.06-.94 2.06-2.06.94zm-11 1L8.5 8.5l.94-2.06 2.06-.94-2.06-.94L8.5 2.5l-.94 2.06-2.06.94zm10 10l.94 2.06.94-2.06 2.06-.94-2.06-.94-.94-2.06-.94 2.06-2.06.94z\"/><path d=\"M17.41 7.96l-1.37-1.37c-.4-.4-.92-.59-1.43-.59-.52 0-1.04.2-1.43.59L10.3 9.45l-7.72 7.72c-.78.78-.78 2.05 0 2.83L4 21.41c.39.39.9.59 1.41.59.51 0 1.02-.2 1.41-.59l7.78-7.78 2.81-2.81c.8-.78.8-2.07 0-2.86zM5.41 20L4 18.59l7.72-7.72 1.47 1.35L5.41 20z\"/>\n",
              "  </svg>\n",
              "      </button>\n",
              "      \n",
              "  <style>\n",
              "    .colab-df-container {\n",
              "      display:flex;\n",
              "      flex-wrap:wrap;\n",
              "      gap: 12px;\n",
              "    }\n",
              "\n",
              "    .colab-df-convert {\n",
              "      background-color: #E8F0FE;\n",
              "      border: none;\n",
              "      border-radius: 50%;\n",
              "      cursor: pointer;\n",
              "      display: none;\n",
              "      fill: #1967D2;\n",
              "      height: 32px;\n",
              "      padding: 0 0 0 0;\n",
              "      width: 32px;\n",
              "    }\n",
              "\n",
              "    .colab-df-convert:hover {\n",
              "      background-color: #E2EBFA;\n",
              "      box-shadow: 0px 1px 2px rgba(60, 64, 67, 0.3), 0px 1px 3px 1px rgba(60, 64, 67, 0.15);\n",
              "      fill: #174EA6;\n",
              "    }\n",
              "\n",
              "    [theme=dark] .colab-df-convert {\n",
              "      background-color: #3B4455;\n",
              "      fill: #D2E3FC;\n",
              "    }\n",
              "\n",
              "    [theme=dark] .colab-df-convert:hover {\n",
              "      background-color: #434B5C;\n",
              "      box-shadow: 0px 1px 3px 1px rgba(0, 0, 0, 0.15);\n",
              "      filter: drop-shadow(0px 1px 2px rgba(0, 0, 0, 0.3));\n",
              "      fill: #FFFFFF;\n",
              "    }\n",
              "  </style>\n",
              "\n",
              "      <script>\n",
              "        const buttonEl =\n",
              "          document.querySelector('#df-0b867d3f-fc9f-4c36-acfa-3da6d584f343 button.colab-df-convert');\n",
              "        buttonEl.style.display =\n",
              "          google.colab.kernel.accessAllowed ? 'block' : 'none';\n",
              "\n",
              "        async function convertToInteractive(key) {\n",
              "          const element = document.querySelector('#df-0b867d3f-fc9f-4c36-acfa-3da6d584f343');\n",
              "          const dataTable =\n",
              "            await google.colab.kernel.invokeFunction('convertToInteractive',\n",
              "                                                     [key], {});\n",
              "          if (!dataTable) return;\n",
              "\n",
              "          const docLinkHtml = 'Like what you see? Visit the ' +\n",
              "            '<a target=\"_blank\" href=https://colab.research.google.com/notebooks/data_table.ipynb>data table notebook</a>'\n",
              "            + ' to learn more about interactive tables.';\n",
              "          element.innerHTML = '';\n",
              "          dataTable['output_type'] = 'display_data';\n",
              "          await google.colab.output.renderOutput(dataTable, element);\n",
              "          const docLink = document.createElement('div');\n",
              "          docLink.innerHTML = docLinkHtml;\n",
              "          element.appendChild(docLink);\n",
              "        }\n",
              "      </script>\n",
              "    </div>\n",
              "  </div>\n",
              "  "
            ]
          },
          "metadata": {},
          "execution_count": 96
        }
      ]
    },
    {
      "cell_type": "code",
      "source": [
        "X= np.array(dataset[[\"x1\",\"x2\",\"x3\",\"x4\",\"x5\",\"x6\",\"x7\",\"x8\",\"x9\",\"x10\",\"x11\",\"x12\",\"x13\",\"x14\",\"x15\",\"x16\"]])\n",
        "Y= np.array(dataset[\"Classlabel\"])"
      ],
      "metadata": {
        "id": "zyWpAxnDWIX6"
      },
      "execution_count": null,
      "outputs": []
    },
    {
      "cell_type": "markdown",
      "source": [
        "#                                                           **Leave P Out**"
      ],
      "metadata": {
        "id": "r1LHThIij33C"
      }
    },
    {
      "cell_type": "code",
      "source": [
        "x_train,y_train,x_test,y_test = X[0:132],Y[0:132],X[132:232,],Y[132:232]"
      ],
      "metadata": {
        "id": "zQc51Q_QWMmh"
      },
      "execution_count": null,
      "outputs": []
    },
    {
      "cell_type": "code",
      "source": [
        "dTree = DecisionTreeClassifier(criterion=\"entropy\",random_state=40)\n",
        "mdl1 = dTree.fit(x_train,y_train)\n",
        "y_pred = mdl1.predict(x_test)\n",
        "cm = confusion_matrix(y_test,y_pred)\n",
        "cm_display = metrics.ConfusionMatrixDisplay(confusion_matrix = cm, display_labels = [0,1])\n",
        "cm_display.plot(cmap=plt.cm.Blues,values_format='g')\n",
        "plt.show()\n"
      ],
      "metadata": {
        "id": "nmzNxsnveILh",
        "colab": {
          "base_uri": "https://localhost:8080/",
          "height": 279
        },
        "outputId": "f39a561d-0609-4bb2-87cd-a2dcd8f6bcc6"
      },
      "execution_count": null,
      "outputs": [
        {
          "output_type": "display_data",
          "data": {
            "text/plain": [
              "<Figure size 432x288 with 2 Axes>"
            ],
            "image/png": "[encoded data removed]"
          },
          "metadata": {
            "needs_background": "light"
          }
        }
      ]
    },
    {
      "cell_type": "code",
      "source": [
        "#DECISION TREE"
      ],
      "metadata": {
        "id": "rbGWMcgbM3JY"
      },
      "execution_count": null,
      "outputs": []
    },
    {
      "cell_type": "code",
      "source": [
        "TP = cm[0,0]\n",
        "TN = cm[1,1]\n",
        "FP = cm[0,1]\n",
        "FN = cm[1,0]\n",
        "# Accuracy\n",
        "classification_accuracy = ((TP + TN) / float(TP + TN + FP + FN)*100)\n",
        "\n",
        "print('Accuracy : {0:0.2f}'.format(classification_accuracy),'%')\n",
        "# Classification Error\n",
        "classification_error = ((FP + FN) / float(TP + TN + FP + FN)*100)\n",
        "\n",
        "print('Classification error : {0:0.2f}'.format(classification_error),'%')\n",
        "#Recall\n",
        "\n",
        "recall = (TP / float(TP + FN)*100)\n",
        "\n",
        "print('Recall : {0:0.2f}'.format(recall),\"%\")\n",
        "\n",
        "# Precision\n",
        "precision = (TP / float(TP + FP)*100)\n",
        "\n",
        "print('Precision : {0:0.2f}'.format(precision),\"%\")\n",
        "\n",
        "# Specificity\n",
        "\n",
        "specificity = (TN / (TN + FP)*100)\n",
        "\n",
        "print('Specificity : {0:0.2f}'.format(specificity),'%')\n",
        "# Sensitivity\n",
        "\n",
        "Sensitivity = (TP / (TP + FN)*100)\n",
        "\n",
        "print('Sensitivity : {0:0.2f}'.format(Sensitivity),\"%\")\n",
        "# G Mean\n",
        "gmean = math.sqrt(specificity*Sensitivity)\n",
        "print('G Mean : {0:0.2f}'.format(gmean),'%')\n"
      ],
      "metadata": {
        "colab": {
          "base_uri": "https://localhost:8080/"
        },
        "id": "XYxqBioaZJ3t",
        "outputId": "740cceb6-e99e-476c-e1b8-6bd117941df4"
      },
      "execution_count": null,
      "outputs": [
        {
          "output_type": "stream",
          "name": "stdout",
          "text": [
            "Accuracy : 94.00 %\n",
            "Classification error : 6.00 %\n",
            "Recall : 95.83 %\n",
            "Precision : 92.00 %\n",
            "Specificity : 92.31 %\n",
            "Sensitivity : 95.83 %\n",
            "G Mean : 94.05 %\n"
          ]
        }
      ]
    },
    {
      "cell_type": "code",
      "source": [
        "# LOGISTIC REGRESSION"
      ],
      "metadata": {
        "id": "L59QOTdRaJWo"
      },
      "execution_count": null,
      "outputs": []
    },
    {
      "cell_type": "code",
      "source": [
        "LR = LogisticRegression(solver='liblinear',random_state=0)\n",
        "mdl2 = LR.fit(x_train,y_train)\n",
        "y_pred = mdl2.predict(x_test)\n",
        "cm = confusion_matrix(y_test,y_pred)\n",
        "cm_display = metrics.ConfusionMatrixDisplay(confusion_matrix = cm, display_labels = [0,1])\n",
        "cm_display.plot(cmap=plt.cm.Blues,values_format='g')\n",
        "plt.show()"
      ],
      "metadata": {
        "colab": {
          "base_uri": "https://localhost:8080/",
          "height": 279
        },
        "id": "LQEYbztvZqzd",
        "outputId": "b0a3da98-75f8-4fb8-cb9f-9cbe574fe475"
      },
      "execution_count": null,
      "outputs": [
        {
          "output_type": "display_data",
          "data": {
            "text/plain": [
              "<Figure size 432x288 with 2 Axes>"
            ],
            "image/png": "[encoded data removed]"
          },
          "metadata": {
            "needs_background": "light"
          }
        }
      ]
    },
    {
      "cell_type": "code",
      "source": [
        "TP = cm[0,0]\n",
        "TN = cm[1,1]\n",
        "FP = cm[0,1]\n",
        "FN = cm[1,0]\n",
        "# Accuracy\n",
        "classification_accuracy = ((TP + TN) / float(TP + TN + FP + FN)*100)\n",
        "\n",
        "print('Accuracy : {0:0.2f}'.format(classification_accuracy),'%')\n",
        "# Classification Error\n",
        "classification_error = ((FP + FN) / float(TP + TN + FP + FN)*100)\n",
        "\n",
        "print('Classification error : {0:0.2f}'.format(classification_error),'%')\n",
        "#Recall\n",
        "\n",
        "recall = (TP / float(TP + FN)*100)\n",
        "\n",
        "print('Recall : {0:0.2f}'.format(recall),\"%\")\n",
        "\n",
        "# Precision\n",
        "precision = (TP / float(TP + FP)*100)\n",
        "\n",
        "print('Precision : {0:0.2f}'.format(precision),\"%\")\n",
        "\n",
        "# Specificity\n",
        "\n",
        "specificity = (TN / (TN + FP)*100)\n",
        "\n",
        "print('Specificity : {0:0.2f}'.format(specificity),'%')\n",
        "# Sensitivity\n",
        "\n",
        "Sensitivity = (TP / (TP + FN)*100)\n",
        "\n",
        "print('Sensitivity : {0:0.2f}'.format(Sensitivity),\"%\")\n",
        "# G Mean\n",
        "gmean = math.sqrt(specificity*Sensitivity)\n",
        "print('G Mean : {0:0.2f}'.format(gmean),'%')"
      ],
      "metadata": {
        "colab": {
          "base_uri": "https://localhost:8080/"
        },
        "id": "biXDZkJrbhLI",
        "outputId": "0ddf24f3-9207-4860-93d0-0a17acd302b8"
      },
      "execution_count": null,
      "outputs": [
        {
          "output_type": "stream",
          "name": "stdout",
          "text": [
            "Accuracy : 95.00 %\n",
            "Classification error : 5.00 %\n",
            "Recall : 97.87 %\n",
            "Precision : 92.00 %\n",
            "Specificity : 92.45 %\n",
            "Sensitivity : 97.87 %\n",
            "G Mean : 95.12 %\n"
          ]
        }
      ]
    },
    {
      "cell_type": "code",
      "source": [
        "# Gaussian Naive Bayes"
      ],
      "metadata": {
        "id": "Ne_JLJPdNcs0"
      },
      "execution_count": null,
      "outputs": []
    },
    {
      "cell_type": "code",
      "source": [
        "gnb = GaussianNB()\n",
        "mdl3 = gnb.fit(x_train,y_train)\n",
        "y_pred = mdl3.predict(x_test)\n",
        "cm = confusion_matrix(y_test,y_pred)\n",
        "cm_display = metrics.ConfusionMatrixDisplay(confusion_matrix = cm, display_labels = [0,1])\n",
        "cm_display.plot(cmap=plt.cm.Blues,values_format='g')\n",
        "plt.show()\n",
        "TP = cm[0,0]\n",
        "TN = cm[1,1]\n",
        "FP = cm[0,1]\n",
        "FN = cm[1,0]\n",
        "# Accuracy\n",
        "classification_accuracy = ((TP + TN) / float(TP + TN + FP + FN)*100)\n",
        "\n",
        "print('Accuracy : {0:0.2f}'.format(classification_accuracy),'%')\n",
        "# Classification Error\n",
        "classification_error = ((FP + FN) / float(TP + TN + FP + FN)*100)\n",
        "\n",
        "print('Classification error : {0:0.2f}'.format(classification_error),'%')\n",
        "#Recall\n",
        "\n",
        "recall = (TP / float(TP + FN)*100)\n",
        "\n",
        "print('Recall : {0:0.2f}'.format(recall),\"%\")\n",
        "\n",
        "# Precision\n",
        "precision = (TP / float(TP + FP)*100)\n",
        "\n",
        "print('Precision : {0:0.2f}'.format(precision),\"%\")\n",
        "\n",
        "# Specificity\n",
        "\n",
        "specificity = (TN / (TN + FP)*100)\n",
        "\n",
        "print('Specificity : {0:0.2f}'.format(specificity),'%')\n",
        "# Sensitivity\n",
        "\n",
        "Sensitivity = (TP / (TP + FN)*100)\n",
        "\n",
        "print('Sensitivity : {0:0.2f}'.format(Sensitivity),\"%\")\n",
        "# G Mean\n",
        "gmean = math.sqrt(specificity*Sensitivity)\n",
        "print('G Mean : {0:0.2f}'.format(gmean),'%')"
      ],
      "metadata": {
        "colab": {
          "base_uri": "https://localhost:8080/",
          "height": 400
        },
        "id": "ydD2EPjEc7JU",
        "outputId": "90f25872-5ee8-4bc4-b8e3-2ea2503743cb"
      },
      "execution_count": null,
      "outputs": [
        {
          "output_type": "display_data",
          "data": {
            "text/plain": [
              "<Figure size 432x288 with 2 Axes>"
            ],
            "image/png": "[encoded data removed]"
          },
          "metadata": {
            "needs_background": "light"
          }
        },
        {
          "output_type": "stream",
          "name": "stdout",
          "text": [
            "Accuracy : 94.00 %\n",
            "Classification error : 6.00 %\n",
            "Recall : 95.83 %\n",
            "Precision : 92.00 %\n",
            "Specificity : 92.31 %\n",
            "Sensitivity : 95.83 %\n",
            "G Mean : 94.05 %\n"
          ]
        }
      ]
    },
    {
      "cell_type": "code",
      "source": [
        "# K Nearest"
      ],
      "metadata": {
        "id": "vLN9H3nAd9IS"
      },
      "execution_count": null,
      "outputs": []
    },
    {
      "cell_type": "code",
      "source": [],
      "metadata": {
        "id": "v0WMtle4fFAH"
      },
      "execution_count": null,
      "outputs": []
    },
    {
      "cell_type": "code",
      "source": [
        "from sklearn.neighbors import KNeighborsClassifier\n",
        "knn = KNeighborsClassifier(n_neighbors=5)\n",
        "mdl4 = knn.fit(x_train,y_train)\n",
        "y_pred = mdl4.predict(x_test)\n",
        "cm = confusion_matrix(y_test,y_pred)\n",
        "cm_display = metrics.ConfusionMatrixDisplay(confusion_matrix = cm, display_labels = [0,1])\n",
        "cm_display.plot(cmap=plt.cm.Blues,values_format='g')\n",
        "plt.show()\n",
        "TP = cm[0,0]\n",
        "TN = cm[1,1]\n",
        "FP = cm[0,1]\n",
        "FN = cm[1,0]\n",
        "# Accuracy\n",
        "classification_accuracy = ((TP + TN) / float(TP + TN + FP + FN)*100)\n",
        "\n",
        "print('Accuracy : {0:0.2f}'.format(classification_accuracy),'%')\n",
        "# Classification Error\n",
        "classification_error = ((FP + FN) / float(TP + TN + FP + FN)*100)\n",
        "\n",
        "print('Classification error : {0:0.2f}'.format(classification_error),'%')\n",
        "#Recall\n",
        "\n",
        "recall = (TP / float(TP + FN)*100)\n",
        "\n",
        "print('Recall : {0:0.2f}'.format(recall),\"%\")\n",
        "\n",
        "# Precision\n",
        "precision = (TP / float(TP + FP)*100)\n",
        "\n",
        "print('Precision : {0:0.2f}'.format(precision),\"%\")\n",
        "\n",
        "# Specificity\n",
        "\n",
        "specificity = (TN / (TN + FP)*100)\n",
        "\n",
        "print('Specificity : {0:0.2f}'.format(specificity),'%')\n",
        "# Sensitivity\n",
        "\n",
        "Sensitivity = (TP / (TP + FN)*100)\n",
        "\n",
        "print('Sensitivity : {0:0.2f}'.format(Sensitivity),\"%\")\n",
        "# G Mean\n",
        "gmean = math.sqrt(specificity*Sensitivity)\n",
        "print('G Mean : {0:0.2f}'.format(gmean),'%')"
      ],
      "metadata": {
        "colab": {
          "base_uri": "https://localhost:8080/",
          "height": 400
        },
        "id": "WOajIZnIe_BR",
        "outputId": "cd71d7d6-e22f-429a-c6c9-7d7bbe684e93"
      },
      "execution_count": null,
      "outputs": [
        {
          "output_type": "display_data",
          "data": {
            "text/plain": [
              "<Figure size 432x288 with 2 Axes>"
            ],
            "image/png": "[encoded data removed]"
          },
          "metadata": {
            "needs_background": "light"
          }
        },
        {
          "output_type": "stream",
          "name": "stdout",
          "text": [
            "Accuracy : 92.00 %\n",
            "Classification error : 8.00 %\n",
            "Recall : 93.75 %\n",
            "Precision : 90.00 %\n",
            "Specificity : 90.38 %\n",
            "Sensitivity : 93.75 %\n",
            "G Mean : 92.05 %\n"
          ]
        }
      ]
    },
    {
      "cell_type": "code",
      "source": [
        "# Neural Network"
      ],
      "metadata": {
        "id": "S1hUeAvW1mMS"
      },
      "execution_count": null,
      "outputs": []
    },
    {
      "cell_type": "code",
      "source": [
        "from keras.models import Sequential\n",
        "from keras.layers import Dense, Activation\n",
        "from sklearn.metrics import confusion_matrix\n",
        "from sklearn.metrics import f1_score\n",
        "from sklearn.metrics import accuracy_score\n",
        "from sklearn.model_selection import train_test_split\n",
        "from keras.metrics.metrics import accuracy"
      ],
      "metadata": {
        "id": "EAA4FGLypZxk"
      },
      "execution_count": null,
      "outputs": []
    },
    {
      "cell_type": "code",
      "source": [
        "model = Sequential()\n",
        "model.add(Dense(20, input_shape=(16,)))\n",
        "model.add(Activation('relu'))\n",
        "model.add(Dense(1))\n",
        "model.add(Activation('sigmoid'))\n"
      ],
      "metadata": {
        "id": "2Z4KJye4p5VH"
      },
      "execution_count": null,
      "outputs": []
    },
    {
      "cell_type": "code",
      "source": [],
      "metadata": {
        "id": "5UrZUKHLORjL"
      },
      "execution_count": null,
      "outputs": []
    },
    {
      "cell_type": "code",
      "source": [
        "model.compile(loss='mean_squared_error', optimizer='sgd', metrics=['accuracy'])\n",
        "model.summary()"
      ],
      "metadata": {
        "id": "swBTzGOPrB_O",
        "colab": {
          "base_uri": "https://localhost:8080/"
        },
        "outputId": "bad52628-e9b7-4ece-cb7b-eb48a8a2e401"
      },
      "execution_count": null,
      "outputs": [
        {
          "output_type": "stream",
          "name": "stdout",
          "text": [
            "Model: \"sequential_3\"\n",
            "_________________________________________________________________\n",
            " Layer (type)                Output Shape              Param #   \n",
            "=================================================================\n",
            " dense_6 (Dense)             (None, 20)                340       \n",
            "                                                                 \n",
            " activation_6 (Activation)   (None, 20)                0         \n",
            "                                                                 \n",
            " dense_7 (Dense)             (None, 1)                 21        \n",
            "                                                                 \n",
            " activation_7 (Activation)   (None, 1)                 0         \n",
            "                                                                 \n",
            "=================================================================\n",
            "Total params: 361\n",
            "Trainable params: 361\n",
            "Non-trainable params: 0\n",
            "_________________________________________________________________\n"
          ]
        }
      ]
    },
    {
      "cell_type": "code",
      "source": [
        "mdl = model.fit(x_train,y_train, epochs=100)"
      ],
      "metadata": {
        "id": "--HKNJbr2Gk0",
        "colab": {
          "base_uri": "https://localhost:8080/"
        },
        "outputId": "bd90d283-cf01-4878-b5a1-1b6f5bd77d11"
      },
      "execution_count": null,
      "outputs": [
        {
          "output_type": "stream",
          "name": "stdout",
          "text": [
            "Epoch 1/100\n",
            "5/5 [==============================] - 0s 3ms/step - loss: 0.2055 - accuracy: 0.7500\n",
            "Epoch 2/100\n",
            "5/5 [==============================] - 0s 2ms/step - loss: 0.1992 - accuracy: 0.7576\n",
            "Epoch 3/100\n",
            "5/5 [==============================] - 0s 5ms/step - loss: 0.1944 - accuracy: 0.7652\n",
            "Epoch 4/100\n",
            "5/5 [==============================] - 0s 3ms/step - loss: 0.1895 - accuracy: 0.7576\n",
            "Epoch 5/100\n",
            "5/5 [==============================] - 0s 3ms/step - loss: 0.1841 - accuracy: 0.7803\n",
            "Epoch 6/100\n",
            "5/5 [==============================] - 0s 3ms/step - loss: 0.1792 - accuracy: 0.8409\n",
            "Epoch 7/100\n",
            "5/5 [==============================] - 0s 3ms/step - loss: 0.1746 - accuracy: 0.8333\n",
            "Epoch 8/100\n",
            "5/5 [==============================] - 0s 3ms/step - loss: 0.1701 - accuracy: 0.8409\n",
            "Epoch 9/100\n",
            "5/5 [==============================] - 0s 3ms/step - loss: 0.1651 - accuracy: 0.8333\n",
            "Epoch 10/100\n",
            "5/5 [==============================] - 0s 4ms/step - loss: 0.1612 - accuracy: 0.8333\n",
            "Epoch 11/100\n",
            "5/5 [==============================] - 0s 3ms/step - loss: 0.1577 - accuracy: 0.8409\n",
            "Epoch 12/100\n",
            "5/5 [==============================] - 0s 3ms/step - loss: 0.1545 - accuracy: 0.8333\n",
            "Epoch 13/100\n",
            "5/5 [==============================] - 0s 3ms/step - loss: 0.1511 - accuracy: 0.8561\n",
            "Epoch 14/100\n",
            "5/5 [==============================] - 0s 3ms/step - loss: 0.1479 - accuracy: 0.8636\n",
            "Epoch 15/100\n",
            "5/5 [==============================] - 0s 3ms/step - loss: 0.1450 - accuracy: 0.8636\n",
            "Epoch 16/100\n",
            "5/5 [==============================] - 0s 3ms/step - loss: 0.1421 - accuracy: 0.8864\n",
            "Epoch 17/100\n",
            "5/5 [==============================] - 0s 3ms/step - loss: 0.1392 - accuracy: 0.8864\n",
            "Epoch 18/100\n",
            "5/5 [==============================] - 0s 3ms/step - loss: 0.1368 - accuracy: 0.8939\n",
            "Epoch 19/100\n",
            "5/5 [==============================] - 0s 3ms/step - loss: 0.1343 - accuracy: 0.9015\n",
            "Epoch 20/100\n",
            "5/5 [==============================] - 0s 3ms/step - loss: 0.1319 - accuracy: 0.8939\n",
            "Epoch 21/100\n",
            "5/5 [==============================] - 0s 4ms/step - loss: 0.1294 - accuracy: 0.8939\n",
            "Epoch 22/100\n",
            "5/5 [==============================] - 0s 3ms/step - loss: 0.1272 - accuracy: 0.8939\n",
            "Epoch 23/100\n",
            "5/5 [==============================] - 0s 4ms/step - loss: 0.1249 - accuracy: 0.8939\n",
            "Epoch 24/100\n",
            "5/5 [==============================] - 0s 3ms/step - loss: 0.1229 - accuracy: 0.8939\n",
            "Epoch 25/100\n",
            "5/5 [==============================] - 0s 3ms/step - loss: 0.1210 - accuracy: 0.8939\n",
            "Epoch 26/100\n",
            "5/5 [==============================] - 0s 3ms/step - loss: 0.1191 - accuracy: 0.8939\n",
            "Epoch 27/100\n",
            "5/5 [==============================] - 0s 3ms/step - loss: 0.1174 - accuracy: 0.9015\n",
            "Epoch 28/100\n",
            "5/5 [==============================] - 0s 3ms/step - loss: 0.1156 - accuracy: 0.9015\n",
            "Epoch 29/100\n",
            "5/5 [==============================] - 0s 3ms/step - loss: 0.1140 - accuracy: 0.9015\n",
            "Epoch 30/100\n",
            "5/5 [==============================] - 0s 3ms/step - loss: 0.1124 - accuracy: 0.9091\n",
            "Epoch 31/100\n",
            "5/5 [==============================] - 0s 3ms/step - loss: 0.1111 - accuracy: 0.9167\n",
            "Epoch 32/100\n",
            "5/5 [==============================] - 0s 3ms/step - loss: 0.1095 - accuracy: 0.9167\n",
            "Epoch 33/100\n",
            "5/5 [==============================] - 0s 3ms/step - loss: 0.1082 - accuracy: 0.9167\n",
            "Epoch 34/100\n",
            "5/5 [==============================] - 0s 3ms/step - loss: 0.1069 - accuracy: 0.9167\n",
            "Epoch 35/100\n",
            "5/5 [==============================] - 0s 3ms/step - loss: 0.1056 - accuracy: 0.9167\n",
            "Epoch 36/100\n",
            "5/5 [==============================] - 0s 3ms/step - loss: 0.1046 - accuracy: 0.9167\n",
            "Epoch 37/100\n",
            "5/5 [==============================] - 0s 3ms/step - loss: 0.1032 - accuracy: 0.9167\n",
            "Epoch 38/100\n",
            "5/5 [==============================] - 0s 5ms/step - loss: 0.1021 - accuracy: 0.9167\n",
            "Epoch 39/100\n",
            "5/5 [==============================] - 0s 3ms/step - loss: 0.1011 - accuracy: 0.9167\n",
            "Epoch 40/100\n",
            "5/5 [==============================] - 0s 3ms/step - loss: 0.1000 - accuracy: 0.9167\n",
            "Epoch 41/100\n",
            "5/5 [==============================] - 0s 3ms/step - loss: 0.0989 - accuracy: 0.9091\n",
            "Epoch 42/100\n",
            "5/5 [==============================] - 0s 3ms/step - loss: 0.0980 - accuracy: 0.9167\n",
            "Epoch 43/100\n",
            "5/5 [==============================] - 0s 3ms/step - loss: 0.0971 - accuracy: 0.9167\n",
            "Epoch 44/100\n",
            "5/5 [==============================] - 0s 3ms/step - loss: 0.0962 - accuracy: 0.9167\n",
            "Epoch 45/100\n",
            "5/5 [==============================] - 0s 3ms/step - loss: 0.0953 - accuracy: 0.9167\n",
            "Epoch 46/100\n",
            "5/5 [==============================] - 0s 3ms/step - loss: 0.0945 - accuracy: 0.9167\n",
            "Epoch 47/100\n",
            "5/5 [==============================] - 0s 3ms/step - loss: 0.0937 - accuracy: 0.9167\n",
            "Epoch 48/100\n",
            "5/5 [==============================] - 0s 3ms/step - loss: 0.0928 - accuracy: 0.9167\n",
            "Epoch 49/100\n",
            "5/5 [==============================] - 0s 3ms/step - loss: 0.0922 - accuracy: 0.9167\n",
            "Epoch 50/100\n",
            "5/5 [==============================] - 0s 3ms/step - loss: 0.0916 - accuracy: 0.9167\n",
            "Epoch 51/100\n",
            "5/5 [==============================] - 0s 3ms/step - loss: 0.0907 - accuracy: 0.9167\n",
            "Epoch 52/100\n",
            "5/5 [==============================] - 0s 3ms/step - loss: 0.0899 - accuracy: 0.9091\n",
            "Epoch 53/100\n",
            "5/5 [==============================] - 0s 3ms/step - loss: 0.0892 - accuracy: 0.9091\n",
            "Epoch 54/100\n",
            "5/5 [==============================] - 0s 3ms/step - loss: 0.0885 - accuracy: 0.9167\n",
            "Epoch 55/100\n",
            "5/5 [==============================] - 0s 3ms/step - loss: 0.0878 - accuracy: 0.9091\n",
            "Epoch 56/100\n",
            "5/5 [==============================] - 0s 3ms/step - loss: 0.0871 - accuracy: 0.9167\n",
            "Epoch 57/100\n",
            "5/5 [==============================] - 0s 3ms/step - loss: 0.0866 - accuracy: 0.9167\n",
            "Epoch 58/100\n",
            "5/5 [==============================] - 0s 3ms/step - loss: 0.0861 - accuracy: 0.9167\n",
            "Epoch 59/100\n",
            "5/5 [==============================] - 0s 3ms/step - loss: 0.0855 - accuracy: 0.9167\n",
            "Epoch 60/100\n",
            "5/5 [==============================] - 0s 3ms/step - loss: 0.0850 - accuracy: 0.9167\n",
            "Epoch 61/100\n",
            "5/5 [==============================] - 0s 4ms/step - loss: 0.0844 - accuracy: 0.9167\n",
            "Epoch 62/100\n",
            "5/5 [==============================] - 0s 3ms/step - loss: 0.0838 - accuracy: 0.9091\n",
            "Epoch 63/100\n",
            "5/5 [==============================] - 0s 3ms/step - loss: 0.0833 - accuracy: 0.9167\n",
            "Epoch 64/100\n",
            "5/5 [==============================] - 0s 2ms/step - loss: 0.0828 - accuracy: 0.9091\n",
            "Epoch 65/100\n",
            "5/5 [==============================] - 0s 4ms/step - loss: 0.0823 - accuracy: 0.9091\n",
            "Epoch 66/100\n",
            "5/5 [==============================] - 0s 3ms/step - loss: 0.0819 - accuracy: 0.9091\n",
            "Epoch 67/100\n",
            "5/5 [==============================] - 0s 3ms/step - loss: 0.0814 - accuracy: 0.9091\n",
            "Epoch 68/100\n",
            "5/5 [==============================] - 0s 3ms/step - loss: 0.0810 - accuracy: 0.9091\n",
            "Epoch 69/100\n",
            "5/5 [==============================] - 0s 3ms/step - loss: 0.0805 - accuracy: 0.9091\n",
            "Epoch 70/100\n",
            "5/5 [==============================] - 0s 3ms/step - loss: 0.0800 - accuracy: 0.9167\n",
            "Epoch 71/100\n",
            "5/5 [==============================] - 0s 3ms/step - loss: 0.0796 - accuracy: 0.9091\n",
            "Epoch 72/100\n",
            "5/5 [==============================] - 0s 5ms/step - loss: 0.0792 - accuracy: 0.9091\n",
            "Epoch 73/100\n",
            "5/5 [==============================] - 0s 4ms/step - loss: 0.0788 - accuracy: 0.9091\n",
            "Epoch 74/100\n",
            "5/5 [==============================] - 0s 4ms/step - loss: 0.0785 - accuracy: 0.9091\n",
            "Epoch 75/100\n",
            "5/5 [==============================] - 0s 3ms/step - loss: 0.0781 - accuracy: 0.9091\n",
            "Epoch 76/100\n",
            "5/5 [==============================] - 0s 3ms/step - loss: 0.0777 - accuracy: 0.9091\n",
            "Epoch 77/100\n",
            "5/5 [==============================] - 0s 3ms/step - loss: 0.0773 - accuracy: 0.9167\n",
            "Epoch 78/100\n",
            "5/5 [==============================] - 0s 4ms/step - loss: 0.0769 - accuracy: 0.9167\n",
            "Epoch 79/100\n",
            "5/5 [==============================] - 0s 3ms/step - loss: 0.0765 - accuracy: 0.9167\n",
            "Epoch 80/100\n",
            "5/5 [==============================] - 0s 3ms/step - loss: 0.0761 - accuracy: 0.9167\n",
            "Epoch 81/100\n",
            "5/5 [==============================] - 0s 3ms/step - loss: 0.0758 - accuracy: 0.9167\n",
            "Epoch 82/100\n",
            "5/5 [==============================] - 0s 6ms/step - loss: 0.0755 - accuracy: 0.9167\n",
            "Epoch 83/100\n",
            "5/5 [==============================] - 0s 3ms/step - loss: 0.0751 - accuracy: 0.9167\n",
            "Epoch 84/100\n",
            "5/5 [==============================] - 0s 3ms/step - loss: 0.0747 - accuracy: 0.9167\n",
            "Epoch 85/100\n",
            "5/5 [==============================] - 0s 4ms/step - loss: 0.0744 - accuracy: 0.9167\n",
            "Epoch 86/100\n",
            "5/5 [==============================] - 0s 3ms/step - loss: 0.0741 - accuracy: 0.9167\n",
            "Epoch 87/100\n",
            "5/5 [==============================] - 0s 3ms/step - loss: 0.0739 - accuracy: 0.9167\n",
            "Epoch 88/100\n",
            "5/5 [==============================] - 0s 3ms/step - loss: 0.0736 - accuracy: 0.9167\n",
            "Epoch 89/100\n",
            "5/5 [==============================] - 0s 3ms/step - loss: 0.0734 - accuracy: 0.9167\n",
            "Epoch 90/100\n",
            "5/5 [==============================] - 0s 3ms/step - loss: 0.0731 - accuracy: 0.9167\n",
            "Epoch 91/100\n",
            "5/5 [==============================] - 0s 3ms/step - loss: 0.0728 - accuracy: 0.9167\n",
            "Epoch 92/100\n",
            "5/5 [==============================] - 0s 3ms/step - loss: 0.0725 - accuracy: 0.9167\n",
            "Epoch 93/100\n",
            "5/5 [==============================] - 0s 3ms/step - loss: 0.0722 - accuracy: 0.9167\n",
            "Epoch 94/100\n",
            "5/5 [==============================] - 0s 3ms/step - loss: 0.0719 - accuracy: 0.9167\n",
            "Epoch 95/100\n",
            "5/5 [==============================] - 0s 3ms/step - loss: 0.0716 - accuracy: 0.9167\n",
            "Epoch 96/100\n",
            "5/5 [==============================] - 0s 3ms/step - loss: 0.0714 - accuracy: 0.9167\n",
            "Epoch 97/100\n",
            "5/5 [==============================] - 0s 3ms/step - loss: 0.0712 - accuracy: 0.9167\n",
            "Epoch 98/100\n",
            "5/5 [==============================] - 0s 3ms/step - loss: 0.0709 - accuracy: 0.9167\n",
            "Epoch 99/100\n",
            "5/5 [==============================] - 0s 3ms/step - loss: 0.0707 - accuracy: 0.9167\n",
            "Epoch 100/100\n",
            "5/5 [==============================] - 0s 4ms/step - loss: 0.0704 - accuracy: 0.9167\n"
          ]
        }
      ]
    },
    {
      "cell_type": "code",
      "source": [
        "y_pred = model.predict(x_test)\n",
        "y_pred"
      ],
      "metadata": {
        "colab": {
          "base_uri": "https://localhost:8080/"
        },
        "id": "ChkrSkadO5ab",
        "outputId": "6c6c2676-9139-408b-93e2-d078d3822e16"
      },
      "execution_count": null,
      "outputs": [
        {
          "output_type": "stream",
          "name": "stdout",
          "text": [
            "4/4 [==============================] - 0s 3ms/step\n"
          ]
        },
        {
          "output_type": "execute_result",
          "data": {
            "text/plain": [
              "array([[0.07330918],\n",
              "       [0.12018397],\n",
              "       [0.10586757],\n",
              "       [0.10586757],\n",
              "       [0.690916  ],\n",
              "       [0.21346416],\n",
              "       [0.12018397],\n",
              "       [0.1477976 ],\n",
              "       [0.5717428 ],\n",
              "       [0.8334631 ],\n",
              "       [0.31190112],\n",
              "       [0.8137304 ],\n",
              "       [0.84955883],\n",
              "       [0.11984057],\n",
              "       [0.8137304 ],\n",
              "       [0.06548067],\n",
              "       [0.29725292],\n",
              "       [0.22715768],\n",
              "       [0.2036341 ],\n",
              "       [0.760953  ],\n",
              "       [0.12937893],\n",
              "       [0.26458585],\n",
              "       [0.6227123 ],\n",
              "       [0.81387943],\n",
              "       [0.85305834],\n",
              "       [0.84955883],\n",
              "       [0.85305834],\n",
              "       [0.84955883],\n",
              "       [0.24310085],\n",
              "       [0.831244  ],\n",
              "       [0.12531523],\n",
              "       [0.13036337],\n",
              "       [0.7936397 ],\n",
              "       [0.6097766 ],\n",
              "       [0.41641182],\n",
              "       [0.19381988],\n",
              "       [0.35409224],\n",
              "       [0.18410908],\n",
              "       [0.82820916],\n",
              "       [0.22474003],\n",
              "       [0.8471081 ],\n",
              "       [0.08834615],\n",
              "       [0.8807449 ],\n",
              "       [0.11566375],\n",
              "       [0.14486322],\n",
              "       [0.180814  ],\n",
              "       [0.78883994],\n",
              "       [0.5812838 ],\n",
              "       [0.5502487 ],\n",
              "       [0.06262735],\n",
              "       [0.6531116 ],\n",
              "       [0.80265015],\n",
              "       [0.8332798 ],\n",
              "       [0.57964456],\n",
              "       [0.19239268],\n",
              "       [0.47909716],\n",
              "       [0.6100221 ],\n",
              "       [0.37059268],\n",
              "       [0.85305834],\n",
              "       [0.85305834],\n",
              "       [0.16055126],\n",
              "       [0.1430257 ],\n",
              "       [0.6836289 ],\n",
              "       [0.6793433 ],\n",
              "       [0.5803176 ],\n",
              "       [0.1633169 ],\n",
              "       [0.78833276],\n",
              "       [0.8471081 ],\n",
              "       [0.66156805],\n",
              "       [0.8137304 ],\n",
              "       [0.8137304 ],\n",
              "       [0.12611721],\n",
              "       [0.7154074 ],\n",
              "       [0.6067351 ],\n",
              "       [0.22022516],\n",
              "       [0.75610596],\n",
              "       [0.26521006],\n",
              "       [0.19789177],\n",
              "       [0.81081903],\n",
              "       [0.8188083 ],\n",
              "       [0.8137304 ],\n",
              "       [0.56671214],\n",
              "       [0.80221206],\n",
              "       [0.85305834],\n",
              "       [0.7525682 ],\n",
              "       [0.07376223],\n",
              "       [0.80265015],\n",
              "       [0.13071907],\n",
              "       [0.7543347 ],\n",
              "       [0.11211466],\n",
              "       [0.15706989],\n",
              "       [0.13071907],\n",
              "       [0.517666  ],\n",
              "       [0.24023284],\n",
              "       [0.07615804],\n",
              "       [0.11690749],\n",
              "       [0.12062624],\n",
              "       [0.7012639 ],\n",
              "       [0.69260615],\n",
              "       [0.08485047]], dtype=float32)"
            ]
          },
          "metadata": {},
          "execution_count": 114
        }
      ]
    },
    {
      "cell_type": "code",
      "source": [
        "y_pclass = np.where(y_pred>=0.5,1,0)\n",
        "confusion_matrix = metrics.confusion_matrix(y_test,y_pclass)\n",
        "cm_display = metrics.ConfusionMatrixDisplay(confusion_matrix = confusion_matrix, display_labels = [0,1])\n",
        "cm_display.plot(cmap=plt.cm.Blues,values_format='g')\n",
        "plt.show()\n",
        "print(accuracy_score(y_test, y_pclass))\n",
        "NNmean = round(accuracy_score(y_test, y_pclass))"
      ],
      "metadata": {
        "colab": {
          "base_uri": "https://localhost:8080/",
          "height": 296
        },
        "id": "t8RM2j2OPXz2",
        "outputId": "a35e6d4d-95f1-4ef1-eaff-60e9f6d6ab01"
      },
      "execution_count": null,
      "outputs": [
        {
          "output_type": "display_data",
          "data": {
            "text/plain": [
              "<Figure size 432x288 with 2 Axes>"
            ],
            "image/png": "[encoded data removed]"
          },
          "metadata": {
            "needs_background": "light"
          }
        },
        {
          "output_type": "stream",
          "name": "stdout",
          "text": [
            "0.9\n"
          ]
        }
      ]
    },
    {
      "cell_type": "code",
      "source": [
        "TP = confusion_matrix[0,0]\n",
        "TN = confusion_matrix[1,1]\n",
        "FP = confusion_matrix[0,1]\n",
        "FN = confusion_matrix[1,0]\n",
        "# Accuracy\n",
        "classification_accuracy = ((TP + TN) / float(TP + TN + FP + FN)*100)\n",
        "\n",
        "print('Accuracy : {0:0.2f}'.format(classification_accuracy),'%')\n",
        "# Classification Error\n",
        "classification_error = ((FP + FN) / float(TP + TN + FP + FN)*100)\n",
        "\n",
        "print('Classification error : {0:0.2f}'.format(classification_error),'%')\n",
        "#Recall\n",
        "\n",
        "recall = (TP / float(TP + FN)*100)\n",
        "\n",
        "print('Recall : {0:0.2f}'.format(recall),\"%\")\n",
        "\n",
        "# Precision\n",
        "precision = (TP / float(TP + FP)*100)\n",
        "\n",
        "print('Precision : {0:0.2f}'.format(precision),\"%\")\n",
        "\n",
        "# Specificity\n",
        "\n",
        "specificity = (TN / (TN + FP)*100)\n",
        "\n",
        "print('Specificity : {0:0.2f}'.format(specificity),'%')\n",
        "# Sensitivity\n",
        "\n",
        "Sensitivity = (TP / (TP + FN)*100)\n",
        "\n",
        "print('Sensitivity : {0:0.2f}'.format(Sensitivity),\"%\")\n",
        "# G Mean\n",
        "gmean = math.sqrt(specificity*Sensitivity)\n",
        "print('G Mean : {0:0.2f}'.format(gmean),'%')"
      ],
      "metadata": {
        "colab": {
          "base_uri": "https://localhost:8080/"
        },
        "id": "Mv6_LBUgQrAo",
        "outputId": "527721dc-4ece-40e7-9584-bb250d6db62f"
      },
      "execution_count": null,
      "outputs": [
        {
          "output_type": "stream",
          "name": "stdout",
          "text": [
            "Accuracy : 90.00 %\n",
            "Classification error : 10.00 %\n",
            "Recall : 91.67 %\n",
            "Precision : 88.00 %\n",
            "Specificity : 88.46 %\n",
            "Sensitivity : 91.67 %\n",
            "G Mean : 90.05 %\n"
          ]
        }
      ]
    }
  ]
}
