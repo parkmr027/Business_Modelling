{
  "nbformat": 4,
  "nbformat_minor": 0,
  "metadata": {
    "colab": {
      "provenance": []
    },
    "kernelspec": {
      "name": "python3",
      "display_name": "Python 3"
    },
    "language_info": {
      "name": "python"
    }
  },
  "cells": [
    {
      "cell_type": "markdown",
      "source": [
        "**Import required libraries**"
      ],
      "metadata": {
        "id": "IS3QDyPjitxt"
      }
    },
    {
      "cell_type": "code",
      "source": [
        "import math\n",
        "import numpy as np\n",
        "import pandas as pd\n",
        "import seaborn as sns\n",
        "from sklearn import metrics\n",
        "import matplotlib.pyplot as plt\n",
        "from sklearn.metrics import f1_score\n",
        "from sklearn.naive_bayes import GaussianNB\n",
        "from sklearn.metrics import confusion_matrix\n",
        "from sklearn.model_selection import LeavePOut\n",
        "from sklearn.tree import DecisionTreeClassifier\n",
        "from sklearn.metrics import plot_confusion_matrix\n",
        "from sklearn.linear_model import LogisticRegression\n",
        "from sklearn.model_selection import cross_val_score\n",
        "from sklearn.model_selection import cross_val_predict\n"
      ],
      "metadata": {
        "id": "QCWDuv8HVhwx"
      },
      "execution_count": 1,
      "outputs": []
    },
    {
      "cell_type": "code",
      "source": [
        "dataset= pd.read_csv(\"/content/Data_BM.csv\")\n",
        "dataset.head()\n"
      ],
      "metadata": {
        "id": "kl2nMUBMWDFv",
        "colab": {
          "base_uri": "https://localhost:8080/",
          "height": 206
        },
        "outputId": "376fff33-ee89-49ab-ff91-f0b7433efe95"
      },
      "execution_count": 2,
      "outputs": [
        {
          "output_type": "execute_result",
          "data": {
            "text/plain": [
              "   Classlabel  x1  x2  x3  x4  x5  x6  x7  x8  x9  x10  x11  x12  x13  x14  \\\n",
              "0           0   0   1   1   0   1   1   0   0   0    0    0    0    1    1   \n",
              "1           1   0   1   0   1   1   1   0   0   0    0    0    1    1    1   \n",
              "2           0   1   1   1   0   0   0   1   1   1    0    1    0    0    0   \n",
              "3           0   1   1   1   0   0   0   1   1   1    0    0    0    0    0   \n",
              "4           0   1   0   1   0   0   0   1   1   1    1    0    0    0    0   \n",
              "\n",
              "   x15  x16  \n",
              "0    1    1  \n",
              "1    0    1  \n",
              "2    1    1  \n",
              "3    1    1  \n",
              "4    1    1  "
            ],
            "text/html": [
              "\n",
              "  <div id=\"df-a01bec6f-446e-47d2-b7ce-b2a69e17c3da\">\n",
              "    <div class=\"colab-df-container\">\n",
              "      <div>\n",
              "<style scoped>\n",
              "    .dataframe tbody tr th:only-of-type {\n",
              "        vertical-align: middle;\n",
              "    }\n",
              "\n",
              "    .dataframe tbody tr th {\n",
              "        vertical-align: top;\n",
              "    }\n",
              "\n",
              "    .dataframe thead th {\n",
              "        text-align: right;\n",
              "    }\n",
              "</style>\n",
              "<table border=\"1\" class=\"dataframe\">\n",
              "  <thead>\n",
              "    <tr style=\"text-align: right;\">\n",
              "      <th></th>\n",
              "      <th>Classlabel</th>\n",
              "      <th>x1</th>\n",
              "      <th>x2</th>\n",
              "      <th>x3</th>\n",
              "      <th>x4</th>\n",
              "      <th>x5</th>\n",
              "      <th>x6</th>\n",
              "      <th>x7</th>\n",
              "      <th>x8</th>\n",
              "      <th>x9</th>\n",
              "      <th>x10</th>\n",
              "      <th>x11</th>\n",
              "      <th>x12</th>\n",
              "      <th>x13</th>\n",
              "      <th>x14</th>\n",
              "      <th>x15</th>\n",
              "      <th>x16</th>\n",
              "    </tr>\n",
              "  </thead>\n",
              "  <tbody>\n",
              "    <tr>\n",
              "      <th>0</th>\n",
              "      <td>0</td>\n",
              "      <td>0</td>\n",
              "      <td>1</td>\n",
              "      <td>1</td>\n",
              "      <td>0</td>\n",
              "      <td>1</td>\n",
              "      <td>1</td>\n",
              "      <td>0</td>\n",
              "      <td>0</td>\n",
              "      <td>0</td>\n",
              "      <td>0</td>\n",
              "      <td>0</td>\n",
              "      <td>0</td>\n",
              "      <td>1</td>\n",
              "      <td>1</td>\n",
              "      <td>1</td>\n",
              "      <td>1</td>\n",
              "    </tr>\n",
              "    <tr>\n",
              "      <th>1</th>\n",
              "      <td>1</td>\n",
              "      <td>0</td>\n",
              "      <td>1</td>\n",
              "      <td>0</td>\n",
              "      <td>1</td>\n",
              "      <td>1</td>\n",
              "      <td>1</td>\n",
              "      <td>0</td>\n",
              "      <td>0</td>\n",
              "      <td>0</td>\n",
              "      <td>0</td>\n",
              "      <td>0</td>\n",
              "      <td>1</td>\n",
              "      <td>1</td>\n",
              "      <td>1</td>\n",
              "      <td>0</td>\n",
              "      <td>1</td>\n",
              "    </tr>\n",
              "    <tr>\n",
              "      <th>2</th>\n",
              "      <td>0</td>\n",
              "      <td>1</td>\n",
              "      <td>1</td>\n",
              "      <td>1</td>\n",
              "      <td>0</td>\n",
              "      <td>0</td>\n",
              "      <td>0</td>\n",
              "      <td>1</td>\n",
              "      <td>1</td>\n",
              "      <td>1</td>\n",
              "      <td>0</td>\n",
              "      <td>1</td>\n",
              "      <td>0</td>\n",
              "      <td>0</td>\n",
              "      <td>0</td>\n",
              "      <td>1</td>\n",
              "      <td>1</td>\n",
              "    </tr>\n",
              "    <tr>\n",
              "      <th>3</th>\n",
              "      <td>0</td>\n",
              "      <td>1</td>\n",
              "      <td>1</td>\n",
              "      <td>1</td>\n",
              "      <td>0</td>\n",
              "      <td>0</td>\n",
              "      <td>0</td>\n",
              "      <td>1</td>\n",
              "      <td>1</td>\n",
              "      <td>1</td>\n",
              "      <td>0</td>\n",
              "      <td>0</td>\n",
              "      <td>0</td>\n",
              "      <td>0</td>\n",
              "      <td>0</td>\n",
              "      <td>1</td>\n",
              "      <td>1</td>\n",
              "    </tr>\n",
              "    <tr>\n",
              "      <th>4</th>\n",
              "      <td>0</td>\n",
              "      <td>1</td>\n",
              "      <td>0</td>\n",
              "      <td>1</td>\n",
              "      <td>0</td>\n",
              "      <td>0</td>\n",
              "      <td>0</td>\n",
              "      <td>1</td>\n",
              "      <td>1</td>\n",
              "      <td>1</td>\n",
              "      <td>1</td>\n",
              "      <td>0</td>\n",
              "      <td>0</td>\n",
              "      <td>0</td>\n",
              "      <td>0</td>\n",
              "      <td>1</td>\n",
              "      <td>1</td>\n",
              "    </tr>\n",
              "  </tbody>\n",
              "</table>\n",
              "</div>\n",
              "      <button class=\"colab-df-convert\" onclick=\"convertToInteractive('df-a01bec6f-446e-47d2-b7ce-b2a69e17c3da')\"\n",
              "              title=\"Convert this dataframe to an interactive table.\"\n",
              "              style=\"display:none;\">\n",
              "        \n",
              "  <svg xmlns=\"http://www.w3.org/2000/svg\" height=\"24px\"viewBox=\"0 0 24 24\"\n",
              "       width=\"24px\">\n",
              "    <path d=\"M0 0h24v24H0V0z\" fill=\"none\"/>\n",
              "    <path d=\"M18.56 5.44l.94 2.06.94-2.06 2.06-.94-2.06-.94-.94-2.06-.94 2.06-2.06.94zm-11 1L8.5 8.5l.94-2.06 2.06-.94-2.06-.94L8.5 2.5l-.94 2.06-2.06.94zm10 10l.94 2.06.94-2.06 2.06-.94-2.06-.94-.94-2.06-.94 2.06-2.06.94z\"/><path d=\"M17.41 7.96l-1.37-1.37c-.4-.4-.92-.59-1.43-.59-.52 0-1.04.2-1.43.59L10.3 9.45l-7.72 7.72c-.78.78-.78 2.05 0 2.83L4 21.41c.39.39.9.59 1.41.59.51 0 1.02-.2 1.41-.59l7.78-7.78 2.81-2.81c.8-.78.8-2.07 0-2.86zM5.41 20L4 18.59l7.72-7.72 1.47 1.35L5.41 20z\"/>\n",
              "  </svg>\n",
              "      </button>\n",
              "      \n",
              "  <style>\n",
              "    .colab-df-container {\n",
              "      display:flex;\n",
              "      flex-wrap:wrap;\n",
              "      gap: 12px;\n",
              "    }\n",
              "\n",
              "    .colab-df-convert {\n",
              "      background-color: #E8F0FE;\n",
              "      border: none;\n",
              "      border-radius: 50%;\n",
              "      cursor: pointer;\n",
              "      display: none;\n",
              "      fill: #1967D2;\n",
              "      height: 32px;\n",
              "      padding: 0 0 0 0;\n",
              "      width: 32px;\n",
              "    }\n",
              "\n",
              "    .colab-df-convert:hover {\n",
              "      background-color: #E2EBFA;\n",
              "      box-shadow: 0px 1px 2px rgba(60, 64, 67, 0.3), 0px 1px 3px 1px rgba(60, 64, 67, 0.15);\n",
              "      fill: #174EA6;\n",
              "    }\n",
              "\n",
              "    [theme=dark] .colab-df-convert {\n",
              "      background-color: #3B4455;\n",
              "      fill: #D2E3FC;\n",
              "    }\n",
              "\n",
              "    [theme=dark] .colab-df-convert:hover {\n",
              "      background-color: #434B5C;\n",
              "      box-shadow: 0px 1px 3px 1px rgba(0, 0, 0, 0.15);\n",
              "      filter: drop-shadow(0px 1px 2px rgba(0, 0, 0, 0.3));\n",
              "      fill: #FFFFFF;\n",
              "    }\n",
              "  </style>\n",
              "\n",
              "      <script>\n",
              "        const buttonEl =\n",
              "          document.querySelector('#df-a01bec6f-446e-47d2-b7ce-b2a69e17c3da button.colab-df-convert');\n",
              "        buttonEl.style.display =\n",
              "          google.colab.kernel.accessAllowed ? 'block' : 'none';\n",
              "\n",
              "        async function convertToInteractive(key) {\n",
              "          const element = document.querySelector('#df-a01bec6f-446e-47d2-b7ce-b2a69e17c3da');\n",
              "          const dataTable =\n",
              "            await google.colab.kernel.invokeFunction('convertToInteractive',\n",
              "                                                     [key], {});\n",
              "          if (!dataTable) return;\n",
              "\n",
              "          const docLinkHtml = 'Like what you see? Visit the ' +\n",
              "            '<a target=\"_blank\" href=https://colab.research.google.com/notebooks/data_table.ipynb>data table notebook</a>'\n",
              "            + ' to learn more about interactive tables.';\n",
              "          element.innerHTML = '';\n",
              "          dataTable['output_type'] = 'display_data';\n",
              "          await google.colab.output.renderOutput(dataTable, element);\n",
              "          const docLink = document.createElement('div');\n",
              "          docLink.innerHTML = docLinkHtml;\n",
              "          element.appendChild(docLink);\n",
              "        }\n",
              "      </script>\n",
              "    </div>\n",
              "  </div>\n",
              "  "
            ]
          },
          "metadata": {},
          "execution_count": 2
        }
      ]
    },
    {
      "cell_type": "code",
      "source": [
        "X= np.array(dataset[[\"x1\",\"x2\",\"x3\",\"x4\",\"x5\",\"x6\",\"x7\",\"x8\",\"x9\",\"x10\",\"x11\",\"x12\",\"x13\",\"x14\",\"x15\",\"x16\"]])\n",
        "Y= np.array(dataset[\"Classlabel\"])"
      ],
      "metadata": {
        "id": "zyWpAxnDWIX6"
      },
      "execution_count": 3,
      "outputs": []
    },
    {
      "cell_type": "markdown",
      "source": [
        "#                                                           **Leave P Out**"
      ],
      "metadata": {
        "id": "r1LHThIij33C"
      }
    },
    {
      "cell_type": "code",
      "source": [
        "x_train,y_train,x_test,y_test = X[0:205],Y[0:205],X[205:232,],Y[205:232]"
      ],
      "metadata": {
        "id": "zQc51Q_QWMmh"
      },
      "execution_count": 4,
      "outputs": []
    },
    {
      "cell_type": "code",
      "source": [
        "dTree = DecisionTreeClassifier(criterion=\"entropy\",random_state=40)\n",
        "mdl1 = dTree.fit(x_train,y_train)\n",
        "y_pred = mdl1.predict(x_test)\n",
        "cm = confusion_matrix(y_test,y_pred)\n",
        "cm_display = metrics.ConfusionMatrixDisplay(confusion_matrix = cm, display_labels = [0,1])\n",
        "cm_display.plot(cmap=plt.cm.Blues,values_format='g')\n",
        "plt.show()\n"
      ],
      "metadata": {
        "id": "nmzNxsnveILh",
        "colab": {
          "base_uri": "https://localhost:8080/",
          "height": 279
        },
        "outputId": "e58a7477-5565-41ca-a13c-b403e54eb913"
      },
      "execution_count": 5,
      "outputs": [
        {
          "output_type": "display_data",
          "data": {
            "text/plain": [
              "<Figure size 432x288 with 2 Axes>"
            ],
            "image/png": "[encoded data removed]"
          },
          "metadata": {
            "needs_background": "light"
          }
        }
      ]
    },
    {
      "cell_type": "code",
      "source": [
        "#DECISION TREE"
      ],
      "metadata": {
        "id": "rbGWMcgbM3JY"
      },
      "execution_count": 6,
      "outputs": []
    },
    {
      "cell_type": "code",
      "source": [
        "TP = cm[0,0]\n",
        "TN = cm[1,1]\n",
        "FP = cm[0,1]\n",
        "FN = cm[1,0]\n",
        "# Accuracy\n",
        "classification_accuracy = ((TP + TN) / float(TP + TN + FP + FN)*100)\n",
        "\n",
        "print('Accuracy : {0:0.2f}'.format(classification_accuracy),'%')\n",
        "# Classification Error\n",
        "classification_error = ((FP + FN) / float(TP + TN + FP + FN)*100)\n",
        "\n",
        "print('Classification error : {0:0.2f}'.format(classification_error),'%')\n",
        "#Recall\n",
        "\n",
        "recall = (TP / float(TP + FN)*100)\n",
        "\n",
        "print('Recall : {0:0.2f}'.format(recall),\"%\")\n",
        "\n",
        "# Precision\n",
        "precision = (TP / float(TP + FP)*100)\n",
        "\n",
        "print('Precision : {0:0.2f}'.format(precision),\"%\")\n",
        "\n",
        "# Specificity\n",
        "\n",
        "specificity = (TN / (TN + FP)*100)\n",
        "\n",
        "print('Specificity : {0:0.2f}'.format(specificity),'%')\n",
        "# Sensitivity\n",
        "\n",
        "Sensitivity = (TP / (TP + FN)*100)\n",
        "\n",
        "print('Sensitivity : {0:0.2f}'.format(Sensitivity),\"%\")\n",
        "# G Mean\n",
        "gmean = math.sqrt(specificity*Sensitivity)\n",
        "print('G Mean : {0:0.2f}'.format(gmean),'%')\n"
      ],
      "metadata": {
        "colab": {
          "base_uri": "https://localhost:8080/"
        },
        "id": "XYxqBioaZJ3t",
        "outputId": "7e86c7b1-7de3-4d79-f3e0-e4f5c3be89ba"
      },
      "execution_count": 7,
      "outputs": [
        {
          "output_type": "stream",
          "name": "stdout",
          "text": [
            "Accuracy : 96.30 %\n",
            "Classification error : 3.70 %\n",
            "Recall : 100.00 %\n",
            "Precision : 93.75 %\n",
            "Specificity : 91.67 %\n",
            "Sensitivity : 100.00 %\n",
            "G Mean : 95.74 %\n"
          ]
        }
      ]
    },
    {
      "cell_type": "code",
      "source": [
        "# LOGISTIC REGRESSION"
      ],
      "metadata": {
        "id": "L59QOTdRaJWo"
      },
      "execution_count": 8,
      "outputs": []
    },
    {
      "cell_type": "code",
      "source": [
        "LR = LogisticRegression(solver='liblinear',random_state=0)\n",
        "mdl2 = LR.fit(x_train,y_train)\n",
        "y_pred = mdl2.predict(x_test)\n",
        "cm = confusion_matrix(y_test,y_pred)\n",
        "cm_display = metrics.ConfusionMatrixDisplay(confusion_matrix = cm, display_labels = [0,1])\n",
        "cm_display.plot(cmap=plt.cm.Blues,values_format='g')\n",
        "plt.show()"
      ],
      "metadata": {
        "colab": {
          "base_uri": "https://localhost:8080/",
          "height": 279
        },
        "id": "LQEYbztvZqzd",
        "outputId": "49fae7bb-5418-448e-dacf-83c49a1c7ed7"
      },
      "execution_count": 9,
      "outputs": [
        {
          "output_type": "display_data",
          "data": {
            "text/plain": [
              "<Figure size 432x288 with 2 Axes>"
            ],
            "image/png": "[encoded data removed]"
          },
          "metadata": {
            "needs_background": "light"
          }
        }
      ]
    },
    {
      "cell_type": "code",
      "source": [
        "TP = cm[0,0]\n",
        "TN = cm[1,1]\n",
        "FP = cm[0,1]\n",
        "FN = cm[1,0]\n",
        "# Accuracy\n",
        "classification_accuracy = ((TP + TN) / float(TP + TN + FP + FN)*100)\n",
        "\n",
        "print('Accuracy : {0:0.2f}'.format(classification_accuracy),'%')\n",
        "# Classification Error\n",
        "classification_error = ((FP + FN) / float(TP + TN + FP + FN)*100)\n",
        "\n",
        "print('Classification error : {0:0.2f}'.format(classification_error),'%')\n",
        "#Recall\n",
        "\n",
        "recall = (TP / float(TP + FN)*100)\n",
        "\n",
        "print('Recall : {0:0.2f}'.format(recall),\"%\")\n",
        "\n",
        "# Precision\n",
        "precision = (TP / float(TP + FP)*100)\n",
        "\n",
        "print('Precision : {0:0.2f}'.format(precision),\"%\")\n",
        "\n",
        "# Specificity\n",
        "\n",
        "specificity = (TN / (TN + FP)*100)\n",
        "\n",
        "print('Specificity : {0:0.2f}'.format(specificity),'%')\n",
        "# Sensitivity\n",
        "\n",
        "Sensitivity = (TP / (TP + FN)*100)\n",
        "\n",
        "print('Sensitivity : {0:0.2f}'.format(Sensitivity),\"%\")\n",
        "# G Mean\n",
        "gmean = math.sqrt(specificity*Sensitivity)\n",
        "print('G Mean : {0:0.2f}'.format(gmean),'%')"
      ],
      "metadata": {
        "colab": {
          "base_uri": "https://localhost:8080/"
        },
        "id": "biXDZkJrbhLI",
        "outputId": "cb0af175-9c5b-4aed-bc47-a80f810c3d07"
      },
      "execution_count": 10,
      "outputs": [
        {
          "output_type": "stream",
          "name": "stdout",
          "text": [
            "Accuracy : 96.30 %\n",
            "Classification error : 3.70 %\n",
            "Recall : 100.00 %\n",
            "Precision : 93.75 %\n",
            "Specificity : 91.67 %\n",
            "Sensitivity : 100.00 %\n",
            "G Mean : 95.74 %\n"
          ]
        }
      ]
    },
    {
      "cell_type": "code",
      "source": [
        "# Gaussian Naive Bayes"
      ],
      "metadata": {
        "id": "Ne_JLJPdNcs0"
      },
      "execution_count": 11,
      "outputs": []
    },
    {
      "cell_type": "code",
      "source": [
        "gnb = GaussianNB()\n",
        "mdl3 = gnb.fit(x_train,y_train)\n",
        "y_pred = mdl3.predict(x_test)\n",
        "cm = confusion_matrix(y_test,y_pred)\n",
        "cm_display = metrics.ConfusionMatrixDisplay(confusion_matrix = cm, display_labels = [0,1])\n",
        "cm_display.plot(cmap=plt.cm.Blues,values_format='g')\n",
        "plt.show()\n",
        "TP = cm[0,0]\n",
        "TN = cm[1,1]\n",
        "FP = cm[0,1]\n",
        "FN = cm[1,0]\n",
        "# Accuracy\n",
        "classification_accuracy = ((TP + TN) / float(TP + TN + FP + FN)*100)\n",
        "\n",
        "print('Accuracy : {0:0.2f}'.format(classification_accuracy),'%')\n",
        "# Classification Error\n",
        "classification_error = ((FP + FN) / float(TP + TN + FP + FN)*100)\n",
        "\n",
        "print('Classification error : {0:0.2f}'.format(classification_error),'%')\n",
        "#Recall\n",
        "\n",
        "recall = (TP / float(TP + FN)*100)\n",
        "\n",
        "print('Recall : {0:0.2f}'.format(recall),\"%\")\n",
        "\n",
        "# Precision\n",
        "precision = (TP / float(TP + FP)*100)\n",
        "\n",
        "print('Precision : {0:0.2f}'.format(precision),\"%\")\n",
        "\n",
        "# Specificity\n",
        "\n",
        "specificity = (TN / (TN + FP)*100)\n",
        "\n",
        "print('Specificity : {0:0.2f}'.format(specificity),'%')\n",
        "# Sensitivity\n",
        "\n",
        "Sensitivity = (TP / (TP + FN)*100)\n",
        "\n",
        "print('Sensitivity : {0:0.2f}'.format(Sensitivity),\"%\")\n",
        "# G Mean\n",
        "gmean = math.sqrt(specificity*Sensitivity)\n",
        "print('G Mean : {0:0.2f}'.format(gmean),'%')"
      ],
      "metadata": {
        "colab": {
          "base_uri": "https://localhost:8080/",
          "height": 400
        },
        "id": "ydD2EPjEc7JU",
        "outputId": "ee04e84e-ed08-466b-cd10-c6d3ae1a1355"
      },
      "execution_count": 12,
      "outputs": [
        {
          "output_type": "display_data",
          "data": {
            "text/plain": [
              "<Figure size 432x288 with 2 Axes>"
            ],
            "image/png": "[encoded data removed]"
          },
          "metadata": {
            "needs_background": "light"
          }
        },
        {
          "output_type": "stream",
          "name": "stdout",
          "text": [
            "Accuracy : 96.30 %\n",
            "Classification error : 3.70 %\n",
            "Recall : 100.00 %\n",
            "Precision : 93.75 %\n",
            "Specificity : 91.67 %\n",
            "Sensitivity : 100.00 %\n",
            "G Mean : 95.74 %\n"
          ]
        }
      ]
    },
    {
      "cell_type": "code",
      "source": [
        "# K Nearest"
      ],
      "metadata": {
        "id": "vLN9H3nAd9IS"
      },
      "execution_count": 13,
      "outputs": []
    },
    {
      "cell_type": "code",
      "source": [],
      "metadata": {
        "id": "v0WMtle4fFAH"
      },
      "execution_count": 13,
      "outputs": []
    },
    {
      "cell_type": "code",
      "source": [
        "from sklearn.neighbors import KNeighborsClassifier\n",
        "knn = KNeighborsClassifier(n_neighbors=5)\n",
        "mdl4 = knn.fit(x_train,y_train)\n",
        "y_pred = mdl4.predict(x_test)\n",
        "cm = confusion_matrix(y_test,y_pred)\n",
        "cm_display = metrics.ConfusionMatrixDisplay(confusion_matrix = cm, display_labels = [0,1])\n",
        "cm_display.plot(cmap=plt.cm.Blues,values_format='g')\n",
        "plt.show()\n",
        "TP = cm[0,0]\n",
        "TN = cm[1,1]\n",
        "FP = cm[0,1]\n",
        "FN = cm[1,0]\n",
        "# Accuracy\n",
        "classification_accuracy = ((TP + TN) / float(TP + TN + FP + FN)*100)\n",
        "\n",
        "print('Accuracy : {0:0.2f}'.format(classification_accuracy),'%')\n",
        "# Classification Error\n",
        "classification_error = ((FP + FN) / float(TP + TN + FP + FN)*100)\n",
        "\n",
        "print('Classification error : {0:0.2f}'.format(classification_error),'%')\n",
        "#Recall\n",
        "\n",
        "recall = (TP / float(TP + FN)*100)\n",
        "\n",
        "print('Recall : {0:0.2f}'.format(recall),\"%\")\n",
        "\n",
        "# Precision\n",
        "precision = (TP / float(TP + FP)*100)\n",
        "\n",
        "print('Precision : {0:0.2f}'.format(precision),\"%\")\n",
        "\n",
        "# Specificity\n",
        "\n",
        "specificity = (TN / (TN + FP)*100)\n",
        "\n",
        "print('Specificity : {0:0.2f}'.format(specificity),'%')\n",
        "# Sensitivity\n",
        "\n",
        "Sensitivity = (TP / (TP + FN)*100)\n",
        "\n",
        "print('Sensitivity : {0:0.2f}'.format(Sensitivity),\"%\")\n",
        "# G Mean\n",
        "gmean = math.sqrt(specificity*Sensitivity)\n",
        "print('G Mean : {0:0.2f}'.format(gmean),'%')"
      ],
      "metadata": {
        "colab": {
          "base_uri": "https://localhost:8080/",
          "height": 400
        },
        "id": "WOajIZnIe_BR",
        "outputId": "b736de17-d33c-4555-f8ab-6ce9e3e692d1"
      },
      "execution_count": 14,
      "outputs": [
        {
          "output_type": "display_data",
          "data": {
            "text/plain": [
              "<Figure size 432x288 with 2 Axes>"
            ],
            "image/png": "[encoded data removed]"
          },
          "metadata": {
            "needs_background": "light"
          }
        },
        {
          "output_type": "stream",
          "name": "stdout",
          "text": [
            "Accuracy : 96.30 %\n",
            "Classification error : 3.70 %\n",
            "Recall : 100.00 %\n",
            "Precision : 93.75 %\n",
            "Specificity : 91.67 %\n",
            "Sensitivity : 100.00 %\n",
            "G Mean : 95.74 %\n"
          ]
        }
      ]
    },
    {
      "cell_type": "code",
      "source": [
        "# Neural Network"
      ],
      "metadata": {
        "id": "S1hUeAvW1mMS"
      },
      "execution_count": 15,
      "outputs": []
    },
    {
      "cell_type": "code",
      "source": [
        "from keras.models import Sequential\n",
        "from keras.layers import Dense, Activation\n",
        "from sklearn.metrics import confusion_matrix\n",
        "from sklearn.metrics import f1_score\n",
        "from sklearn.metrics import accuracy_score\n",
        "from sklearn.model_selection import train_test_split\n",
        "from keras.metrics.metrics import accuracy"
      ],
      "metadata": {
        "id": "EAA4FGLypZxk"
      },
      "execution_count": 16,
      "outputs": []
    },
    {
      "cell_type": "code",
      "source": [
        "model = Sequential()\n",
        "model.add(Dense(20, input_shape=(16,)))\n",
        "model.add(Activation('relu'))\n",
        "model.add(Dense(1))\n",
        "model.add(Activation('sigmoid'))\n"
      ],
      "metadata": {
        "id": "2Z4KJye4p5VH"
      },
      "execution_count": 17,
      "outputs": []
    },
    {
      "cell_type": "code",
      "source": [],
      "metadata": {
        "id": "5UrZUKHLORjL"
      },
      "execution_count": 17,
      "outputs": []
    },
    {
      "cell_type": "code",
      "source": [
        "model.compile(loss='mean_squared_error', optimizer='sgd', metrics=['accuracy'])\n",
        "model.summary()"
      ],
      "metadata": {
        "id": "swBTzGOPrB_O",
        "colab": {
          "base_uri": "https://localhost:8080/"
        },
        "outputId": "da1f5c9f-fa29-444c-dffc-bf258aed9549"
      },
      "execution_count": 18,
      "outputs": [
        {
          "output_type": "stream",
          "name": "stdout",
          "text": [
            "Model: \"sequential\"\n",
            "_________________________________________________________________\n",
            " Layer (type)                Output Shape              Param #   \n",
            "=================================================================\n",
            " dense (Dense)               (None, 20)                340       \n",
            "                                                                 \n",
            " activation (Activation)     (None, 20)                0         \n",
            "                                                                 \n",
            " dense_1 (Dense)             (None, 1)                 21        \n",
            "                                                                 \n",
            " activation_1 (Activation)   (None, 1)                 0         \n",
            "                                                                 \n",
            "=================================================================\n",
            "Total params: 361\n",
            "Trainable params: 361\n",
            "Non-trainable params: 0\n",
            "_________________________________________________________________\n"
          ]
        }
      ]
    },
    {
      "cell_type": "code",
      "source": [
        "mdl = model.fit(x_train,y_train, epochs=100)"
      ],
      "metadata": {
        "id": "--HKNJbr2Gk0",
        "colab": {
          "base_uri": "https://localhost:8080/"
        },
        "outputId": "8f3d1aa3-31b6-4d0a-c124-bf8810ac7617"
      },
      "execution_count": 19,
      "outputs": [
        {
          "output_type": "stream",
          "name": "stdout",
          "text": [
            "Epoch 1/100\n",
            "7/7 [==============================] - 1s 2ms/step - loss: 0.2740 - accuracy: 0.5122\n",
            "Epoch 2/100\n",
            "7/7 [==============================] - 0s 2ms/step - loss: 0.2672 - accuracy: 0.5220\n",
            "Epoch 3/100\n",
            "7/7 [==============================] - 0s 2ms/step - loss: 0.2606 - accuracy: 0.5220\n",
            "Epoch 4/100\n",
            "7/7 [==============================] - 0s 2ms/step - loss: 0.2542 - accuracy: 0.5268\n",
            "Epoch 5/100\n",
            "7/7 [==============================] - 0s 1ms/step - loss: 0.2480 - accuracy: 0.5268\n",
            "Epoch 6/100\n",
            "7/7 [==============================] - 0s 2ms/step - loss: 0.2420 - accuracy: 0.5268\n",
            "Epoch 7/100\n",
            "7/7 [==============================] - 0s 1ms/step - loss: 0.2364 - accuracy: 0.5610\n",
            "Epoch 8/100\n",
            "7/7 [==============================] - 0s 2ms/step - loss: 0.2311 - accuracy: 0.6195\n",
            "Epoch 9/100\n",
            "7/7 [==============================] - 0s 2ms/step - loss: 0.2261 - accuracy: 0.6537\n",
            "Epoch 10/100\n",
            "7/7 [==============================] - 0s 1ms/step - loss: 0.2213 - accuracy: 0.6585\n",
            "Epoch 11/100\n",
            "7/7 [==============================] - 0s 2ms/step - loss: 0.2166 - accuracy: 0.6585\n",
            "Epoch 12/100\n",
            "7/7 [==============================] - 0s 2ms/step - loss: 0.2122 - accuracy: 0.6683\n",
            "Epoch 13/100\n",
            "7/7 [==============================] - 0s 2ms/step - loss: 0.2081 - accuracy: 0.6878\n",
            "Epoch 14/100\n",
            "7/7 [==============================] - 0s 2ms/step - loss: 0.2043 - accuracy: 0.6927\n",
            "Epoch 15/100\n",
            "7/7 [==============================] - 0s 2ms/step - loss: 0.2005 - accuracy: 0.6927\n",
            "Epoch 16/100\n",
            "7/7 [==============================] - 0s 2ms/step - loss: 0.1969 - accuracy: 0.6927\n",
            "Epoch 17/100\n",
            "7/7 [==============================] - 0s 2ms/step - loss: 0.1934 - accuracy: 0.7024\n",
            "Epoch 18/100\n",
            "7/7 [==============================] - 0s 2ms/step - loss: 0.1899 - accuracy: 0.6976\n",
            "Epoch 19/100\n",
            "7/7 [==============================] - 0s 2ms/step - loss: 0.1866 - accuracy: 0.7512\n",
            "Epoch 20/100\n",
            "7/7 [==============================] - 0s 2ms/step - loss: 0.1835 - accuracy: 0.7854\n",
            "Epoch 21/100\n",
            "7/7 [==============================] - 0s 2ms/step - loss: 0.1805 - accuracy: 0.8049\n",
            "Epoch 22/100\n",
            "7/7 [==============================] - 0s 2ms/step - loss: 0.1774 - accuracy: 0.8049\n",
            "Epoch 23/100\n",
            "7/7 [==============================] - 0s 2ms/step - loss: 0.1744 - accuracy: 0.8244\n",
            "Epoch 24/100\n",
            "7/7 [==============================] - 0s 2ms/step - loss: 0.1716 - accuracy: 0.8293\n",
            "Epoch 25/100\n",
            "7/7 [==============================] - 0s 2ms/step - loss: 0.1687 - accuracy: 0.8439\n",
            "Epoch 26/100\n",
            "7/7 [==============================] - 0s 3ms/step - loss: 0.1660 - accuracy: 0.8439\n",
            "Epoch 27/100\n",
            "7/7 [==============================] - 0s 2ms/step - loss: 0.1635 - accuracy: 0.8488\n",
            "Epoch 28/100\n",
            "7/7 [==============================] - 0s 1ms/step - loss: 0.1610 - accuracy: 0.8488\n",
            "Epoch 29/100\n",
            "7/7 [==============================] - 0s 1ms/step - loss: 0.1587 - accuracy: 0.8537\n",
            "Epoch 30/100\n",
            "7/7 [==============================] - 0s 1ms/step - loss: 0.1565 - accuracy: 0.8537\n",
            "Epoch 31/100\n",
            "7/7 [==============================] - 0s 2ms/step - loss: 0.1541 - accuracy: 0.8537\n",
            "Epoch 32/100\n",
            "7/7 [==============================] - 0s 2ms/step - loss: 0.1520 - accuracy: 0.8537\n",
            "Epoch 33/100\n",
            "7/7 [==============================] - 0s 1ms/step - loss: 0.1499 - accuracy: 0.8585\n",
            "Epoch 34/100\n",
            "7/7 [==============================] - 0s 1ms/step - loss: 0.1479 - accuracy: 0.8537\n",
            "Epoch 35/100\n",
            "7/7 [==============================] - 0s 2ms/step - loss: 0.1459 - accuracy: 0.8537\n",
            "Epoch 36/100\n",
            "7/7 [==============================] - 0s 1ms/step - loss: 0.1441 - accuracy: 0.8537\n",
            "Epoch 37/100\n",
            "7/7 [==============================] - 0s 1ms/step - loss: 0.1424 - accuracy: 0.8634\n",
            "Epoch 38/100\n",
            "7/7 [==============================] - 0s 1ms/step - loss: 0.1406 - accuracy: 0.8634\n",
            "Epoch 39/100\n",
            "7/7 [==============================] - 0s 2ms/step - loss: 0.1390 - accuracy: 0.8634\n",
            "Epoch 40/100\n",
            "7/7 [==============================] - 0s 1ms/step - loss: 0.1373 - accuracy: 0.8683\n",
            "Epoch 41/100\n",
            "7/7 [==============================] - 0s 2ms/step - loss: 0.1357 - accuracy: 0.8732\n",
            "Epoch 42/100\n",
            "7/7 [==============================] - 0s 2ms/step - loss: 0.1341 - accuracy: 0.8732\n",
            "Epoch 43/100\n",
            "7/7 [==============================] - 0s 2ms/step - loss: 0.1325 - accuracy: 0.8732\n",
            "Epoch 44/100\n",
            "7/7 [==============================] - 0s 2ms/step - loss: 0.1311 - accuracy: 0.8732\n",
            "Epoch 45/100\n",
            "7/7 [==============================] - 0s 2ms/step - loss: 0.1298 - accuracy: 0.8732\n",
            "Epoch 46/100\n",
            "7/7 [==============================] - 0s 3ms/step - loss: 0.1284 - accuracy: 0.8732\n",
            "Epoch 47/100\n",
            "7/7 [==============================] - 0s 2ms/step - loss: 0.1271 - accuracy: 0.8683\n",
            "Epoch 48/100\n",
            "7/7 [==============================] - 0s 2ms/step - loss: 0.1258 - accuracy: 0.8683\n",
            "Epoch 49/100\n",
            "7/7 [==============================] - 0s 2ms/step - loss: 0.1246 - accuracy: 0.8683\n",
            "Epoch 50/100\n",
            "7/7 [==============================] - 0s 2ms/step - loss: 0.1233 - accuracy: 0.8683\n",
            "Epoch 51/100\n",
            "7/7 [==============================] - 0s 2ms/step - loss: 0.1221 - accuracy: 0.8683\n",
            "Epoch 52/100\n",
            "7/7 [==============================] - 0s 2ms/step - loss: 0.1210 - accuracy: 0.8683\n",
            "Epoch 53/100\n",
            "7/7 [==============================] - 0s 2ms/step - loss: 0.1200 - accuracy: 0.8683\n",
            "Epoch 54/100\n",
            "7/7 [==============================] - 0s 2ms/step - loss: 0.1188 - accuracy: 0.8683\n",
            "Epoch 55/100\n",
            "7/7 [==============================] - 0s 2ms/step - loss: 0.1178 - accuracy: 0.8683\n",
            "Epoch 56/100\n",
            "7/7 [==============================] - 0s 1ms/step - loss: 0.1168 - accuracy: 0.8683\n",
            "Epoch 57/100\n",
            "7/7 [==============================] - 0s 2ms/step - loss: 0.1157 - accuracy: 0.8732\n",
            "Epoch 58/100\n",
            "7/7 [==============================] - 0s 2ms/step - loss: 0.1148 - accuracy: 0.8732\n",
            "Epoch 59/100\n",
            "7/7 [==============================] - 0s 2ms/step - loss: 0.1138 - accuracy: 0.8732\n",
            "Epoch 60/100\n",
            "7/7 [==============================] - 0s 2ms/step - loss: 0.1129 - accuracy: 0.8732\n",
            "Epoch 61/100\n",
            "7/7 [==============================] - 0s 2ms/step - loss: 0.1119 - accuracy: 0.8780\n",
            "Epoch 62/100\n",
            "7/7 [==============================] - 0s 2ms/step - loss: 0.1110 - accuracy: 0.8780\n",
            "Epoch 63/100\n",
            "7/7 [==============================] - 0s 2ms/step - loss: 0.1101 - accuracy: 0.8780\n",
            "Epoch 64/100\n",
            "7/7 [==============================] - 0s 2ms/step - loss: 0.1093 - accuracy: 0.8829\n",
            "Epoch 65/100\n",
            "7/7 [==============================] - 0s 1ms/step - loss: 0.1085 - accuracy: 0.8829\n",
            "Epoch 66/100\n",
            "7/7 [==============================] - 0s 2ms/step - loss: 0.1077 - accuracy: 0.8829\n",
            "Epoch 67/100\n",
            "7/7 [==============================] - 0s 1ms/step - loss: 0.1070 - accuracy: 0.8829\n",
            "Epoch 68/100\n",
            "7/7 [==============================] - 0s 2ms/step - loss: 0.1062 - accuracy: 0.8829\n",
            "Epoch 69/100\n",
            "7/7 [==============================] - 0s 2ms/step - loss: 0.1054 - accuracy: 0.8927\n",
            "Epoch 70/100\n",
            "7/7 [==============================] - 0s 2ms/step - loss: 0.1046 - accuracy: 0.8927\n",
            "Epoch 71/100\n",
            "7/7 [==============================] - 0s 1ms/step - loss: 0.1039 - accuracy: 0.8976\n",
            "Epoch 72/100\n",
            "7/7 [==============================] - 0s 2ms/step - loss: 0.1033 - accuracy: 0.8976\n",
            "Epoch 73/100\n",
            "7/7 [==============================] - 0s 1ms/step - loss: 0.1025 - accuracy: 0.9024\n",
            "Epoch 74/100\n",
            "7/7 [==============================] - 0s 1ms/step - loss: 0.1018 - accuracy: 0.9024\n",
            "Epoch 75/100\n",
            "7/7 [==============================] - 0s 2ms/step - loss: 0.1012 - accuracy: 0.9024\n",
            "Epoch 76/100\n",
            "7/7 [==============================] - 0s 2ms/step - loss: 0.1005 - accuracy: 0.9024\n",
            "Epoch 77/100\n",
            "7/7 [==============================] - 0s 2ms/step - loss: 0.0999 - accuracy: 0.9024\n",
            "Epoch 78/100\n",
            "7/7 [==============================] - 0s 2ms/step - loss: 0.0993 - accuracy: 0.9024\n",
            "Epoch 79/100\n",
            "7/7 [==============================] - 0s 1ms/step - loss: 0.0987 - accuracy: 0.9024\n",
            "Epoch 80/100\n",
            "7/7 [==============================] - 0s 2ms/step - loss: 0.0981 - accuracy: 0.9024\n",
            "Epoch 81/100\n",
            "7/7 [==============================] - 0s 2ms/step - loss: 0.0975 - accuracy: 0.9024\n",
            "Epoch 82/100\n",
            "7/7 [==============================] - 0s 2ms/step - loss: 0.0969 - accuracy: 0.9024\n",
            "Epoch 83/100\n",
            "7/7 [==============================] - 0s 1ms/step - loss: 0.0964 - accuracy: 0.9024\n",
            "Epoch 84/100\n",
            "7/7 [==============================] - 0s 1ms/step - loss: 0.0958 - accuracy: 0.9024\n",
            "Epoch 85/100\n",
            "7/7 [==============================] - 0s 1ms/step - loss: 0.0952 - accuracy: 0.9024\n",
            "Epoch 86/100\n",
            "7/7 [==============================] - 0s 2ms/step - loss: 0.0947 - accuracy: 0.9024\n",
            "Epoch 87/100\n",
            "7/7 [==============================] - 0s 1ms/step - loss: 0.0942 - accuracy: 0.9024\n",
            "Epoch 88/100\n",
            "7/7 [==============================] - 0s 1ms/step - loss: 0.0936 - accuracy: 0.9024\n",
            "Epoch 89/100\n",
            "7/7 [==============================] - 0s 1ms/step - loss: 0.0931 - accuracy: 0.9024\n",
            "Epoch 90/100\n",
            "7/7 [==============================] - 0s 2ms/step - loss: 0.0927 - accuracy: 0.9024\n",
            "Epoch 91/100\n",
            "7/7 [==============================] - 0s 2ms/step - loss: 0.0922 - accuracy: 0.9024\n",
            "Epoch 92/100\n",
            "7/7 [==============================] - 0s 2ms/step - loss: 0.0917 - accuracy: 0.9024\n",
            "Epoch 93/100\n",
            "7/7 [==============================] - 0s 2ms/step - loss: 0.0913 - accuracy: 0.9073\n",
            "Epoch 94/100\n",
            "7/7 [==============================] - 0s 2ms/step - loss: 0.0908 - accuracy: 0.9073\n",
            "Epoch 95/100\n",
            "7/7 [==============================] - 0s 2ms/step - loss: 0.0903 - accuracy: 0.9073\n",
            "Epoch 96/100\n",
            "7/7 [==============================] - 0s 1ms/step - loss: 0.0899 - accuracy: 0.9073\n",
            "Epoch 97/100\n",
            "7/7 [==============================] - 0s 2ms/step - loss: 0.0895 - accuracy: 0.9073\n",
            "Epoch 98/100\n",
            "7/7 [==============================] - 0s 2ms/step - loss: 0.0890 - accuracy: 0.9073\n",
            "Epoch 99/100\n",
            "7/7 [==============================] - 0s 2ms/step - loss: 0.0886 - accuracy: 0.9073\n",
            "Epoch 100/100\n",
            "7/7 [==============================] - 0s 1ms/step - loss: 0.0882 - accuracy: 0.9073\n"
          ]
        }
      ]
    },
    {
      "cell_type": "code",
      "source": [
        "y_pred = model.predict(x_test)\n",
        "y_pred"
      ],
      "metadata": {
        "colab": {
          "base_uri": "https://localhost:8080/"
        },
        "id": "ChkrSkadO5ab",
        "outputId": "e246611f-03be-41ba-87a5-19ca2927cf31"
      },
      "execution_count": 20,
      "outputs": [
        {
          "output_type": "stream",
          "name": "stdout",
          "text": [
            "1/1 [==============================] - 0s 60ms/step\n"
          ]
        },
        {
          "output_type": "execute_result",
          "data": {
            "text/plain": [
              "array([[0.67525846],\n",
              "       [0.31543297],\n",
              "       [0.7726171 ],\n",
              "       [0.2640694 ],\n",
              "       [0.5316744 ],\n",
              "       [0.78733754],\n",
              "       [0.8350858 ],\n",
              "       [0.79394203],\n",
              "       [0.5442507 ],\n",
              "       [0.76569563],\n",
              "       [0.7887164 ],\n",
              "       [0.7429827 ],\n",
              "       [0.13593063],\n",
              "       [0.80010265],\n",
              "       [0.2135325 ],\n",
              "       [0.7370251 ],\n",
              "       [0.14682439],\n",
              "       [0.20899351],\n",
              "       [0.2135325 ],\n",
              "       [0.5845975 ],\n",
              "       [0.1671627 ],\n",
              "       [0.08248069],\n",
              "       [0.12147579],\n",
              "       [0.11941556],\n",
              "       [0.699927  ],\n",
              "       [0.7502651 ],\n",
              "       [0.15403064]], dtype=float32)"
            ]
          },
          "metadata": {},
          "execution_count": 20
        }
      ]
    },
    {
      "cell_type": "code",
      "source": [
        "y_pclass = np.where(y_pred>=0.5,1,0)\n",
        "confusion_matrix = metrics.confusion_matrix(y_test,y_pclass)\n",
        "cm_display = metrics.ConfusionMatrixDisplay(confusion_matrix = confusion_matrix, display_labels = [0,1])\n",
        "cm_display.plot(cmap=plt.cm.Blues,values_format='g')\n",
        "plt.show()\n",
        "print(accuracy_score(y_test, y_pclass))\n",
        "NNmean = round(accuracy_score(y_test, y_pclass))"
      ],
      "metadata": {
        "colab": {
          "base_uri": "https://localhost:8080/",
          "height": 300
        },
        "id": "t8RM2j2OPXz2",
        "outputId": "f7b84027-2918-4cb0-8b6c-5c4c878b6dd4"
      },
      "execution_count": 21,
      "outputs": [
        {
          "output_type": "display_data",
          "data": {
            "text/plain": [
              "<Figure size 432x288 with 2 Axes>"
            ],
            "image/png": "[encoded data removed]"
          },
          "metadata": {
            "needs_background": "light"
          }
        },
        {
          "output_type": "stream",
          "name": "stdout",
          "text": [
            "0.8518518518518519\n"
          ]
        }
      ]
    },
    {
      "cell_type": "code",
      "source": [
        "TP = confusion_matrix[0,0]\n",
        "TN = confusion_matrix[1,1]\n",
        "FP = confusion_matrix[0,1]\n",
        "FN = confusion_matrix[1,0]\n",
        "# Accuracy\n",
        "classification_accuracy = ((TP + TN) / float(TP + TN + FP + FN)*100)\n",
        "\n",
        "print('Accuracy : {0:0.2f}'.format(classification_accuracy),'%')\n",
        "# Classification Error\n",
        "classification_error = ((FP + FN) / float(TP + TN + FP + FN)*100)\n",
        "\n",
        "print('Classification error : {0:0.2f}'.format(classification_error),'%')\n",
        "#Recall\n",
        "\n",
        "recall = (TP / float(TP + FN)*100)\n",
        "\n",
        "print('Recall : {0:0.2f}'.format(recall),\"%\")\n",
        "\n",
        "# Precision\n",
        "precision = (TP / float(TP + FP)*100)\n",
        "\n",
        "print('Precision : {0:0.2f}'.format(precision),\"%\")\n",
        "\n",
        "# Specificity\n",
        "\n",
        "specificity = (TN / (TN + FP)*100)\n",
        "\n",
        "print('Specificity : {0:0.2f}'.format(specificity),'%')\n",
        "# Sensitivity\n",
        "\n",
        "Sensitivity = (TP / (TP + FN)*100)\n",
        "\n",
        "print('Sensitivity : {0:0.2f}'.format(Sensitivity),\"%\")\n",
        "# G Mean\n",
        "gmean = math.sqrt(specificity*Sensitivity)\n",
        "print('G Mean : {0:0.2f}'.format(gmean),'%')"
      ],
      "metadata": {
        "colab": {
          "base_uri": "https://localhost:8080/"
        },
        "id": "Mv6_LBUgQrAo",
        "outputId": "8642c246-6e31-4c98-eaeb-e9ea60ab344b"
      },
      "execution_count": 22,
      "outputs": [
        {
          "output_type": "stream",
          "name": "stdout",
          "text": [
            "Accuracy : 85.19 %\n",
            "Classification error : 14.81 %\n",
            "Recall : 100.00 %\n",
            "Precision : 75.00 %\n",
            "Specificity : 73.33 %\n",
            "Sensitivity : 100.00 %\n",
            "G Mean : 85.63 %\n"
          ]
        }
      ]
    }
  ]
}