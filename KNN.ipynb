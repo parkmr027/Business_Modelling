{
  "nbformat": 4,
  "nbformat_minor": 0,
  "metadata": {
    "colab": {
      "provenance": []
    },
    "kernelspec": {
      "name": "python3",
      "display_name": "Python 3"
    },
    "language_info": {
      "name": "python"
    }
  },
  "cells": [
    {
      "cell_type": "code",
      "execution_count": null,
      "metadata": {
        "id": "l2SODA5SFU69"
      },
      "outputs": [],
      "source": [
        "from sklearn.neighbors import KNeighborsClassifier\n",
        "knn = KNeighborsClassifier(n_neighbors=3)\n",
        "X_train = [[21, 4000],[24, 3000], [35, 5000], [51, 8000],[45, 10000]];\n",
        "Y_train = [0,0,1,1,1];\n",
        "knn.fit(X_train, Y_train)\n",
        "x_test = [[63, 6901]]\n",
        "print(knn.predict(x_test))"
      ]
    }
  ]
}