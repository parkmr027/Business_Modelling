{
  "nbformat": 4,
  "nbformat_minor": 0,
  "metadata": {
    "colab": {
      "provenance": []
    },
    "kernelspec": {
      "name": "python3",
      "display_name": "Python 3"
    },
    "language_info": {
      "name": "python"
    }
  },
  "cells": [
    {
      "cell_type": "markdown",
      "source": [
        "**Import required libraries**"
      ],
      "metadata": {
        "id": "IS3QDyPjitxt"
      }
    },
    {
      "cell_type": "code",
      "source": [
        "import math\n",
        "import numpy as np\n",
        "import pandas as pd\n",
        "import seaborn as sns\n",
        "from sklearn import metrics\n",
        "import matplotlib.pyplot as plt\n",
        "from sklearn.metrics import f1_score\n",
        "from sklearn.naive_bayes import GaussianNB\n",
        "from sklearn.metrics import confusion_matrix\n",
        "from sklearn.model_selection import LeavePOut\n",
        "from sklearn.tree import DecisionTreeClassifier\n",
        "from sklearn.metrics import plot_confusion_matrix\n",
        "from sklearn.linear_model import LogisticRegression\n",
        "from sklearn.model_selection import cross_val_score\n",
        "from sklearn.model_selection import cross_val_predict\n"
      ],
      "metadata": {
        "id": "QCWDuv8HVhwx"
      },
      "execution_count": 1,
      "outputs": []
    },
    {
      "cell_type": "code",
      "source": [
        "dataset= pd.read_csv(\"/content/Data_BM.csv\")\n",
        "dataset.head()\n"
      ],
      "metadata": {
        "id": "kl2nMUBMWDFv",
        "colab": {
          "base_uri": "https://localhost:8080/",
          "height": 206
        },
        "outputId": "ec9ed554-03d8-43f3-dedb-cd15e89f1eac"
      },
      "execution_count": 2,
      "outputs": [
        {
          "output_type": "execute_result",
          "data": {
            "text/plain": [
              "   Classlabel  x1  x2  x3  x4  x5  x6  x7  x8  x9  x10  x11  x12  x13  x14  \\\n",
              "0           0   0   1   1   0   1   1   0   0   0    0    0    0    1    1   \n",
              "1           1   0   1   0   1   1   1   0   0   0    0    0    1    1    1   \n",
              "2           0   1   1   1   0   0   0   1   1   1    0    1    0    0    0   \n",
              "3           0   1   1   1   0   0   0   1   1   1    0    0    0    0    0   \n",
              "4           0   1   0   1   0   0   0   1   1   1    1    0    0    0    0   \n",
              "\n",
              "   x15  x16  \n",
              "0    1    1  \n",
              "1    0    1  \n",
              "2    1    1  \n",
              "3    1    1  \n",
              "4    1    1  "
            ],
            "text/html": [
              "\n",
              "  <div id=\"df-49ee4e9a-9c88-421d-90dc-74c0cabcb06e\">\n",
              "    <div class=\"colab-df-container\">\n",
              "      <div>\n",
              "<style scoped>\n",
              "    .dataframe tbody tr th:only-of-type {\n",
              "        vertical-align: middle;\n",
              "    }\n",
              "\n",
              "    .dataframe tbody tr th {\n",
              "        vertical-align: top;\n",
              "    }\n",
              "\n",
              "    .dataframe thead th {\n",
              "        text-align: right;\n",
              "    }\n",
              "</style>\n",
              "<table border=\"1\" class=\"dataframe\">\n",
              "  <thead>\n",
              "    <tr style=\"text-align: right;\">\n",
              "      <th></th>\n",
              "      <th>Classlabel</th>\n",
              "      <th>x1</th>\n",
              "      <th>x2</th>\n",
              "      <th>x3</th>\n",
              "      <th>x4</th>\n",
              "      <th>x5</th>\n",
              "      <th>x6</th>\n",
              "      <th>x7</th>\n",
              "      <th>x8</th>\n",
              "      <th>x9</th>\n",
              "      <th>x10</th>\n",
              "      <th>x11</th>\n",
              "      <th>x12</th>\n",
              "      <th>x13</th>\n",
              "      <th>x14</th>\n",
              "      <th>x15</th>\n",
              "      <th>x16</th>\n",
              "    </tr>\n",
              "  </thead>\n",
              "  <tbody>\n",
              "    <tr>\n",
              "      <th>0</th>\n",
              "      <td>0</td>\n",
              "      <td>0</td>\n",
              "      <td>1</td>\n",
              "      <td>1</td>\n",
              "      <td>0</td>\n",
              "      <td>1</td>\n",
              "      <td>1</td>\n",
              "      <td>0</td>\n",
              "      <td>0</td>\n",
              "      <td>0</td>\n",
              "      <td>0</td>\n",
              "      <td>0</td>\n",
              "      <td>0</td>\n",
              "      <td>1</td>\n",
              "      <td>1</td>\n",
              "      <td>1</td>\n",
              "      <td>1</td>\n",
              "    </tr>\n",
              "    <tr>\n",
              "      <th>1</th>\n",
              "      <td>1</td>\n",
              "      <td>0</td>\n",
              "      <td>1</td>\n",
              "      <td>0</td>\n",
              "      <td>1</td>\n",
              "      <td>1</td>\n",
              "      <td>1</td>\n",
              "      <td>0</td>\n",
              "      <td>0</td>\n",
              "      <td>0</td>\n",
              "      <td>0</td>\n",
              "      <td>0</td>\n",
              "      <td>1</td>\n",
              "      <td>1</td>\n",
              "      <td>1</td>\n",
              "      <td>0</td>\n",
              "      <td>1</td>\n",
              "    </tr>\n",
              "    <tr>\n",
              "      <th>2</th>\n",
              "      <td>0</td>\n",
              "      <td>1</td>\n",
              "      <td>1</td>\n",
              "      <td>1</td>\n",
              "      <td>0</td>\n",
              "      <td>0</td>\n",
              "      <td>0</td>\n",
              "      <td>1</td>\n",
              "      <td>1</td>\n",
              "      <td>1</td>\n",
              "      <td>0</td>\n",
              "      <td>1</td>\n",
              "      <td>0</td>\n",
              "      <td>0</td>\n",
              "      <td>0</td>\n",
              "      <td>1</td>\n",
              "      <td>1</td>\n",
              "    </tr>\n",
              "    <tr>\n",
              "      <th>3</th>\n",
              "      <td>0</td>\n",
              "      <td>1</td>\n",
              "      <td>1</td>\n",
              "      <td>1</td>\n",
              "      <td>0</td>\n",
              "      <td>0</td>\n",
              "      <td>0</td>\n",
              "      <td>1</td>\n",
              "      <td>1</td>\n",
              "      <td>1</td>\n",
              "      <td>0</td>\n",
              "      <td>0</td>\n",
              "      <td>0</td>\n",
              "      <td>0</td>\n",
              "      <td>0</td>\n",
              "      <td>1</td>\n",
              "      <td>1</td>\n",
              "    </tr>\n",
              "    <tr>\n",
              "      <th>4</th>\n",
              "      <td>0</td>\n",
              "      <td>1</td>\n",
              "      <td>0</td>\n",
              "      <td>1</td>\n",
              "      <td>0</td>\n",
              "      <td>0</td>\n",
              "      <td>0</td>\n",
              "      <td>1</td>\n",
              "      <td>1</td>\n",
              "      <td>1</td>\n",
              "      <td>1</td>\n",
              "      <td>0</td>\n",
              "      <td>0</td>\n",
              "      <td>0</td>\n",
              "      <td>0</td>\n",
              "      <td>1</td>\n",
              "      <td>1</td>\n",
              "    </tr>\n",
              "  </tbody>\n",
              "</table>\n",
              "</div>\n",
              "      <button class=\"colab-df-convert\" onclick=\"convertToInteractive('df-49ee4e9a-9c88-421d-90dc-74c0cabcb06e')\"\n",
              "              title=\"Convert this dataframe to an interactive table.\"\n",
              "              style=\"display:none;\">\n",
              "        \n",
              "  <svg xmlns=\"http://www.w3.org/2000/svg\" height=\"24px\"viewBox=\"0 0 24 24\"\n",
              "       width=\"24px\">\n",
              "    <path d=\"M0 0h24v24H0V0z\" fill=\"none\"/>\n",
              "    <path d=\"M18.56 5.44l.94 2.06.94-2.06 2.06-.94-2.06-.94-.94-2.06-.94 2.06-2.06.94zm-11 1L8.5 8.5l.94-2.06 2.06-.94-2.06-.94L8.5 2.5l-.94 2.06-2.06.94zm10 10l.94 2.06.94-2.06 2.06-.94-2.06-.94-.94-2.06-.94 2.06-2.06.94z\"/><path d=\"M17.41 7.96l-1.37-1.37c-.4-.4-.92-.59-1.43-.59-.52 0-1.04.2-1.43.59L10.3 9.45l-7.72 7.72c-.78.78-.78 2.05 0 2.83L4 21.41c.39.39.9.59 1.41.59.51 0 1.02-.2 1.41-.59l7.78-7.78 2.81-2.81c.8-.78.8-2.07 0-2.86zM5.41 20L4 18.59l7.72-7.72 1.47 1.35L5.41 20z\"/>\n",
              "  </svg>\n",
              "      </button>\n",
              "      \n",
              "  <style>\n",
              "    .colab-df-container {\n",
              "      display:flex;\n",
              "      flex-wrap:wrap;\n",
              "      gap: 12px;\n",
              "    }\n",
              "\n",
              "    .colab-df-convert {\n",
              "      background-color: #E8F0FE;\n",
              "      border: none;\n",
              "      border-radius: 50%;\n",
              "      cursor: pointer;\n",
              "      display: none;\n",
              "      fill: #1967D2;\n",
              "      height: 32px;\n",
              "      padding: 0 0 0 0;\n",
              "      width: 32px;\n",
              "    }\n",
              "\n",
              "    .colab-df-convert:hover {\n",
              "      background-color: #E2EBFA;\n",
              "      box-shadow: 0px 1px 2px rgba(60, 64, 67, 0.3), 0px 1px 3px 1px rgba(60, 64, 67, 0.15);\n",
              "      fill: #174EA6;\n",
              "    }\n",
              "\n",
              "    [theme=dark] .colab-df-convert {\n",
              "      background-color: #3B4455;\n",
              "      fill: #D2E3FC;\n",
              "    }\n",
              "\n",
              "    [theme=dark] .colab-df-convert:hover {\n",
              "      background-color: #434B5C;\n",
              "      box-shadow: 0px 1px 3px 1px rgba(0, 0, 0, 0.15);\n",
              "      filter: drop-shadow(0px 1px 2px rgba(0, 0, 0, 0.3));\n",
              "      fill: #FFFFFF;\n",
              "    }\n",
              "  </style>\n",
              "\n",
              "      <script>\n",
              "        const buttonEl =\n",
              "          document.querySelector('#df-49ee4e9a-9c88-421d-90dc-74c0cabcb06e button.colab-df-convert');\n",
              "        buttonEl.style.display =\n",
              "          google.colab.kernel.accessAllowed ? 'block' : 'none';\n",
              "\n",
              "        async function convertToInteractive(key) {\n",
              "          const element = document.querySelector('#df-49ee4e9a-9c88-421d-90dc-74c0cabcb06e');\n",
              "          const dataTable =\n",
              "            await google.colab.kernel.invokeFunction('convertToInteractive',\n",
              "                                                     [key], {});\n",
              "          if (!dataTable) return;\n",
              "\n",
              "          const docLinkHtml = 'Like what you see? Visit the ' +\n",
              "            '<a target=\"_blank\" href=https://colab.research.google.com/notebooks/data_table.ipynb>data table notebook</a>'\n",
              "            + ' to learn more about interactive tables.';\n",
              "          element.innerHTML = '';\n",
              "          dataTable['output_type'] = 'display_data';\n",
              "          await google.colab.output.renderOutput(dataTable, element);\n",
              "          const docLink = document.createElement('div');\n",
              "          docLink.innerHTML = docLinkHtml;\n",
              "          element.appendChild(docLink);\n",
              "        }\n",
              "      </script>\n",
              "    </div>\n",
              "  </div>\n",
              "  "
            ]
          },
          "metadata": {},
          "execution_count": 2
        }
      ]
    },
    {
      "cell_type": "code",
      "source": [
        "X= np.array(dataset[[\"x1\",\"x2\",\"x3\",\"x4\",\"x5\",\"x6\",\"x7\",\"x8\",\"x9\",\"x10\",\"x11\",\"x12\",\"x13\",\"x14\",\"x15\",\"x16\"]])\n",
        "Y= np.array(dataset[\"Classlabel\"])"
      ],
      "metadata": {
        "id": "zyWpAxnDWIX6"
      },
      "execution_count": 3,
      "outputs": []
    },
    {
      "cell_type": "markdown",
      "source": [
        "#                                                           **Leave P Out**"
      ],
      "metadata": {
        "id": "r1LHThIij33C"
      }
    },
    {
      "cell_type": "code",
      "source": [
        "x_train,y_train,x_test,y_test = X[0:195],Y[0:195],X[195:232,],Y[195:232]"
      ],
      "metadata": {
        "id": "zQc51Q_QWMmh"
      },
      "execution_count": 4,
      "outputs": []
    },
    {
      "cell_type": "code",
      "source": [
        "dTree = DecisionTreeClassifier(criterion=\"entropy\",random_state=40)\n",
        "mdl1 = dTree.fit(x_train,y_train)\n",
        "y_pred = mdl1.predict(x_test)\n",
        "cm = confusion_matrix(y_test,y_pred)\n",
        "cm_display = metrics.ConfusionMatrixDisplay(confusion_matrix = cm, display_labels = [0,1])\n",
        "cm_display.plot(cmap=plt.cm.Blues,values_format='g')\n",
        "plt.show()\n"
      ],
      "metadata": {
        "id": "nmzNxsnveILh",
        "colab": {
          "base_uri": "https://localhost:8080/",
          "height": 283
        },
        "outputId": "819d24bf-8e09-471a-9e5b-a067b9d67e59"
      },
      "execution_count": 5,
      "outputs": [
        {
          "output_type": "display_data",
          "data": {
            "text/plain": [
              "<Figure size 432x288 with 2 Axes>"
            ],
            "image/png": "[encoded data removed]"
          },
          "metadata": {
            "needs_background": "light"
          }
        }
      ]
    },
    {
      "cell_type": "code",
      "source": [
        "#DECISION TREE"
      ],
      "metadata": {
        "id": "rbGWMcgbM3JY"
      },
      "execution_count": 6,
      "outputs": []
    },
    {
      "cell_type": "code",
      "source": [
        "TP = cm[0,0]\n",
        "TN = cm[1,1]\n",
        "FP = cm[0,1]\n",
        "FN = cm[1,0]\n",
        "# Accuracy\n",
        "classification_accuracy = ((TP + TN) / float(TP + TN + FP + FN)*100)\n",
        "\n",
        "print('Accuracy : {0:0.2f}'.format(classification_accuracy),'%')\n",
        "# Classification Error\n",
        "classification_error = ((FP + FN) / float(TP + TN + FP + FN)*100)\n",
        "\n",
        "print('Classification error : {0:0.2f}'.format(classification_error),'%')\n",
        "#Recall\n",
        "\n",
        "recall = (TP / float(TP + FN)*100)\n",
        "\n",
        "print('Recall : {0:0.2f}'.format(recall),\"%\")\n",
        "\n",
        "# Precision\n",
        "precision = (TP / float(TP + FP)*100)\n",
        "\n",
        "print('Precision : {0:0.2f}'.format(precision),\"%\")\n",
        "\n",
        "# Specificity\n",
        "\n",
        "specificity = (TN / (TN + FP)*100)\n",
        "\n",
        "print('Specificity : {0:0.2f}'.format(specificity),'%')\n",
        "# Sensitivity\n",
        "\n",
        "Sensitivity = (TP / (TP + FN)*100)\n",
        "\n",
        "print('Sensitivity : {0:0.2f}'.format(Sensitivity),\"%\")\n",
        "# G Mean\n",
        "gmean = math.sqrt(specificity*Sensitivity)\n",
        "print('G Mean : {0:0.2f}'.format(gmean),'%')\n"
      ],
      "metadata": {
        "colab": {
          "base_uri": "https://localhost:8080/"
        },
        "id": "XYxqBioaZJ3t",
        "outputId": "e4cebc5f-edac-4e30-e374-347d7e6ac2f0"
      },
      "execution_count": 7,
      "outputs": [
        {
          "output_type": "stream",
          "name": "stdout",
          "text": [
            "Accuracy : 89.19 %\n",
            "Classification error : 10.81 %\n",
            "Recall : 94.74 %\n",
            "Precision : 85.71 %\n",
            "Specificity : 83.33 %\n",
            "Sensitivity : 94.74 %\n",
            "G Mean : 88.85 %\n"
          ]
        }
      ]
    },
    {
      "cell_type": "code",
      "source": [
        "# LOGISTIC REGRESSION"
      ],
      "metadata": {
        "id": "L59QOTdRaJWo"
      },
      "execution_count": 8,
      "outputs": []
    },
    {
      "cell_type": "code",
      "source": [
        "LR = LogisticRegression(solver='liblinear',random_state=0)\n",
        "mdl2 = LR.fit(x_train,y_train)\n",
        "y_pred = mdl2.predict(x_test)\n",
        "cm = confusion_matrix(y_test,y_pred)\n",
        "cm_display = metrics.ConfusionMatrixDisplay(confusion_matrix = cm, display_labels = [0,1])\n",
        "cm_display.plot(cmap=plt.cm.Blues,values_format='g')\n",
        "plt.show()"
      ],
      "metadata": {
        "colab": {
          "base_uri": "https://localhost:8080/",
          "height": 283
        },
        "id": "LQEYbztvZqzd",
        "outputId": "551f6dfd-0bc1-4509-9f4b-f976726947b2"
      },
      "execution_count": 9,
      "outputs": [
        {
          "output_type": "display_data",
          "data": {
            "text/plain": [
              "<Figure size 432x288 with 2 Axes>"
            ],
            "image/png": "[encoded data removed]"
          },
          "metadata": {
            "needs_background": "light"
          }
        }
      ]
    },
    {
      "cell_type": "code",
      "source": [
        "TP = cm[0,0]\n",
        "TN = cm[1,1]\n",
        "FP = cm[0,1]\n",
        "FN = cm[1,0]\n",
        "# Accuracy\n",
        "classification_accuracy = ((TP + TN) / float(TP + TN + FP + FN)*100)\n",
        "\n",
        "print('Accuracy : {0:0.2f}'.format(classification_accuracy),'%')\n",
        "# Classification Error\n",
        "classification_error = ((FP + FN) / float(TP + TN + FP + FN)*100)\n",
        "\n",
        "print('Classification error : {0:0.2f}'.format(classification_error),'%')\n",
        "#Recall\n",
        "\n",
        "recall = (TP / float(TP + FN)*100)\n",
        "\n",
        "print('Recall : {0:0.2f}'.format(recall),\"%\")\n",
        "\n",
        "# Precision\n",
        "precision = (TP / float(TP + FP)*100)\n",
        "\n",
        "print('Precision : {0:0.2f}'.format(precision),\"%\")\n",
        "\n",
        "# Specificity\n",
        "\n",
        "specificity = (TN / (TN + FP)*100)\n",
        "\n",
        "print('Specificity : {0:0.2f}'.format(specificity),'%')\n",
        "# Sensitivity\n",
        "\n",
        "Sensitivity = (TP / (TP + FN)*100)\n",
        "\n",
        "print('Sensitivity : {0:0.2f}'.format(Sensitivity),\"%\")\n",
        "# G Mean\n",
        "gmean = math.sqrt(specificity*Sensitivity)\n",
        "print('G Mean : {0:0.2f}'.format(gmean),'%')"
      ],
      "metadata": {
        "colab": {
          "base_uri": "https://localhost:8080/"
        },
        "id": "biXDZkJrbhLI",
        "outputId": "d9283197-f17c-4344-85f2-533dfb28cba6"
      },
      "execution_count": 10,
      "outputs": [
        {
          "output_type": "stream",
          "name": "stdout",
          "text": [
            "Accuracy : 91.89 %\n",
            "Classification error : 8.11 %\n",
            "Recall : 100.00 %\n",
            "Precision : 85.71 %\n",
            "Specificity : 84.21 %\n",
            "Sensitivity : 100.00 %\n",
            "G Mean : 91.77 %\n"
          ]
        }
      ]
    },
    {
      "cell_type": "code",
      "source": [
        "# Gaussian Naive Bayes"
      ],
      "metadata": {
        "id": "Ne_JLJPdNcs0"
      },
      "execution_count": 11,
      "outputs": []
    },
    {
      "cell_type": "code",
      "source": [
        "gnb = GaussianNB()\n",
        "mdl3 = gnb.fit(x_train,y_train)\n",
        "y_pred = mdl3.predict(x_test)\n",
        "cm = confusion_matrix(y_test,y_pred)\n",
        "cm_display = metrics.ConfusionMatrixDisplay(confusion_matrix = cm, display_labels = [0,1])\n",
        "cm_display.plot(cmap=plt.cm.Blues,values_format='g')\n",
        "plt.show()\n",
        "TP = cm[0,0]\n",
        "TN = cm[1,1]\n",
        "FP = cm[0,1]\n",
        "FN = cm[1,0]\n",
        "# Accuracy\n",
        "classification_accuracy = ((TP + TN) / float(TP + TN + FP + FN)*100)\n",
        "\n",
        "print('Accuracy : {0:0.2f}'.format(classification_accuracy),'%')\n",
        "# Classification Error\n",
        "classification_error = ((FP + FN) / float(TP + TN + FP + FN)*100)\n",
        "\n",
        "print('Classification error : {0:0.2f}'.format(classification_error),'%')\n",
        "#Recall\n",
        "\n",
        "recall = (TP / float(TP + FN)*100)\n",
        "\n",
        "print('Recall : {0:0.2f}'.format(recall),\"%\")\n",
        "\n",
        "# Precision\n",
        "precision = (TP / float(TP + FP)*100)\n",
        "\n",
        "print('Precision : {0:0.2f}'.format(precision),\"%\")\n",
        "\n",
        "# Specificity\n",
        "\n",
        "specificity = (TN / (TN + FP)*100)\n",
        "\n",
        "print('Specificity : {0:0.2f}'.format(specificity),'%')\n",
        "# Sensitivity\n",
        "\n",
        "Sensitivity = (TP / (TP + FN)*100)\n",
        "\n",
        "print('Sensitivity : {0:0.2f}'.format(Sensitivity),\"%\")\n",
        "# G Mean\n",
        "gmean = math.sqrt(specificity*Sensitivity)\n",
        "print('G Mean : {0:0.2f}'.format(gmean),'%')"
      ],
      "metadata": {
        "colab": {
          "base_uri": "https://localhost:8080/",
          "height": 404
        },
        "id": "ydD2EPjEc7JU",
        "outputId": "18a7aa04-9e88-4127-f269-a32e85a10c17"
      },
      "execution_count": 12,
      "outputs": [
        {
          "output_type": "display_data",
          "data": {
            "text/plain": [
              "<Figure size 432x288 with 2 Axes>"
            ],
            "image/png": "[encoded data removed]"
          },
          "metadata": {
            "needs_background": "light"
          }
        },
        {
          "output_type": "stream",
          "name": "stdout",
          "text": [
            "Accuracy : 91.89 %\n",
            "Classification error : 8.11 %\n",
            "Recall : 100.00 %\n",
            "Precision : 85.71 %\n",
            "Specificity : 84.21 %\n",
            "Sensitivity : 100.00 %\n",
            "G Mean : 91.77 %\n"
          ]
        }
      ]
    },
    {
      "cell_type": "code",
      "source": [
        "# K Nearest"
      ],
      "metadata": {
        "id": "vLN9H3nAd9IS"
      },
      "execution_count": 13,
      "outputs": []
    },
    {
      "cell_type": "code",
      "source": [
        "from sklearn.neighbors import KNeighborsClassifier\n",
        "knn = KNeighborsClassifier(n_neighbors=5)\n",
        "mdl4 = knn.fit(x_train,y_train)\n",
        "y_pred = mdl4.predict(x_test)\n",
        "cm = confusion_matrix(y_test,y_pred)\n",
        "cm_display = metrics.ConfusionMatrixDisplay(confusion_matrix = cm, display_labels = [0,1])\n",
        "cm_display.plot(cmap=plt.cm.Blues,values_format='g')\n",
        "plt.show()\n",
        "TP = cm[0,0]\n",
        "TN = cm[1,1]\n",
        "FP = cm[0,1]\n",
        "FN = cm[1,0]\n",
        "# Accuracy\n",
        "classification_accuracy = ((TP + TN) / float(TP + TN + FP + FN)*100)\n",
        "\n",
        "print('Accuracy : {0:0.2f}'.format(classification_accuracy),'%')\n",
        "# Classification Error\n",
        "classification_error = ((FP + FN) / float(TP + TN + FP + FN)*100)\n",
        "\n",
        "print('Classification error : {0:0.2f}'.format(classification_error),'%')\n",
        "#Recall\n",
        "\n",
        "recall = (TP / float(TP + FN)*100)\n",
        "\n",
        "print('Recall : {0:0.2f}'.format(recall),\"%\")\n",
        "\n",
        "# Precision\n",
        "precision = (TP / float(TP + FP)*100)\n",
        "\n",
        "print('Precision : {0:0.2f}'.format(precision),\"%\")\n",
        "\n",
        "# Specificity\n",
        "\n",
        "specificity = (TN / (TN + FP)*100)\n",
        "\n",
        "print('Specificity : {0:0.2f}'.format(specificity),'%')\n",
        "# Sensitivity\n",
        "\n",
        "Sensitivity = (TP / (TP + FN)*100)\n",
        "\n",
        "print('Sensitivity : {0:0.2f}'.format(Sensitivity),\"%\")\n",
        "# G Mean\n",
        "gmean = math.sqrt(specificity*Sensitivity)\n",
        "print('G Mean : {0:0.2f}'.format(gmean),'%')"
      ],
      "metadata": {
        "colab": {
          "base_uri": "https://localhost:8080/",
          "height": 404
        },
        "id": "WOajIZnIe_BR",
        "outputId": "3d4404a9-ac9c-4377-ec8b-c8b4e42770b9"
      },
      "execution_count": 14,
      "outputs": [
        {
          "output_type": "display_data",
          "data": {
            "text/plain": [
              "<Figure size 432x288 with 2 Axes>"
            ],
            "image/png": "[encoded data removed]"
          },
          "metadata": {
            "needs_background": "light"
          }
        },
        {
          "output_type": "stream",
          "name": "stdout",
          "text": [
            "Accuracy : 86.49 %\n",
            "Classification error : 13.51 %\n",
            "Recall : 100.00 %\n",
            "Precision : 76.19 %\n",
            "Specificity : 76.19 %\n",
            "Sensitivity : 100.00 %\n",
            "G Mean : 87.29 %\n"
          ]
        }
      ]
    },
    {
      "cell_type": "code",
      "source": [
        "# Neural Network"
      ],
      "metadata": {
        "id": "S1hUeAvW1mMS"
      },
      "execution_count": 15,
      "outputs": []
    },
    {
      "cell_type": "code",
      "source": [
        "from keras.models import Sequential\n",
        "from keras.layers import Dense, Activation\n",
        "from sklearn.metrics import confusion_matrix\n",
        "from sklearn.metrics import f1_score\n",
        "from sklearn.metrics import accuracy_score\n",
        "from sklearn.model_selection import train_test_split\n",
        "from keras.metrics.metrics import accuracy"
      ],
      "metadata": {
        "id": "EAA4FGLypZxk"
      },
      "execution_count": 16,
      "outputs": []
    },
    {
      "cell_type": "code",
      "source": [
        "model = Sequential()\n",
        "model.add(Dense(20, input_shape=(16,)))\n",
        "model.add(Activation('relu'))\n",
        "model.add(Dense(1))\n",
        "model.add(Activation('sigmoid'))\n"
      ],
      "metadata": {
        "id": "2Z4KJye4p5VH"
      },
      "execution_count": 17,
      "outputs": []
    },
    {
      "cell_type": "code",
      "source": [],
      "metadata": {
        "id": "5UrZUKHLORjL"
      },
      "execution_count": 17,
      "outputs": []
    },
    {
      "cell_type": "code",
      "source": [
        "model.compile(loss='mean_squared_error', optimizer='sgd', metrics=['accuracy'])\n",
        "model.summary()"
      ],
      "metadata": {
        "id": "swBTzGOPrB_O",
        "colab": {
          "base_uri": "https://localhost:8080/"
        },
        "outputId": "ed6095f2-2472-4f29-913d-5c63b71ac8ab"
      },
      "execution_count": 18,
      "outputs": [
        {
          "output_type": "stream",
          "name": "stdout",
          "text": [
            "Model: \"sequential\"\n",
            "_________________________________________________________________\n",
            " Layer (type)                Output Shape              Param #   \n",
            "=================================================================\n",
            " dense (Dense)               (None, 20)                340       \n",
            "                                                                 \n",
            " activation (Activation)     (None, 20)                0         \n",
            "                                                                 \n",
            " dense_1 (Dense)             (None, 1)                 21        \n",
            "                                                                 \n",
            " activation_1 (Activation)   (None, 1)                 0         \n",
            "                                                                 \n",
            "=================================================================\n",
            "Total params: 361\n",
            "Trainable params: 361\n",
            "Non-trainable params: 0\n",
            "_________________________________________________________________\n"
          ]
        }
      ]
    },
    {
      "cell_type": "code",
      "source": [
        "mdl = model.fit(x_train,y_train, epochs=100)"
      ],
      "metadata": {
        "id": "--HKNJbr2Gk0",
        "colab": {
          "base_uri": "https://localhost:8080/"
        },
        "outputId": "3b769305-defb-4db9-9b95-60cc64733a56"
      },
      "execution_count": 19,
      "outputs": [
        {
          "output_type": "stream",
          "name": "stdout",
          "text": [
            "Epoch 1/100\n",
            "7/7 [==============================] - 1s 3ms/step - loss: 0.2701 - accuracy: 0.3897\n",
            "Epoch 2/100\n",
            "7/7 [==============================] - 0s 2ms/step - loss: 0.2648 - accuracy: 0.4154\n",
            "Epoch 3/100\n",
            "7/7 [==============================] - 0s 2ms/step - loss: 0.2590 - accuracy: 0.4410\n",
            "Epoch 4/100\n",
            "7/7 [==============================] - 0s 3ms/step - loss: 0.2530 - accuracy: 0.5077\n",
            "Epoch 5/100\n",
            "7/7 [==============================] - 0s 3ms/step - loss: 0.2480 - accuracy: 0.5333\n",
            "Epoch 6/100\n",
            "7/7 [==============================] - 0s 2ms/step - loss: 0.2427 - accuracy: 0.5795\n",
            "Epoch 7/100\n",
            "7/7 [==============================] - 0s 2ms/step - loss: 0.2377 - accuracy: 0.6410\n",
            "Epoch 8/100\n",
            "7/7 [==============================] - 0s 3ms/step - loss: 0.2325 - accuracy: 0.6769\n",
            "Epoch 9/100\n",
            "7/7 [==============================] - 0s 2ms/step - loss: 0.2280 - accuracy: 0.6923\n",
            "Epoch 10/100\n",
            "7/7 [==============================] - 0s 2ms/step - loss: 0.2232 - accuracy: 0.7026\n",
            "Epoch 11/100\n",
            "7/7 [==============================] - 0s 2ms/step - loss: 0.2190 - accuracy: 0.7385\n",
            "Epoch 12/100\n",
            "7/7 [==============================] - 0s 3ms/step - loss: 0.2148 - accuracy: 0.7846\n",
            "Epoch 13/100\n",
            "7/7 [==============================] - 0s 3ms/step - loss: 0.2109 - accuracy: 0.7949\n",
            "Epoch 14/100\n",
            "7/7 [==============================] - 0s 2ms/step - loss: 0.2073 - accuracy: 0.8000\n",
            "Epoch 15/100\n",
            "7/7 [==============================] - 0s 2ms/step - loss: 0.2034 - accuracy: 0.8051\n",
            "Epoch 16/100\n",
            "7/7 [==============================] - 0s 2ms/step - loss: 0.1996 - accuracy: 0.8103\n",
            "Epoch 17/100\n",
            "7/7 [==============================] - 0s 3ms/step - loss: 0.1961 - accuracy: 0.8410\n",
            "Epoch 18/100\n",
            "7/7 [==============================] - 0s 3ms/step - loss: 0.1925 - accuracy: 0.8615\n",
            "Epoch 19/100\n",
            "7/7 [==============================] - 0s 3ms/step - loss: 0.1893 - accuracy: 0.8872\n",
            "Epoch 20/100\n",
            "7/7 [==============================] - 0s 2ms/step - loss: 0.1861 - accuracy: 0.8923\n",
            "Epoch 21/100\n",
            "7/7 [==============================] - 0s 2ms/step - loss: 0.1829 - accuracy: 0.9077\n",
            "Epoch 22/100\n",
            "7/7 [==============================] - 0s 2ms/step - loss: 0.1799 - accuracy: 0.9128\n",
            "Epoch 23/100\n",
            "7/7 [==============================] - 0s 2ms/step - loss: 0.1768 - accuracy: 0.9077\n",
            "Epoch 24/100\n",
            "7/7 [==============================] - 0s 3ms/step - loss: 0.1739 - accuracy: 0.9179\n",
            "Epoch 25/100\n",
            "7/7 [==============================] - 0s 3ms/step - loss: 0.1711 - accuracy: 0.9231\n",
            "Epoch 26/100\n",
            "7/7 [==============================] - 0s 3ms/step - loss: 0.1682 - accuracy: 0.9231\n",
            "Epoch 27/100\n",
            "7/7 [==============================] - 0s 3ms/step - loss: 0.1652 - accuracy: 0.9231\n",
            "Epoch 28/100\n",
            "7/7 [==============================] - 0s 3ms/step - loss: 0.1626 - accuracy: 0.9231\n",
            "Epoch 29/100\n",
            "7/7 [==============================] - 0s 3ms/step - loss: 0.1599 - accuracy: 0.9282\n",
            "Epoch 30/100\n",
            "7/7 [==============================] - 0s 2ms/step - loss: 0.1572 - accuracy: 0.9282\n",
            "Epoch 31/100\n",
            "7/7 [==============================] - 0s 3ms/step - loss: 0.1546 - accuracy: 0.9282\n",
            "Epoch 32/100\n",
            "7/7 [==============================] - 0s 2ms/step - loss: 0.1523 - accuracy: 0.9282\n",
            "Epoch 33/100\n",
            "7/7 [==============================] - 0s 2ms/step - loss: 0.1498 - accuracy: 0.9282\n",
            "Epoch 34/100\n",
            "7/7 [==============================] - 0s 2ms/step - loss: 0.1474 - accuracy: 0.9333\n",
            "Epoch 35/100\n",
            "7/7 [==============================] - 0s 2ms/step - loss: 0.1453 - accuracy: 0.9333\n",
            "Epoch 36/100\n",
            "7/7 [==============================] - 0s 2ms/step - loss: 0.1432 - accuracy: 0.9333\n",
            "Epoch 37/100\n",
            "7/7 [==============================] - 0s 2ms/step - loss: 0.1410 - accuracy: 0.9385\n",
            "Epoch 38/100\n",
            "7/7 [==============================] - 0s 2ms/step - loss: 0.1388 - accuracy: 0.9385\n",
            "Epoch 39/100\n",
            "7/7 [==============================] - 0s 2ms/step - loss: 0.1367 - accuracy: 0.9385\n",
            "Epoch 40/100\n",
            "7/7 [==============================] - 0s 3ms/step - loss: 0.1346 - accuracy: 0.9385\n",
            "Epoch 41/100\n",
            "7/7 [==============================] - 0s 3ms/step - loss: 0.1326 - accuracy: 0.9385\n",
            "Epoch 42/100\n",
            "7/7 [==============================] - 0s 3ms/step - loss: 0.1307 - accuracy: 0.9487\n",
            "Epoch 43/100\n",
            "7/7 [==============================] - 0s 2ms/step - loss: 0.1289 - accuracy: 0.9538\n",
            "Epoch 44/100\n",
            "7/7 [==============================] - 0s 3ms/step - loss: 0.1269 - accuracy: 0.9538\n",
            "Epoch 45/100\n",
            "7/7 [==============================] - 0s 3ms/step - loss: 0.1251 - accuracy: 0.9538\n",
            "Epoch 46/100\n",
            "7/7 [==============================] - 0s 2ms/step - loss: 0.1233 - accuracy: 0.9487\n",
            "Epoch 47/100\n",
            "7/7 [==============================] - 0s 2ms/step - loss: 0.1218 - accuracy: 0.9487\n",
            "Epoch 48/100\n",
            "7/7 [==============================] - 0s 2ms/step - loss: 0.1202 - accuracy: 0.9487\n",
            "Epoch 49/100\n",
            "7/7 [==============================] - 0s 2ms/step - loss: 0.1185 - accuracy: 0.9487\n",
            "Epoch 50/100\n",
            "7/7 [==============================] - 0s 2ms/step - loss: 0.1169 - accuracy: 0.9487\n",
            "Epoch 51/100\n",
            "7/7 [==============================] - 0s 2ms/step - loss: 0.1153 - accuracy: 0.9487\n",
            "Epoch 52/100\n",
            "7/7 [==============================] - 0s 2ms/step - loss: 0.1138 - accuracy: 0.9487\n",
            "Epoch 53/100\n",
            "7/7 [==============================] - 0s 3ms/step - loss: 0.1123 - accuracy: 0.9487\n",
            "Epoch 54/100\n",
            "7/7 [==============================] - 0s 2ms/step - loss: 0.1109 - accuracy: 0.9487\n",
            "Epoch 55/100\n",
            "7/7 [==============================] - 0s 2ms/step - loss: 0.1094 - accuracy: 0.9487\n",
            "Epoch 56/100\n",
            "7/7 [==============================] - 0s 2ms/step - loss: 0.1081 - accuracy: 0.9487\n",
            "Epoch 57/100\n",
            "7/7 [==============================] - 0s 3ms/step - loss: 0.1067 - accuracy: 0.9487\n",
            "Epoch 58/100\n",
            "7/7 [==============================] - 0s 2ms/step - loss: 0.1054 - accuracy: 0.9487\n",
            "Epoch 59/100\n",
            "7/7 [==============================] - 0s 2ms/step - loss: 0.1041 - accuracy: 0.9487\n",
            "Epoch 60/100\n",
            "7/7 [==============================] - 0s 2ms/step - loss: 0.1029 - accuracy: 0.9487\n",
            "Epoch 61/100\n",
            "7/7 [==============================] - 0s 3ms/step - loss: 0.1017 - accuracy: 0.9487\n",
            "Epoch 62/100\n",
            "7/7 [==============================] - 0s 2ms/step - loss: 0.1005 - accuracy: 0.9487\n",
            "Epoch 63/100\n",
            "7/7 [==============================] - 0s 2ms/step - loss: 0.0993 - accuracy: 0.9487\n",
            "Epoch 64/100\n",
            "7/7 [==============================] - 0s 2ms/step - loss: 0.0983 - accuracy: 0.9487\n",
            "Epoch 65/100\n",
            "7/7 [==============================] - 0s 4ms/step - loss: 0.0974 - accuracy: 0.9487\n",
            "Epoch 66/100\n",
            "7/7 [==============================] - 0s 4ms/step - loss: 0.0963 - accuracy: 0.9487\n",
            "Epoch 67/100\n",
            "7/7 [==============================] - 0s 2ms/step - loss: 0.0952 - accuracy: 0.9487\n",
            "Epoch 68/100\n",
            "7/7 [==============================] - 0s 3ms/step - loss: 0.0942 - accuracy: 0.9487\n",
            "Epoch 69/100\n",
            "7/7 [==============================] - 0s 3ms/step - loss: 0.0934 - accuracy: 0.9487\n",
            "Epoch 70/100\n",
            "7/7 [==============================] - 0s 2ms/step - loss: 0.0925 - accuracy: 0.9487\n",
            "Epoch 71/100\n",
            "7/7 [==============================] - 0s 2ms/step - loss: 0.0916 - accuracy: 0.9487\n",
            "Epoch 72/100\n",
            "7/7 [==============================] - 0s 2ms/step - loss: 0.0907 - accuracy: 0.9487\n",
            "Epoch 73/100\n",
            "7/7 [==============================] - 0s 2ms/step - loss: 0.0898 - accuracy: 0.9487\n",
            "Epoch 74/100\n",
            "7/7 [==============================] - 0s 2ms/step - loss: 0.0889 - accuracy: 0.9487\n",
            "Epoch 75/100\n",
            "7/7 [==============================] - 0s 3ms/step - loss: 0.0881 - accuracy: 0.9487\n",
            "Epoch 76/100\n",
            "7/7 [==============================] - 0s 2ms/step - loss: 0.0873 - accuracy: 0.9487\n",
            "Epoch 77/100\n",
            "7/7 [==============================] - 0s 2ms/step - loss: 0.0864 - accuracy: 0.9487\n",
            "Epoch 78/100\n",
            "7/7 [==============================] - 0s 2ms/step - loss: 0.0856 - accuracy: 0.9487\n",
            "Epoch 79/100\n",
            "7/7 [==============================] - 0s 3ms/step - loss: 0.0848 - accuracy: 0.9487\n",
            "Epoch 80/100\n",
            "7/7 [==============================] - 0s 3ms/step - loss: 0.0841 - accuracy: 0.9487\n",
            "Epoch 81/100\n",
            "7/7 [==============================] - 0s 2ms/step - loss: 0.0835 - accuracy: 0.9487\n",
            "Epoch 82/100\n",
            "7/7 [==============================] - 0s 3ms/step - loss: 0.0828 - accuracy: 0.9487\n",
            "Epoch 83/100\n",
            "7/7 [==============================] - 0s 3ms/step - loss: 0.0823 - accuracy: 0.9487\n",
            "Epoch 84/100\n",
            "7/7 [==============================] - 0s 4ms/step - loss: 0.0816 - accuracy: 0.9487\n",
            "Epoch 85/100\n",
            "7/7 [==============================] - 0s 2ms/step - loss: 0.0809 - accuracy: 0.9538\n",
            "Epoch 86/100\n",
            "7/7 [==============================] - 0s 2ms/step - loss: 0.0802 - accuracy: 0.9538\n",
            "Epoch 87/100\n",
            "7/7 [==============================] - 0s 3ms/step - loss: 0.0796 - accuracy: 0.9487\n",
            "Epoch 88/100\n",
            "7/7 [==============================] - 0s 3ms/step - loss: 0.0789 - accuracy: 0.9487\n",
            "Epoch 89/100\n",
            "7/7 [==============================] - 0s 3ms/step - loss: 0.0783 - accuracy: 0.9487\n",
            "Epoch 90/100\n",
            "7/7 [==============================] - 0s 3ms/step - loss: 0.0777 - accuracy: 0.9538\n",
            "Epoch 91/100\n",
            "7/7 [==============================] - 0s 2ms/step - loss: 0.0771 - accuracy: 0.9538\n",
            "Epoch 92/100\n",
            "7/7 [==============================] - 0s 2ms/step - loss: 0.0765 - accuracy: 0.9436\n",
            "Epoch 93/100\n",
            "7/7 [==============================] - 0s 2ms/step - loss: 0.0759 - accuracy: 0.9436\n",
            "Epoch 94/100\n",
            "7/7 [==============================] - 0s 2ms/step - loss: 0.0754 - accuracy: 0.9436\n",
            "Epoch 95/100\n",
            "7/7 [==============================] - 0s 7ms/step - loss: 0.0748 - accuracy: 0.9487\n",
            "Epoch 96/100\n",
            "7/7 [==============================] - 0s 2ms/step - loss: 0.0743 - accuracy: 0.9436\n",
            "Epoch 97/100\n",
            "7/7 [==============================] - 0s 2ms/step - loss: 0.0737 - accuracy: 0.9436\n",
            "Epoch 98/100\n",
            "7/7 [==============================] - 0s 2ms/step - loss: 0.0733 - accuracy: 0.9487\n",
            "Epoch 99/100\n",
            "7/7 [==============================] - 0s 2ms/step - loss: 0.0728 - accuracy: 0.9487\n",
            "Epoch 100/100\n",
            "7/7 [==============================] - 0s 2ms/step - loss: 0.0724 - accuracy: 0.9487\n"
          ]
        }
      ]
    },
    {
      "cell_type": "code",
      "source": [
        "y_pred = model.predict(x_test)\n",
        "y_pred"
      ],
      "metadata": {
        "colab": {
          "base_uri": "https://localhost:8080/"
        },
        "id": "ChkrSkadO5ab",
        "outputId": "0d3aae4f-001e-4870-9706-723cceb08654"
      },
      "execution_count": 20,
      "outputs": [
        {
          "output_type": "stream",
          "name": "stdout",
          "text": [
            "2/2 [==============================] - 0s 6ms/step\n"
          ]
        },
        {
          "output_type": "execute_result",
          "data": {
            "text/plain": [
              "array([[0.63873965],\n",
              "       [0.71317226],\n",
              "       [0.17644377],\n",
              "       [0.7446783 ],\n",
              "       [0.7816471 ],\n",
              "       [0.8401704 ],\n",
              "       [0.75842047],\n",
              "       [0.75842047],\n",
              "       [0.13742247],\n",
              "       [0.6478094 ],\n",
              "       [0.58139706],\n",
              "       [0.14900218],\n",
              "       [0.67824554],\n",
              "       [0.20848933],\n",
              "       [0.38002992],\n",
              "       [0.87485945],\n",
              "       [0.75438386],\n",
              "       [0.75842047],\n",
              "       [0.4221771 ],\n",
              "       [0.82393646],\n",
              "       [0.83654994],\n",
              "       [0.7021444 ],\n",
              "       [0.0889596 ],\n",
              "       [0.79929465],\n",
              "       [0.13384685],\n",
              "       [0.72117597],\n",
              "       [0.07654844],\n",
              "       [0.1186216 ],\n",
              "       [0.13384685],\n",
              "       [0.681784  ],\n",
              "       [0.2569118 ],\n",
              "       [0.15569068],\n",
              "       [0.26439965],\n",
              "       [0.12421775],\n",
              "       [0.766107  ],\n",
              "       [0.70143497],\n",
              "       [0.16008839]], dtype=float32)"
            ]
          },
          "metadata": {},
          "execution_count": 20
        }
      ]
    },
    {
      "cell_type": "code",
      "source": [
        "y_pclass = np.where(y_pred>=0.5,1,0)\n",
        "confusion_matrix = metrics.confusion_matrix(y_test,y_pclass)\n",
        "cm_display = metrics.ConfusionMatrixDisplay(confusion_matrix = confusion_matrix, display_labels = [0,1])\n",
        "cm_display.plot(cmap=plt.cm.Blues,values_format='g')\n",
        "plt.show()\n",
        "print(accuracy_score(y_test, y_pclass))\n",
        "NNmean = round(accuracy_score(y_test, y_pclass))"
      ],
      "metadata": {
        "colab": {
          "base_uri": "https://localhost:8080/",
          "height": 300
        },
        "id": "t8RM2j2OPXz2",
        "outputId": "c24eb659-9674-45b2-aadf-9d6dbaf7992e"
      },
      "execution_count": 21,
      "outputs": [
        {
          "output_type": "display_data",
          "data": {
            "text/plain": [
              "<Figure size 432x288 with 2 Axes>"
            ],
            "image/png": "[encoded data removed]"
          },
          "metadata": {
            "needs_background": "light"
          }
        },
        {
          "output_type": "stream",
          "name": "stdout",
          "text": [
            "0.8648648648648649\n"
          ]
        }
      ]
    },
    {
      "cell_type": "code",
      "source": [
        "TP = confusion_matrix[0,0]\n",
        "TN = confusion_matrix[1,1]\n",
        "FP = confusion_matrix[0,1]\n",
        "FN = confusion_matrix[1,0]\n",
        "# Accuracy\n",
        "classification_accuracy = ((TP + TN) / float(TP + TN + FP + FN)*100)\n",
        "\n",
        "print('Accuracy : {0:0.2f}'.format(classification_accuracy),'%')\n",
        "# Classification Error\n",
        "classification_error = ((FP + FN) / float(TP + TN + FP + FN)*100)\n",
        "\n",
        "print('Classification error : {0:0.2f}'.format(classification_error),'%')\n",
        "#Recall\n",
        "\n",
        "recall = (TP / float(TP + FN)*100)\n",
        "\n",
        "print('Recall : {0:0.2f}'.format(recall),\"%\")\n",
        "\n",
        "# Precision\n",
        "precision = (TP / float(TP + FP)*100)\n",
        "\n",
        "print('Precision : {0:0.2f}'.format(precision),\"%\")\n",
        "\n",
        "# Specificity\n",
        "\n",
        "specificity = (TN / (TN + FP)*100)\n",
        "\n",
        "print('Specificity : {0:0.2f}'.format(specificity),'%')\n",
        "# Sensitivity\n",
        "\n",
        "Sensitivity = (TP / (TP + FN)*100)\n",
        "\n",
        "print('Sensitivity : {0:0.2f}'.format(Sensitivity),\"%\")\n",
        "# G Mean\n",
        "gmean = math.sqrt(specificity*Sensitivity)\n",
        "print('G Mean : {0:0.2f}'.format(gmean),'%')"
      ],
      "metadata": {
        "colab": {
          "base_uri": "https://localhost:8080/"
        },
        "id": "Mv6_LBUgQrAo",
        "outputId": "bae86b50-0895-4c4f-e428-8e6c8c2f295e"
      },
      "execution_count": 22,
      "outputs": [
        {
          "output_type": "stream",
          "name": "stdout",
          "text": [
            "Accuracy : 86.49 %\n",
            "Classification error : 13.51 %\n",
            "Recall : 100.00 %\n",
            "Precision : 76.19 %\n",
            "Specificity : 76.19 %\n",
            "Sensitivity : 100.00 %\n",
            "G Mean : 87.29 %\n"
          ]
        }
      ]
    }
  ]
}