{
  "nbformat": 4,
  "nbformat_minor": 0,
  "metadata": {
    "colab": {
      "provenance": []
    },
    "kernelspec": {
      "name": "python3",
      "display_name": "Python 3"
    },
    "language_info": {
      "name": "python"
    }
  },
  "cells": [
    {
      "cell_type": "markdown",
      "source": [
        "**Import required libraries**"
      ],
      "metadata": {
        "id": "IS3QDyPjitxt"
      }
    },
    {
      "cell_type": "code",
      "source": [
        "import math\n",
        "import numpy as np\n",
        "import pandas as pd\n",
        "import seaborn as sns\n",
        "from sklearn import metrics\n",
        "import matplotlib.pyplot as plt\n",
        "from sklearn.metrics import f1_score\n",
        "from sklearn.naive_bayes import GaussianNB\n",
        "from sklearn.metrics import confusion_matrix\n",
        "from sklearn.model_selection import LeavePOut\n",
        "from sklearn.tree import DecisionTreeClassifier\n",
        "from sklearn.metrics import plot_confusion_matrix\n",
        "from sklearn.linear_model import LogisticRegression\n",
        "from sklearn.model_selection import cross_val_score\n",
        "from sklearn.model_selection import cross_val_predict\n"
      ],
      "metadata": {
        "id": "QCWDuv8HVhwx"
      },
      "execution_count": 1,
      "outputs": []
    },
    {
      "cell_type": "code",
      "source": [
        "dataset= pd.read_csv(\"/content/Data_BM.csv\")\n",
        "dataset.head()\n"
      ],
      "metadata": {
        "id": "kl2nMUBMWDFv",
        "colab": {
          "base_uri": "https://localhost:8080/",
          "height": 206
        },
        "outputId": "c102c138-5be5-479b-86ac-8c07a21ea35f"
      },
      "execution_count": 2,
      "outputs": [
        {
          "output_type": "execute_result",
          "data": {
            "text/plain": [
              "   Classlabel  x1  x2  x3  x4  x5  x6  x7  x8  x9  x10  x11  x12  x13  x14  \\\n",
              "0           0   0   1   1   0   1   1   0   0   0    0    0    0    1    1   \n",
              "1           1   0   1   0   1   1   1   0   0   0    0    0    1    1    1   \n",
              "2           0   1   1   1   0   0   0   1   1   1    0    1    0    0    0   \n",
              "3           0   1   1   1   0   0   0   1   1   1    0    0    0    0    0   \n",
              "4           0   1   0   1   0   0   0   1   1   1    1    0    0    0    0   \n",
              "\n",
              "   x15  x16  \n",
              "0    1    1  \n",
              "1    0    1  \n",
              "2    1    1  \n",
              "3    1    1  \n",
              "4    1    1  "
            ],
            "text/html": [
              "\n",
              "  <div id=\"df-b86b4667-08ea-443e-841d-80c55eb65fe0\">\n",
              "    <div class=\"colab-df-container\">\n",
              "      <div>\n",
              "<style scoped>\n",
              "    .dataframe tbody tr th:only-of-type {\n",
              "        vertical-align: middle;\n",
              "    }\n",
              "\n",
              "    .dataframe tbody tr th {\n",
              "        vertical-align: top;\n",
              "    }\n",
              "\n",
              "    .dataframe thead th {\n",
              "        text-align: right;\n",
              "    }\n",
              "</style>\n",
              "<table border=\"1\" class=\"dataframe\">\n",
              "  <thead>\n",
              "    <tr style=\"text-align: right;\">\n",
              "      <th></th>\n",
              "      <th>Classlabel</th>\n",
              "      <th>x1</th>\n",
              "      <th>x2</th>\n",
              "      <th>x3</th>\n",
              "      <th>x4</th>\n",
              "      <th>x5</th>\n",
              "      <th>x6</th>\n",
              "      <th>x7</th>\n",
              "      <th>x8</th>\n",
              "      <th>x9</th>\n",
              "      <th>x10</th>\n",
              "      <th>x11</th>\n",
              "      <th>x12</th>\n",
              "      <th>x13</th>\n",
              "      <th>x14</th>\n",
              "      <th>x15</th>\n",
              "      <th>x16</th>\n",
              "    </tr>\n",
              "  </thead>\n",
              "  <tbody>\n",
              "    <tr>\n",
              "      <th>0</th>\n",
              "      <td>0</td>\n",
              "      <td>0</td>\n",
              "      <td>1</td>\n",
              "      <td>1</td>\n",
              "      <td>0</td>\n",
              "      <td>1</td>\n",
              "      <td>1</td>\n",
              "      <td>0</td>\n",
              "      <td>0</td>\n",
              "      <td>0</td>\n",
              "      <td>0</td>\n",
              "      <td>0</td>\n",
              "      <td>0</td>\n",
              "      <td>1</td>\n",
              "      <td>1</td>\n",
              "      <td>1</td>\n",
              "      <td>1</td>\n",
              "    </tr>\n",
              "    <tr>\n",
              "      <th>1</th>\n",
              "      <td>1</td>\n",
              "      <td>0</td>\n",
              "      <td>1</td>\n",
              "      <td>0</td>\n",
              "      <td>1</td>\n",
              "      <td>1</td>\n",
              "      <td>1</td>\n",
              "      <td>0</td>\n",
              "      <td>0</td>\n",
              "      <td>0</td>\n",
              "      <td>0</td>\n",
              "      <td>0</td>\n",
              "      <td>1</td>\n",
              "      <td>1</td>\n",
              "      <td>1</td>\n",
              "      <td>0</td>\n",
              "      <td>1</td>\n",
              "    </tr>\n",
              "    <tr>\n",
              "      <th>2</th>\n",
              "      <td>0</td>\n",
              "      <td>1</td>\n",
              "      <td>1</td>\n",
              "      <td>1</td>\n",
              "      <td>0</td>\n",
              "      <td>0</td>\n",
              "      <td>0</td>\n",
              "      <td>1</td>\n",
              "      <td>1</td>\n",
              "      <td>1</td>\n",
              "      <td>0</td>\n",
              "      <td>1</td>\n",
              "      <td>0</td>\n",
              "      <td>0</td>\n",
              "      <td>0</td>\n",
              "      <td>1</td>\n",
              "      <td>1</td>\n",
              "    </tr>\n",
              "    <tr>\n",
              "      <th>3</th>\n",
              "      <td>0</td>\n",
              "      <td>1</td>\n",
              "      <td>1</td>\n",
              "      <td>1</td>\n",
              "      <td>0</td>\n",
              "      <td>0</td>\n",
              "      <td>0</td>\n",
              "      <td>1</td>\n",
              "      <td>1</td>\n",
              "      <td>1</td>\n",
              "      <td>0</td>\n",
              "      <td>0</td>\n",
              "      <td>0</td>\n",
              "      <td>0</td>\n",
              "      <td>0</td>\n",
              "      <td>1</td>\n",
              "      <td>1</td>\n",
              "    </tr>\n",
              "    <tr>\n",
              "      <th>4</th>\n",
              "      <td>0</td>\n",
              "      <td>1</td>\n",
              "      <td>0</td>\n",
              "      <td>1</td>\n",
              "      <td>0</td>\n",
              "      <td>0</td>\n",
              "      <td>0</td>\n",
              "      <td>1</td>\n",
              "      <td>1</td>\n",
              "      <td>1</td>\n",
              "      <td>1</td>\n",
              "      <td>0</td>\n",
              "      <td>0</td>\n",
              "      <td>0</td>\n",
              "      <td>0</td>\n",
              "      <td>1</td>\n",
              "      <td>1</td>\n",
              "    </tr>\n",
              "  </tbody>\n",
              "</table>\n",
              "</div>\n",
              "      <button class=\"colab-df-convert\" onclick=\"convertToInteractive('df-b86b4667-08ea-443e-841d-80c55eb65fe0')\"\n",
              "              title=\"Convert this dataframe to an interactive table.\"\n",
              "              style=\"display:none;\">\n",
              "        \n",
              "  <svg xmlns=\"http://www.w3.org/2000/svg\" height=\"24px\"viewBox=\"0 0 24 24\"\n",
              "       width=\"24px\">\n",
              "    <path d=\"M0 0h24v24H0V0z\" fill=\"none\"/>\n",
              "    <path d=\"M18.56 5.44l.94 2.06.94-2.06 2.06-.94-2.06-.94-.94-2.06-.94 2.06-2.06.94zm-11 1L8.5 8.5l.94-2.06 2.06-.94-2.06-.94L8.5 2.5l-.94 2.06-2.06.94zm10 10l.94 2.06.94-2.06 2.06-.94-2.06-.94-.94-2.06-.94 2.06-2.06.94z\"/><path d=\"M17.41 7.96l-1.37-1.37c-.4-.4-.92-.59-1.43-.59-.52 0-1.04.2-1.43.59L10.3 9.45l-7.72 7.72c-.78.78-.78 2.05 0 2.83L4 21.41c.39.39.9.59 1.41.59.51 0 1.02-.2 1.41-.59l7.78-7.78 2.81-2.81c.8-.78.8-2.07 0-2.86zM5.41 20L4 18.59l7.72-7.72 1.47 1.35L5.41 20z\"/>\n",
              "  </svg>\n",
              "      </button>\n",
              "      \n",
              "  <style>\n",
              "    .colab-df-container {\n",
              "      display:flex;\n",
              "      flex-wrap:wrap;\n",
              "      gap: 12px;\n",
              "    }\n",
              "\n",
              "    .colab-df-convert {\n",
              "      background-color: #E8F0FE;\n",
              "      border: none;\n",
              "      border-radius: 50%;\n",
              "      cursor: pointer;\n",
              "      display: none;\n",
              "      fill: #1967D2;\n",
              "      height: 32px;\n",
              "      padding: 0 0 0 0;\n",
              "      width: 32px;\n",
              "    }\n",
              "\n",
              "    .colab-df-convert:hover {\n",
              "      background-color: #E2EBFA;\n",
              "      box-shadow: 0px 1px 2px rgba(60, 64, 67, 0.3), 0px 1px 3px 1px rgba(60, 64, 67, 0.15);\n",
              "      fill: #174EA6;\n",
              "    }\n",
              "\n",
              "    [theme=dark] .colab-df-convert {\n",
              "      background-color: #3B4455;\n",
              "      fill: #D2E3FC;\n",
              "    }\n",
              "\n",
              "    [theme=dark] .colab-df-convert:hover {\n",
              "      background-color: #434B5C;\n",
              "      box-shadow: 0px 1px 3px 1px rgba(0, 0, 0, 0.15);\n",
              "      filter: drop-shadow(0px 1px 2px rgba(0, 0, 0, 0.3));\n",
              "      fill: #FFFFFF;\n",
              "    }\n",
              "  </style>\n",
              "\n",
              "      <script>\n",
              "        const buttonEl =\n",
              "          document.querySelector('#df-b86b4667-08ea-443e-841d-80c55eb65fe0 button.colab-df-convert');\n",
              "        buttonEl.style.display =\n",
              "          google.colab.kernel.accessAllowed ? 'block' : 'none';\n",
              "\n",
              "        async function convertToInteractive(key) {\n",
              "          const element = document.querySelector('#df-b86b4667-08ea-443e-841d-80c55eb65fe0');\n",
              "          const dataTable =\n",
              "            await google.colab.kernel.invokeFunction('convertToInteractive',\n",
              "                                                     [key], {});\n",
              "          if (!dataTable) return;\n",
              "\n",
              "          const docLinkHtml = 'Like what you see? Visit the ' +\n",
              "            '<a target=\"_blank\" href=https://colab.research.google.com/notebooks/data_table.ipynb>data table notebook</a>'\n",
              "            + ' to learn more about interactive tables.';\n",
              "          element.innerHTML = '';\n",
              "          dataTable['output_type'] = 'display_data';\n",
              "          await google.colab.output.renderOutput(dataTable, element);\n",
              "          const docLink = document.createElement('div');\n",
              "          docLink.innerHTML = docLinkHtml;\n",
              "          element.appendChild(docLink);\n",
              "        }\n",
              "      </script>\n",
              "    </div>\n",
              "  </div>\n",
              "  "
            ]
          },
          "metadata": {},
          "execution_count": 2
        }
      ]
    },
    {
      "cell_type": "code",
      "source": [
        "X= np.array(dataset[[\"x1\",\"x2\",\"x3\",\"x4\",\"x5\",\"x6\",\"x7\",\"x8\",\"x9\",\"x10\",\"x11\",\"x12\",\"x13\",\"x14\",\"x15\",\"x16\"]])\n",
        "Y= np.array(dataset[\"Classlabel\"])"
      ],
      "metadata": {
        "id": "zyWpAxnDWIX6"
      },
      "execution_count": 3,
      "outputs": []
    },
    {
      "cell_type": "markdown",
      "source": [
        "#                                                           **Leave P Out**"
      ],
      "metadata": {
        "id": "r1LHThIij33C"
      }
    },
    {
      "cell_type": "code",
      "source": [
        "x_train,y_train,x_test,y_test = X[0:122],Y[0:122],X[122:232,],Y[122:232]"
      ],
      "metadata": {
        "id": "zQc51Q_QWMmh"
      },
      "execution_count": 4,
      "outputs": []
    },
    {
      "cell_type": "code",
      "source": [
        "dTree = DecisionTreeClassifier(criterion=\"entropy\",random_state=40)\n",
        "mdl1 = dTree.fit(x_train,y_train)\n",
        "y_pred = mdl1.predict(x_test)\n",
        "cm = confusion_matrix(y_test,y_pred)\n",
        "cm_display = metrics.ConfusionMatrixDisplay(confusion_matrix = cm, display_labels = [0,1])\n",
        "cm_display.plot(cmap=plt.cm.Blues,values_format='g')\n",
        "plt.show()\n"
      ],
      "metadata": {
        "id": "nmzNxsnveILh",
        "colab": {
          "base_uri": "https://localhost:8080/",
          "height": 279
        },
        "outputId": "cdee202a-9a43-467d-e404-d9a7436e01c9"
      },
      "execution_count": 5,
      "outputs": [
        {
          "output_type": "display_data",
          "data": {
            "text/plain": [
              "<Figure size 432x288 with 2 Axes>"
            ],
            "image/png": "[encoded data removed]"
          },
          "metadata": {
            "needs_background": "light"
          }
        }
      ]
    },
    {
      "cell_type": "code",
      "source": [
        "#DECISION TREE"
      ],
      "metadata": {
        "id": "rbGWMcgbM3JY"
      },
      "execution_count": 6,
      "outputs": []
    },
    {
      "cell_type": "code",
      "source": [
        "TP = cm[0,0]\n",
        "TN = cm[1,1]\n",
        "FP = cm[0,1]\n",
        "FN = cm[1,0]\n",
        "# Accuracy\n",
        "classification_accuracy = ((TP + TN) / float(TP + TN + FP + FN)*100)\n",
        "\n",
        "print('Accuracy : {0:0.2f}'.format(classification_accuracy),'%')\n",
        "# Classification Error\n",
        "classification_error = ((FP + FN) / float(TP + TN + FP + FN)*100)\n",
        "\n",
        "print('Classification error : {0:0.2f}'.format(classification_error),'%')\n",
        "#Recall\n",
        "\n",
        "recall = (TP / float(TP + FN)*100)\n",
        "\n",
        "print('Recall : {0:0.2f}'.format(recall),\"%\")\n",
        "\n",
        "# Precision\n",
        "precision = (TP / float(TP + FP)*100)\n",
        "\n",
        "print('Precision : {0:0.2f}'.format(precision),\"%\")\n",
        "\n",
        "# Specificity\n",
        "\n",
        "specificity = (TN / (TN + FP)*100)\n",
        "\n",
        "print('Specificity : {0:0.2f}'.format(specificity),'%')\n",
        "# Sensitivity\n",
        "\n",
        "Sensitivity = (TP / (TP + FN)*100)\n",
        "\n",
        "print('Sensitivity : {0:0.2f}'.format(Sensitivity),\"%\")\n",
        "# G Mean\n",
        "gmean = math.sqrt(specificity*Sensitivity)\n",
        "print('G Mean : {0:0.2f}'.format(gmean),'%')\n"
      ],
      "metadata": {
        "colab": {
          "base_uri": "https://localhost:8080/"
        },
        "id": "XYxqBioaZJ3t",
        "outputId": "e5b0b9c3-b0c2-4fc4-8e6d-651e585aa505"
      },
      "execution_count": 7,
      "outputs": [
        {
          "output_type": "stream",
          "name": "stdout",
          "text": [
            "Accuracy : 94.55 %\n",
            "Classification error : 5.45 %\n",
            "Recall : 96.30 %\n",
            "Precision : 92.86 %\n",
            "Specificity : 92.86 %\n",
            "Sensitivity : 96.30 %\n",
            "G Mean : 94.56 %\n"
          ]
        }
      ]
    },
    {
      "cell_type": "code",
      "source": [
        "# LOGISTIC REGRESSION"
      ],
      "metadata": {
        "id": "L59QOTdRaJWo"
      },
      "execution_count": 8,
      "outputs": []
    },
    {
      "cell_type": "code",
      "source": [
        "LR = LogisticRegression(solver='liblinear',random_state=0)\n",
        "mdl2 = LR.fit(x_train,y_train)\n",
        "y_pred = mdl2.predict(x_test)\n",
        "cm = confusion_matrix(y_test,y_pred)\n",
        "cm_display = metrics.ConfusionMatrixDisplay(confusion_matrix = cm, display_labels = [0,1])\n",
        "cm_display.plot(cmap=plt.cm.Blues,values_format='g')\n",
        "plt.show()"
      ],
      "metadata": {
        "colab": {
          "base_uri": "https://localhost:8080/",
          "height": 279
        },
        "id": "LQEYbztvZqzd",
        "outputId": "550e502e-2b71-48dc-b7a7-e8374342fec6"
      },
      "execution_count": 9,
      "outputs": [
        {
          "output_type": "display_data",
          "data": {
            "text/plain": [
              "<Figure size 432x288 with 2 Axes>"
            ],
            "image/png": "[encoded data removed]"
          },
          "metadata": {
            "needs_background": "light"
          }
        }
      ]
    },
    {
      "cell_type": "code",
      "source": [
        "TP = cm[0,0]\n",
        "TN = cm[1,1]\n",
        "FP = cm[0,1]\n",
        "FN = cm[1,0]\n",
        "# Accuracy\n",
        "classification_accuracy = ((TP + TN) / float(TP + TN + FP + FN)*100)\n",
        "\n",
        "print('Accuracy : {0:0.2f}'.format(classification_accuracy),'%')\n",
        "# Classification Error\n",
        "classification_error = ((FP + FN) / float(TP + TN + FP + FN)*100)\n",
        "\n",
        "print('Classification error : {0:0.2f}'.format(classification_error),'%')\n",
        "#Recall\n",
        "\n",
        "recall = (TP / float(TP + FN)*100)\n",
        "\n",
        "print('Recall : {0:0.2f}'.format(recall),\"%\")\n",
        "\n",
        "# Precision\n",
        "precision = (TP / float(TP + FP)*100)\n",
        "\n",
        "print('Precision : {0:0.2f}'.format(precision),\"%\")\n",
        "\n",
        "# Specificity\n",
        "\n",
        "specificity = (TN / (TN + FP)*100)\n",
        "\n",
        "print('Specificity : {0:0.2f}'.format(specificity),'%')\n",
        "# Sensitivity\n",
        "\n",
        "Sensitivity = (TP / (TP + FN)*100)\n",
        "\n",
        "print('Sensitivity : {0:0.2f}'.format(Sensitivity),\"%\")\n",
        "# G Mean\n",
        "gmean = math.sqrt(specificity*Sensitivity)\n",
        "print('G Mean : {0:0.2f}'.format(gmean),'%')"
      ],
      "metadata": {
        "colab": {
          "base_uri": "https://localhost:8080/"
        },
        "id": "biXDZkJrbhLI",
        "outputId": "3f3451d3-b813-4722-8ee2-76a18cc7bef2"
      },
      "execution_count": 10,
      "outputs": [
        {
          "output_type": "stream",
          "name": "stdout",
          "text": [
            "Accuracy : 95.45 %\n",
            "Classification error : 4.55 %\n",
            "Recall : 98.11 %\n",
            "Precision : 92.86 %\n",
            "Specificity : 92.98 %\n",
            "Sensitivity : 98.11 %\n",
            "G Mean : 95.51 %\n"
          ]
        }
      ]
    },
    {
      "cell_type": "code",
      "source": [
        "# Gaussian Naive Bayes"
      ],
      "metadata": {
        "id": "Ne_JLJPdNcs0"
      },
      "execution_count": 11,
      "outputs": []
    },
    {
      "cell_type": "code",
      "source": [
        "gnb = GaussianNB()\n",
        "mdl3 = gnb.fit(x_train,y_train)\n",
        "y_pred = mdl3.predict(x_test)\n",
        "cm = confusion_matrix(y_test,y_pred)\n",
        "cm_display = metrics.ConfusionMatrixDisplay(confusion_matrix = cm, display_labels = [0,1])\n",
        "cm_display.plot(cmap=plt.cm.Blues,values_format='g')\n",
        "plt.show()\n",
        "TP = cm[0,0]\n",
        "TN = cm[1,1]\n",
        "FP = cm[0,1]\n",
        "FN = cm[1,0]\n",
        "# Accuracy\n",
        "classification_accuracy = ((TP + TN) / float(TP + TN + FP + FN)*100)\n",
        "\n",
        "print('Accuracy : {0:0.2f}'.format(classification_accuracy),'%')\n",
        "# Classification Error\n",
        "classification_error = ((FP + FN) / float(TP + TN + FP + FN)*100)\n",
        "\n",
        "print('Classification error : {0:0.2f}'.format(classification_error),'%')\n",
        "#Recall\n",
        "\n",
        "recall = (TP / float(TP + FN)*100)\n",
        "\n",
        "print('Recall : {0:0.2f}'.format(recall),\"%\")\n",
        "\n",
        "# Precision\n",
        "precision = (TP / float(TP + FP)*100)\n",
        "\n",
        "print('Precision : {0:0.2f}'.format(precision),\"%\")\n",
        "\n",
        "# Specificity\n",
        "\n",
        "specificity = (TN / (TN + FP)*100)\n",
        "\n",
        "print('Specificity : {0:0.2f}'.format(specificity),'%')\n",
        "# Sensitivity\n",
        "\n",
        "Sensitivity = (TP / (TP + FN)*100)\n",
        "\n",
        "print('Sensitivity : {0:0.2f}'.format(Sensitivity),\"%\")\n",
        "# G Mean\n",
        "gmean = math.sqrt(specificity*Sensitivity)\n",
        "print('G Mean : {0:0.2f}'.format(gmean),'%')"
      ],
      "metadata": {
        "colab": {
          "base_uri": "https://localhost:8080/",
          "height": 400
        },
        "id": "ydD2EPjEc7JU",
        "outputId": "a9dae207-7592-4456-cce6-97aea3876cce"
      },
      "execution_count": 12,
      "outputs": [
        {
          "output_type": "display_data",
          "data": {
            "text/plain": [
              "<Figure size 432x288 with 2 Axes>"
            ],
            "image/png": "[encoded data removed]"
          },
          "metadata": {
            "needs_background": "light"
          }
        },
        {
          "output_type": "stream",
          "name": "stdout",
          "text": [
            "Accuracy : 94.55 %\n",
            "Classification error : 5.45 %\n",
            "Recall : 96.30 %\n",
            "Precision : 92.86 %\n",
            "Specificity : 92.86 %\n",
            "Sensitivity : 96.30 %\n",
            "G Mean : 94.56 %\n"
          ]
        }
      ]
    },
    {
      "cell_type": "code",
      "source": [
        "# K Nearest"
      ],
      "metadata": {
        "id": "vLN9H3nAd9IS"
      },
      "execution_count": 13,
      "outputs": []
    },
    {
      "cell_type": "code",
      "source": [],
      "metadata": {
        "id": "v0WMtle4fFAH"
      },
      "execution_count": 13,
      "outputs": []
    },
    {
      "cell_type": "code",
      "source": [
        "from sklearn.neighbors import KNeighborsClassifier\n",
        "knn = KNeighborsClassifier(n_neighbors=5)\n",
        "mdl4 = knn.fit(x_train,y_train)\n",
        "y_pred = mdl4.predict(x_test)\n",
        "cm = confusion_matrix(y_test,y_pred)\n",
        "cm_display = metrics.ConfusionMatrixDisplay(confusion_matrix = cm, display_labels = [0,1])\n",
        "cm_display.plot(cmap=plt.cm.Blues,values_format='g')\n",
        "plt.show()\n",
        "TP = cm[0,0]\n",
        "TN = cm[1,1]\n",
        "FP = cm[0,1]\n",
        "FN = cm[1,0]\n",
        "# Accuracy\n",
        "classification_accuracy = ((TP + TN) / float(TP + TN + FP + FN)*100)\n",
        "\n",
        "print('Accuracy : {0:0.2f}'.format(classification_accuracy),'%')\n",
        "# Classification Error\n",
        "classification_error = ((FP + FN) / float(TP + TN + FP + FN)*100)\n",
        "\n",
        "print('Classification error : {0:0.2f}'.format(classification_error),'%')\n",
        "#Recall\n",
        "\n",
        "recall = (TP / float(TP + FN)*100)\n",
        "\n",
        "print('Recall : {0:0.2f}'.format(recall),\"%\")\n",
        "\n",
        "# Precision\n",
        "precision = (TP / float(TP + FP)*100)\n",
        "\n",
        "print('Precision : {0:0.2f}'.format(precision),\"%\")\n",
        "\n",
        "# Specificity\n",
        "\n",
        "specificity = (TN / (TN + FP)*100)\n",
        "\n",
        "print('Specificity : {0:0.2f}'.format(specificity),'%')\n",
        "# Sensitivity\n",
        "\n",
        "Sensitivity = (TP / (TP + FN)*100)\n",
        "\n",
        "print('Sensitivity : {0:0.2f}'.format(Sensitivity),\"%\")\n",
        "# G Mean\n",
        "gmean = math.sqrt(specificity*Sensitivity)\n",
        "print('G Mean : {0:0.2f}'.format(gmean),'%')"
      ],
      "metadata": {
        "colab": {
          "base_uri": "https://localhost:8080/",
          "height": 400
        },
        "id": "WOajIZnIe_BR",
        "outputId": "bde9a6b4-7de1-4993-98e0-79aec14feec1"
      },
      "execution_count": 14,
      "outputs": [
        {
          "output_type": "display_data",
          "data": {
            "text/plain": [
              "<Figure size 432x288 with 2 Axes>"
            ],
            "image/png": "[encoded data removed]"
          },
          "metadata": {
            "needs_background": "light"
          }
        },
        {
          "output_type": "stream",
          "name": "stdout",
          "text": [
            "Accuracy : 93.64 %\n",
            "Classification error : 6.36 %\n",
            "Recall : 96.23 %\n",
            "Precision : 91.07 %\n",
            "Specificity : 91.23 %\n",
            "Sensitivity : 96.23 %\n",
            "G Mean : 93.69 %\n"
          ]
        }
      ]
    },
    {
      "cell_type": "code",
      "source": [
        "# Neural Network"
      ],
      "metadata": {
        "id": "S1hUeAvW1mMS"
      },
      "execution_count": 15,
      "outputs": []
    },
    {
      "cell_type": "code",
      "source": [
        "from keras.models import Sequential\n",
        "from keras.layers import Dense, Activation\n",
        "from sklearn.metrics import confusion_matrix\n",
        "from sklearn.metrics import f1_score\n",
        "from sklearn.metrics import accuracy_score\n",
        "from sklearn.model_selection import train_test_split\n",
        "from keras.metrics.metrics import accuracy"
      ],
      "metadata": {
        "id": "EAA4FGLypZxk"
      },
      "execution_count": 16,
      "outputs": []
    },
    {
      "cell_type": "code",
      "source": [
        "model = Sequential()\n",
        "model.add(Dense(20, input_shape=(16,)))\n",
        "model.add(Activation('relu'))\n",
        "model.add(Dense(1))\n",
        "model.add(Activation('sigmoid'))\n"
      ],
      "metadata": {
        "id": "2Z4KJye4p5VH"
      },
      "execution_count": 17,
      "outputs": []
    },
    {
      "cell_type": "code",
      "source": [],
      "metadata": {
        "id": "5UrZUKHLORjL"
      },
      "execution_count": 17,
      "outputs": []
    },
    {
      "cell_type": "code",
      "source": [
        "model.compile(loss='mean_squared_error', optimizer='sgd', metrics=['accuracy'])\n",
        "model.summary()"
      ],
      "metadata": {
        "id": "swBTzGOPrB_O",
        "colab": {
          "base_uri": "https://localhost:8080/"
        },
        "outputId": "f0a08d26-9cca-4d89-faa6-ef3c5ed42861"
      },
      "execution_count": 18,
      "outputs": [
        {
          "output_type": "stream",
          "name": "stdout",
          "text": [
            "Model: \"sequential\"\n",
            "_________________________________________________________________\n",
            " Layer (type)                Output Shape              Param #   \n",
            "=================================================================\n",
            " dense (Dense)               (None, 20)                340       \n",
            "                                                                 \n",
            " activation (Activation)     (None, 20)                0         \n",
            "                                                                 \n",
            " dense_1 (Dense)             (None, 1)                 21        \n",
            "                                                                 \n",
            " activation_1 (Activation)   (None, 1)                 0         \n",
            "                                                                 \n",
            "=================================================================\n",
            "Total params: 361\n",
            "Trainable params: 361\n",
            "Non-trainable params: 0\n",
            "_________________________________________________________________\n"
          ]
        }
      ]
    },
    {
      "cell_type": "code",
      "source": [
        "mdl = model.fit(x_train,y_train, epochs=100)"
      ],
      "metadata": {
        "id": "--HKNJbr2Gk0",
        "colab": {
          "base_uri": "https://localhost:8080/"
        },
        "outputId": "c1f29046-703d-485c-9f4e-fa4f554c1456"
      },
      "execution_count": 19,
      "outputs": [
        {
          "output_type": "stream",
          "name": "stdout",
          "text": [
            "Epoch 1/100\n",
            "4/4 [==============================] - 1s 3ms/step - loss: 0.2435 - accuracy: 0.5492\n",
            "Epoch 2/100\n",
            "4/4 [==============================] - 0s 2ms/step - loss: 0.2390 - accuracy: 0.5820\n",
            "Epoch 3/100\n",
            "4/4 [==============================] - 0s 2ms/step - loss: 0.2347 - accuracy: 0.5984\n",
            "Epoch 4/100\n",
            "4/4 [==============================] - 0s 2ms/step - loss: 0.2305 - accuracy: 0.6311\n",
            "Epoch 5/100\n",
            "4/4 [==============================] - 0s 2ms/step - loss: 0.2265 - accuracy: 0.6557\n",
            "Epoch 6/100\n",
            "4/4 [==============================] - 0s 2ms/step - loss: 0.2227 - accuracy: 0.6639\n",
            "Epoch 7/100\n",
            "4/4 [==============================] - 0s 2ms/step - loss: 0.2192 - accuracy: 0.6639\n",
            "Epoch 8/100\n",
            "4/4 [==============================] - 0s 2ms/step - loss: 0.2155 - accuracy: 0.6885\n",
            "Epoch 9/100\n",
            "4/4 [==============================] - 0s 2ms/step - loss: 0.2120 - accuracy: 0.6967\n",
            "Epoch 10/100\n",
            "4/4 [==============================] - 0s 2ms/step - loss: 0.2089 - accuracy: 0.7049\n",
            "Epoch 11/100\n",
            "4/4 [==============================] - 0s 2ms/step - loss: 0.2057 - accuracy: 0.7049\n",
            "Epoch 12/100\n",
            "4/4 [==============================] - 0s 3ms/step - loss: 0.2027 - accuracy: 0.7459\n",
            "Epoch 13/100\n",
            "4/4 [==============================] - 0s 4ms/step - loss: 0.1999 - accuracy: 0.7623\n",
            "Epoch 14/100\n",
            "4/4 [==============================] - 0s 3ms/step - loss: 0.1971 - accuracy: 0.7623\n",
            "Epoch 15/100\n",
            "4/4 [==============================] - 0s 3ms/step - loss: 0.1944 - accuracy: 0.7951\n",
            "Epoch 16/100\n",
            "4/4 [==============================] - 0s 5ms/step - loss: 0.1918 - accuracy: 0.8115\n",
            "Epoch 17/100\n",
            "4/4 [==============================] - 0s 3ms/step - loss: 0.1893 - accuracy: 0.8115\n",
            "Epoch 18/100\n",
            "4/4 [==============================] - 0s 3ms/step - loss: 0.1871 - accuracy: 0.8197\n",
            "Epoch 19/100\n",
            "4/4 [==============================] - 0s 3ms/step - loss: 0.1846 - accuracy: 0.8279\n",
            "Epoch 20/100\n",
            "4/4 [==============================] - 0s 3ms/step - loss: 0.1824 - accuracy: 0.8361\n",
            "Epoch 21/100\n",
            "4/4 [==============================] - 0s 3ms/step - loss: 0.1803 - accuracy: 0.8443\n",
            "Epoch 22/100\n",
            "4/4 [==============================] - 0s 3ms/step - loss: 0.1782 - accuracy: 0.8525\n",
            "Epoch 23/100\n",
            "4/4 [==============================] - 0s 6ms/step - loss: 0.1763 - accuracy: 0.8525\n",
            "Epoch 24/100\n",
            "4/4 [==============================] - 0s 4ms/step - loss: 0.1743 - accuracy: 0.8607\n",
            "Epoch 25/100\n",
            "4/4 [==============================] - 0s 6ms/step - loss: 0.1724 - accuracy: 0.8607\n",
            "Epoch 26/100\n",
            "4/4 [==============================] - 0s 10ms/step - loss: 0.1707 - accuracy: 0.8607\n",
            "Epoch 27/100\n",
            "4/4 [==============================] - 0s 9ms/step - loss: 0.1690 - accuracy: 0.8525\n",
            "Epoch 28/100\n",
            "4/4 [==============================] - 0s 6ms/step - loss: 0.1672 - accuracy: 0.8525\n",
            "Epoch 29/100\n",
            "4/4 [==============================] - 0s 4ms/step - loss: 0.1656 - accuracy: 0.8525\n",
            "Epoch 30/100\n",
            "4/4 [==============================] - 0s 7ms/step - loss: 0.1639 - accuracy: 0.8525\n",
            "Epoch 31/100\n",
            "4/4 [==============================] - 0s 3ms/step - loss: 0.1624 - accuracy: 0.8525\n",
            "Epoch 32/100\n",
            "4/4 [==============================] - 0s 3ms/step - loss: 0.1608 - accuracy: 0.8443\n",
            "Epoch 33/100\n",
            "4/4 [==============================] - 0s 7ms/step - loss: 0.1593 - accuracy: 0.8443\n",
            "Epoch 34/100\n",
            "4/4 [==============================] - 0s 7ms/step - loss: 0.1579 - accuracy: 0.8443\n",
            "Epoch 35/100\n",
            "4/4 [==============================] - 0s 3ms/step - loss: 0.1565 - accuracy: 0.8443\n",
            "Epoch 36/100\n",
            "4/4 [==============================] - 0s 3ms/step - loss: 0.1551 - accuracy: 0.8443\n",
            "Epoch 37/100\n",
            "4/4 [==============================] - 0s 3ms/step - loss: 0.1537 - accuracy: 0.8443\n",
            "Epoch 38/100\n",
            "4/4 [==============================] - 0s 3ms/step - loss: 0.1524 - accuracy: 0.8443\n",
            "Epoch 39/100\n",
            "4/4 [==============================] - 0s 3ms/step - loss: 0.1511 - accuracy: 0.8443\n",
            "Epoch 40/100\n",
            "4/4 [==============================] - 0s 3ms/step - loss: 0.1498 - accuracy: 0.8443\n",
            "Epoch 41/100\n",
            "4/4 [==============================] - 0s 3ms/step - loss: 0.1486 - accuracy: 0.8443\n",
            "Epoch 42/100\n",
            "4/4 [==============================] - 0s 3ms/step - loss: 0.1474 - accuracy: 0.8443\n",
            "Epoch 43/100\n",
            "4/4 [==============================] - 0s 4ms/step - loss: 0.1462 - accuracy: 0.8525\n",
            "Epoch 44/100\n",
            "4/4 [==============================] - 0s 3ms/step - loss: 0.1450 - accuracy: 0.8525\n",
            "Epoch 45/100\n",
            "4/4 [==============================] - 0s 5ms/step - loss: 0.1439 - accuracy: 0.8525\n",
            "Epoch 46/100\n",
            "4/4 [==============================] - 0s 4ms/step - loss: 0.1428 - accuracy: 0.8525\n",
            "Epoch 47/100\n",
            "4/4 [==============================] - 0s 6ms/step - loss: 0.1418 - accuracy: 0.8607\n",
            "Epoch 48/100\n",
            "4/4 [==============================] - 0s 8ms/step - loss: 0.1406 - accuracy: 0.8607\n",
            "Epoch 49/100\n",
            "4/4 [==============================] - 0s 4ms/step - loss: 0.1396 - accuracy: 0.8607\n",
            "Epoch 50/100\n",
            "4/4 [==============================] - 0s 3ms/step - loss: 0.1386 - accuracy: 0.8607\n",
            "Epoch 51/100\n",
            "4/4 [==============================] - 0s 3ms/step - loss: 0.1376 - accuracy: 0.8607\n",
            "Epoch 52/100\n",
            "4/4 [==============================] - 0s 8ms/step - loss: 0.1366 - accuracy: 0.8607\n",
            "Epoch 53/100\n",
            "4/4 [==============================] - 0s 4ms/step - loss: 0.1356 - accuracy: 0.8689\n",
            "Epoch 54/100\n",
            "4/4 [==============================] - 0s 7ms/step - loss: 0.1347 - accuracy: 0.8689\n",
            "Epoch 55/100\n",
            "4/4 [==============================] - 0s 3ms/step - loss: 0.1338 - accuracy: 0.8689\n",
            "Epoch 56/100\n",
            "4/4 [==============================] - 0s 3ms/step - loss: 0.1329 - accuracy: 0.8689\n",
            "Epoch 57/100\n",
            "4/4 [==============================] - 0s 3ms/step - loss: 0.1319 - accuracy: 0.8689\n",
            "Epoch 58/100\n",
            "4/4 [==============================] - 0s 3ms/step - loss: 0.1311 - accuracy: 0.8689\n",
            "Epoch 59/100\n",
            "4/4 [==============================] - 0s 4ms/step - loss: 0.1302 - accuracy: 0.8689\n",
            "Epoch 60/100\n",
            "4/4 [==============================] - 0s 3ms/step - loss: 0.1294 - accuracy: 0.8689\n",
            "Epoch 61/100\n",
            "4/4 [==============================] - 0s 6ms/step - loss: 0.1285 - accuracy: 0.8689\n",
            "Epoch 62/100\n",
            "4/4 [==============================] - 0s 5ms/step - loss: 0.1277 - accuracy: 0.8689\n",
            "Epoch 63/100\n",
            "4/4 [==============================] - 0s 7ms/step - loss: 0.1269 - accuracy: 0.8689\n",
            "Epoch 64/100\n",
            "4/4 [==============================] - 0s 5ms/step - loss: 0.1262 - accuracy: 0.8689\n",
            "Epoch 65/100\n",
            "4/4 [==============================] - 0s 3ms/step - loss: 0.1254 - accuracy: 0.8689\n",
            "Epoch 66/100\n",
            "4/4 [==============================] - 0s 4ms/step - loss: 0.1246 - accuracy: 0.8689\n",
            "Epoch 67/100\n",
            "4/4 [==============================] - 0s 3ms/step - loss: 0.1239 - accuracy: 0.8689\n",
            "Epoch 68/100\n",
            "4/4 [==============================] - 0s 3ms/step - loss: 0.1233 - accuracy: 0.8689\n",
            "Epoch 69/100\n",
            "4/4 [==============================] - 0s 3ms/step - loss: 0.1224 - accuracy: 0.8689\n",
            "Epoch 70/100\n",
            "4/4 [==============================] - 0s 5ms/step - loss: 0.1218 - accuracy: 0.8689\n",
            "Epoch 71/100\n",
            "4/4 [==============================] - 0s 4ms/step - loss: 0.1210 - accuracy: 0.8689\n",
            "Epoch 72/100\n",
            "4/4 [==============================] - 0s 3ms/step - loss: 0.1204 - accuracy: 0.8689\n",
            "Epoch 73/100\n",
            "4/4 [==============================] - 0s 4ms/step - loss: 0.1197 - accuracy: 0.8689\n",
            "Epoch 74/100\n",
            "4/4 [==============================] - 0s 4ms/step - loss: 0.1191 - accuracy: 0.8689\n",
            "Epoch 75/100\n",
            "4/4 [==============================] - 0s 6ms/step - loss: 0.1184 - accuracy: 0.8689\n",
            "Epoch 76/100\n",
            "4/4 [==============================] - 0s 4ms/step - loss: 0.1177 - accuracy: 0.8689\n",
            "Epoch 77/100\n",
            "4/4 [==============================] - 0s 3ms/step - loss: 0.1171 - accuracy: 0.8689\n",
            "Epoch 78/100\n",
            "4/4 [==============================] - 0s 3ms/step - loss: 0.1165 - accuracy: 0.8689\n",
            "Epoch 79/100\n",
            "4/4 [==============================] - 0s 3ms/step - loss: 0.1159 - accuracy: 0.8689\n",
            "Epoch 80/100\n",
            "4/4 [==============================] - 0s 4ms/step - loss: 0.1153 - accuracy: 0.8689\n",
            "Epoch 81/100\n",
            "4/4 [==============================] - 0s 3ms/step - loss: 0.1147 - accuracy: 0.8689\n",
            "Epoch 82/100\n",
            "4/4 [==============================] - 0s 4ms/step - loss: 0.1141 - accuracy: 0.8689\n",
            "Epoch 83/100\n",
            "4/4 [==============================] - 0s 4ms/step - loss: 0.1136 - accuracy: 0.8689\n",
            "Epoch 84/100\n",
            "4/4 [==============================] - 0s 3ms/step - loss: 0.1130 - accuracy: 0.8689\n",
            "Epoch 85/100\n",
            "4/4 [==============================] - 0s 3ms/step - loss: 0.1124 - accuracy: 0.8689\n",
            "Epoch 86/100\n",
            "4/4 [==============================] - 0s 4ms/step - loss: 0.1119 - accuracy: 0.8689\n",
            "Epoch 87/100\n",
            "4/4 [==============================] - 0s 3ms/step - loss: 0.1113 - accuracy: 0.8689\n",
            "Epoch 88/100\n",
            "4/4 [==============================] - 0s 3ms/step - loss: 0.1108 - accuracy: 0.8689\n",
            "Epoch 89/100\n",
            "4/4 [==============================] - 0s 4ms/step - loss: 0.1103 - accuracy: 0.8689\n",
            "Epoch 90/100\n",
            "4/4 [==============================] - 0s 4ms/step - loss: 0.1098 - accuracy: 0.8689\n",
            "Epoch 91/100\n",
            "4/4 [==============================] - 0s 3ms/step - loss: 0.1093 - accuracy: 0.8689\n",
            "Epoch 92/100\n",
            "4/4 [==============================] - 0s 4ms/step - loss: 0.1088 - accuracy: 0.8689\n",
            "Epoch 93/100\n",
            "4/4 [==============================] - 0s 3ms/step - loss: 0.1083 - accuracy: 0.8689\n",
            "Epoch 94/100\n",
            "4/4 [==============================] - 0s 3ms/step - loss: 0.1078 - accuracy: 0.8689\n",
            "Epoch 95/100\n",
            "4/4 [==============================] - 0s 4ms/step - loss: 0.1073 - accuracy: 0.8689\n",
            "Epoch 96/100\n",
            "4/4 [==============================] - 0s 4ms/step - loss: 0.1069 - accuracy: 0.8689\n",
            "Epoch 97/100\n",
            "4/4 [==============================] - 0s 3ms/step - loss: 0.1064 - accuracy: 0.8689\n",
            "Epoch 98/100\n",
            "4/4 [==============================] - 0s 3ms/step - loss: 0.1059 - accuracy: 0.8689\n",
            "Epoch 99/100\n",
            "4/4 [==============================] - 0s 3ms/step - loss: 0.1055 - accuracy: 0.8689\n",
            "Epoch 100/100\n",
            "4/4 [==============================] - 0s 3ms/step - loss: 0.1050 - accuracy: 0.8689\n"
          ]
        }
      ]
    },
    {
      "cell_type": "code",
      "source": [
        "y_pred = model.predict(x_test)\n",
        "y_pred"
      ],
      "metadata": {
        "colab": {
          "base_uri": "https://localhost:8080/"
        },
        "id": "ChkrSkadO5ab",
        "outputId": "38699445-853d-436e-94e6-496b21ee3227"
      },
      "execution_count": 20,
      "outputs": [
        {
          "output_type": "stream",
          "name": "stdout",
          "text": [
            "4/4 [==============================] - 0s 2ms/step\n"
          ]
        },
        {
          "output_type": "execute_result",
          "data": {
            "text/plain": [
              "array([[0.17229371],\n",
              "       [0.23784524],\n",
              "       [0.17844306],\n",
              "       [0.77729255],\n",
              "       [0.77729255],\n",
              "       [0.153792  ],\n",
              "       [0.7743806 ],\n",
              "       [0.2239699 ],\n",
              "       [0.1560959 ],\n",
              "       [0.68217385],\n",
              "       [0.16039173],\n",
              "       [0.21904828],\n",
              "       [0.2239699 ],\n",
              "       [0.2239699 ],\n",
              "       [0.70522463],\n",
              "       [0.35163692],\n",
              "       [0.21904828],\n",
              "       [0.17121346],\n",
              "       [0.4527499 ],\n",
              "       [0.70301783],\n",
              "       [0.4573259 ],\n",
              "       [0.7729765 ],\n",
              "       [0.7901132 ],\n",
              "       [0.23818819],\n",
              "       [0.7729765 ],\n",
              "       [0.19764261],\n",
              "       [0.41708747],\n",
              "       [0.24403302],\n",
              "       [0.22009252],\n",
              "       [0.53175145],\n",
              "       [0.242321  ],\n",
              "       [0.22838375],\n",
              "       [0.6570083 ],\n",
              "       [0.7313813 ],\n",
              "       [0.7918919 ],\n",
              "       [0.7901132 ],\n",
              "       [0.7918919 ],\n",
              "       [0.7901132 ],\n",
              "       [0.2425549 ],\n",
              "       [0.68925226],\n",
              "       [0.28387827],\n",
              "       [0.1644208 ],\n",
              "       [0.6697168 ],\n",
              "       [0.6601451 ],\n",
              "       [0.4137325 ],\n",
              "       [0.23228656],\n",
              "       [0.41764534],\n",
              "       [0.26463068],\n",
              "       [0.7625524 ],\n",
              "       [0.49800223],\n",
              "       [0.7743806 ],\n",
              "       [0.22026867],\n",
              "       [0.78926355],\n",
              "       [0.17690064],\n",
              "       [0.16296507],\n",
              "       [0.1560959 ],\n",
              "       [0.7803093 ],\n",
              "       [0.73094404],\n",
              "       [0.5465963 ],\n",
              "       [0.1856207 ],\n",
              "       [0.52162844],\n",
              "       [0.77292824],\n",
              "       [0.770843  ],\n",
              "       [0.5341734 ],\n",
              "       [0.27705598],\n",
              "       [0.4019365 ],\n",
              "       [0.6234099 ],\n",
              "       [0.27788728],\n",
              "       [0.7918919 ],\n",
              "       [0.7918919 ],\n",
              "       [0.28302145],\n",
              "       [0.31284338],\n",
              "       [0.72148186],\n",
              "       [0.7825373 ],\n",
              "       [0.7309458 ],\n",
              "       [0.22965488],\n",
              "       [0.7230801 ],\n",
              "       [0.7743806 ],\n",
              "       [0.7146475 ],\n",
              "       [0.7729765 ],\n",
              "       [0.7729765 ],\n",
              "       [0.37288764],\n",
              "       [0.6558562 ],\n",
              "       [0.61257124],\n",
              "       [0.3350475 ],\n",
              "       [0.80330944],\n",
              "       [0.42851833],\n",
              "       [0.42900097],\n",
              "       [0.7855054 ],\n",
              "       [0.783039  ],\n",
              "       [0.7729765 ],\n",
              "       [0.41884977],\n",
              "       [0.79725444],\n",
              "       [0.7918919 ],\n",
              "       [0.8008217 ],\n",
              "       [0.28423592],\n",
              "       [0.77292824],\n",
              "       [0.19375858],\n",
              "       [0.73944914],\n",
              "       [0.27750438],\n",
              "       [0.252438  ],\n",
              "       [0.19375858],\n",
              "       [0.51912266],\n",
              "       [0.39442465],\n",
              "       [0.17644331],\n",
              "       [0.17170562],\n",
              "       [0.16541997],\n",
              "       [0.75053316],\n",
              "       [0.59023124],\n",
              "       [0.24068332]], dtype=float32)"
            ]
          },
          "metadata": {},
          "execution_count": 20
        }
      ]
    },
    {
      "cell_type": "code",
      "source": [
        "y_pclass = np.where(y_pred>=0.5,1,0)\n",
        "confusion_matrix = metrics.confusion_matrix(y_test,y_pclass)\n",
        "cm_display = metrics.ConfusionMatrixDisplay(confusion_matrix = confusion_matrix, display_labels = [0,1])\n",
        "cm_display.plot(cmap=plt.cm.Blues,values_format='g')\n",
        "plt.show()\n",
        "print(accuracy_score(y_test, y_pclass))\n",
        "NNmean = round(accuracy_score(y_test, y_pclass))"
      ],
      "metadata": {
        "colab": {
          "base_uri": "https://localhost:8080/",
          "height": 296
        },
        "id": "t8RM2j2OPXz2",
        "outputId": "42e95023-2b71-4eab-ecff-a4db911a3bbf"
      },
      "execution_count": 21,
      "outputs": [
        {
          "output_type": "display_data",
          "data": {
            "text/plain": [
              "<Figure size 432x288 with 2 Axes>"
            ],
            "image/png": "[encoded data removed]"
          },
          "metadata": {
            "needs_background": "light"
          }
        },
        {
          "output_type": "stream",
          "name": "stdout",
          "text": [
            "0.9090909090909091\n"
          ]
        }
      ]
    },
    {
      "cell_type": "code",
      "source": [
        "TP = confusion_matrix[0,0]\n",
        "TN = confusion_matrix[1,1]\n",
        "FP = confusion_matrix[0,1]\n",
        "FN = confusion_matrix[1,0]\n",
        "# Accuracy\n",
        "classification_accuracy = ((TP + TN) / float(TP + TN + FP + FN)*100)\n",
        "\n",
        "print('Accuracy : {0:0.2f}'.format(classification_accuracy),'%')\n",
        "# Classification Error\n",
        "classification_error = ((FP + FN) / float(TP + TN + FP + FN)*100)\n",
        "\n",
        "print('Classification error : {0:0.2f}'.format(classification_error),'%')\n",
        "#Recall\n",
        "\n",
        "recall = (TP / float(TP + FN)*100)\n",
        "\n",
        "print('Recall : {0:0.2f}'.format(recall),\"%\")\n",
        "\n",
        "# Precision\n",
        "precision = (TP / float(TP + FP)*100)\n",
        "\n",
        "print('Precision : {0:0.2f}'.format(precision),\"%\")\n",
        "\n",
        "# Specificity\n",
        "\n",
        "specificity = (TN / (TN + FP)*100)\n",
        "\n",
        "print('Specificity : {0:0.2f}'.format(specificity),'%')\n",
        "# Sensitivity\n",
        "\n",
        "Sensitivity = (TP / (TP + FN)*100)\n",
        "\n",
        "print('Sensitivity : {0:0.2f}'.format(Sensitivity),\"%\")\n",
        "# G Mean\n",
        "gmean = math.sqrt(specificity*Sensitivity)\n",
        "print('G Mean : {0:0.2f}'.format(gmean),'%')"
      ],
      "metadata": {
        "colab": {
          "base_uri": "https://localhost:8080/"
        },
        "id": "Mv6_LBUgQrAo",
        "outputId": "72a99df0-724b-4081-bcfa-f8ced95cf5e5"
      },
      "execution_count": 22,
      "outputs": [
        {
          "output_type": "stream",
          "name": "stdout",
          "text": [
            "Accuracy : 90.91 %\n",
            "Classification error : 9.09 %\n",
            "Recall : 91.07 %\n",
            "Precision : 91.07 %\n",
            "Specificity : 90.74 %\n",
            "Sensitivity : 91.07 %\n",
            "G Mean : 90.91 %\n"
          ]
        }
      ]
    }
  ]
}